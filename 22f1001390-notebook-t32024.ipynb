{
 "cells": [
  {
   "cell_type": "markdown",
   "id": "546c3291",
   "metadata": {
    "papermill": {
     "duration": 0.03999,
     "end_time": "2024-11-30T18:09:13.340012",
     "exception": false,
     "start_time": "2024-11-30T18:09:13.300022",
     "status": "completed"
    },
    "tags": []
   },
   "source": [
    "# Dummy Code Of Kaggle"
   ]
  },
  {
   "cell_type": "code",
   "execution_count": 1,
   "id": "1bc59700",
   "metadata": {
    "_cell_guid": "b1076dfc-b9ad-4769-8c92-a6c4dae69d19",
    "_uuid": "8f2839f25d086af736a60e9eeb907d3b93b6e0e5",
    "execution": {
     "iopub.execute_input": "2024-11-30T18:09:13.418671Z",
     "iopub.status.busy": "2024-11-30T18:09:13.417576Z",
     "iopub.status.idle": "2024-11-30T18:09:14.259165Z",
     "shell.execute_reply": "2024-11-30T18:09:14.257828Z"
    },
    "papermill": {
     "duration": 0.883302,
     "end_time": "2024-11-30T18:09:14.261409",
     "exception": false,
     "start_time": "2024-11-30T18:09:13.378107",
     "status": "completed"
    },
    "tags": []
   },
   "outputs": [
    {
     "name": "stdout",
     "output_type": "stream",
     "text": [
      "/kaggle/input/predict-the-success-of-bank-telemarketing/sample_submission.csv\n",
      "/kaggle/input/predict-the-success-of-bank-telemarketing/train.csv\n",
      "/kaggle/input/predict-the-success-of-bank-telemarketing/test.csv\n"
     ]
    }
   ],
   "source": [
    "# This Python 3 environment comes with many helpful analytics libraries installed\n",
    "# It is defined by the kaggle/python Docker image: https://github.com/kaggle/docker-python\n",
    "# For example, here's several helpful packages to load\n",
    "\n",
    "import numpy as np # linear algebra\n",
    "import pandas as pd # data processing, CSV file I/O (e.g. pd.read_csv)\n",
    "\n",
    "# Input data files are available in the read-only \"../input/\" directory\n",
    "# For example, running this (by clicking run or pressing Shift+Enter) will list all files under the input directory\n",
    "\n",
    "import os\n",
    "for dirname, _, filenames in os.walk('/kaggle/input'):\n",
    "    for filename in filenames:\n",
    "        print(os.path.join(dirname, filename))\n",
    "\n",
    "# You can write up to 20GB to the current directory (/kaggle/working/) that gets preserved as output when you create a version using \"Save & Run All\" \n",
    "# You can also write temporary files to /kaggle/temp/, but they won't be saved outside of the current session"
   ]
  },
  {
   "cell_type": "markdown",
   "id": "37195f39",
   "metadata": {
    "papermill": {
     "duration": 0.03752,
     "end_time": "2024-11-30T18:09:14.337174",
     "exception": false,
     "start_time": "2024-11-30T18:09:14.299654",
     "status": "completed"
    },
    "tags": []
   },
   "source": [
    "# DATA LOADING"
   ]
  },
  {
   "cell_type": "markdown",
   "id": "9a0adde7",
   "metadata": {
    "papermill": {
     "duration": 0.037491,
     "end_time": "2024-11-30T18:09:14.412196",
     "exception": false,
     "start_time": "2024-11-30T18:09:14.374705",
     "status": "completed"
    },
    "tags": []
   },
   "source": [
    "**1. Importing Necessary Libraries**"
   ]
  },
  {
   "cell_type": "code",
   "execution_count": 2,
   "id": "5b9337b5",
   "metadata": {
    "execution": {
     "iopub.execute_input": "2024-11-30T18:09:14.492010Z",
     "iopub.status.busy": "2024-11-30T18:09:14.491456Z",
     "iopub.status.idle": "2024-11-30T18:09:16.099686Z",
     "shell.execute_reply": "2024-11-30T18:09:16.098706Z"
    },
    "papermill": {
     "duration": 1.651605,
     "end_time": "2024-11-30T18:09:16.102011",
     "exception": false,
     "start_time": "2024-11-30T18:09:14.450406",
     "status": "completed"
    },
    "tags": []
   },
   "outputs": [],
   "source": [
    "import numpy as np\n",
    "import pandas as pd\n",
    "import matplotlib.pyplot as plt\n",
    "import seaborn as sns"
   ]
  },
  {
   "cell_type": "markdown",
   "id": "322cf982",
   "metadata": {
    "papermill": {
     "duration": 0.038367,
     "end_time": "2024-11-30T18:09:16.180063",
     "exception": false,
     "start_time": "2024-11-30T18:09:16.141696",
     "status": "completed"
    },
    "tags": []
   },
   "source": [
    "**2. Loading and Previewing the Dataset**"
   ]
  },
  {
   "cell_type": "code",
   "execution_count": 3,
   "id": "4e1b5086",
   "metadata": {
    "execution": {
     "iopub.execute_input": "2024-11-30T18:09:16.257619Z",
     "iopub.status.busy": "2024-11-30T18:09:16.257098Z",
     "iopub.status.idle": "2024-11-30T18:09:16.447328Z",
     "shell.execute_reply": "2024-11-30T18:09:16.446032Z"
    },
    "papermill": {
     "duration": 0.232258,
     "end_time": "2024-11-30T18:09:16.449656",
     "exception": false,
     "start_time": "2024-11-30T18:09:16.217398",
     "status": "completed"
    },
    "tags": []
   },
   "outputs": [
    {
     "data": {
      "text/html": [
       "<div>\n",
       "<style scoped>\n",
       "    .dataframe tbody tr th:only-of-type {\n",
       "        vertical-align: middle;\n",
       "    }\n",
       "\n",
       "    .dataframe tbody tr th {\n",
       "        vertical-align: top;\n",
       "    }\n",
       "\n",
       "    .dataframe thead th {\n",
       "        text-align: right;\n",
       "    }\n",
       "</style>\n",
       "<table border=\"1\" class=\"dataframe\">\n",
       "  <thead>\n",
       "    <tr style=\"text-align: right;\">\n",
       "      <th></th>\n",
       "      <th>last contact date</th>\n",
       "      <th>age</th>\n",
       "      <th>job</th>\n",
       "      <th>marital</th>\n",
       "      <th>education</th>\n",
       "      <th>default</th>\n",
       "      <th>balance</th>\n",
       "      <th>housing</th>\n",
       "      <th>loan</th>\n",
       "      <th>contact</th>\n",
       "      <th>duration</th>\n",
       "      <th>campaign</th>\n",
       "      <th>pdays</th>\n",
       "      <th>previous</th>\n",
       "      <th>poutcome</th>\n",
       "      <th>target</th>\n",
       "    </tr>\n",
       "  </thead>\n",
       "  <tbody>\n",
       "    <tr>\n",
       "      <th>0</th>\n",
       "      <td>2009-04-17</td>\n",
       "      <td>26</td>\n",
       "      <td>blue-collar</td>\n",
       "      <td>married</td>\n",
       "      <td>secondary</td>\n",
       "      <td>no</td>\n",
       "      <td>647</td>\n",
       "      <td>yes</td>\n",
       "      <td>no</td>\n",
       "      <td>cellular</td>\n",
       "      <td>357</td>\n",
       "      <td>2</td>\n",
       "      <td>331</td>\n",
       "      <td>1</td>\n",
       "      <td>other</td>\n",
       "      <td>no</td>\n",
       "    </tr>\n",
       "    <tr>\n",
       "      <th>1</th>\n",
       "      <td>2009-10-11</td>\n",
       "      <td>52</td>\n",
       "      <td>technician</td>\n",
       "      <td>married</td>\n",
       "      <td>secondary</td>\n",
       "      <td>no</td>\n",
       "      <td>553</td>\n",
       "      <td>yes</td>\n",
       "      <td>no</td>\n",
       "      <td>telephone</td>\n",
       "      <td>160</td>\n",
       "      <td>1</td>\n",
       "      <td>-1</td>\n",
       "      <td>0</td>\n",
       "      <td>NaN</td>\n",
       "      <td>no</td>\n",
       "    </tr>\n",
       "    <tr>\n",
       "      <th>2</th>\n",
       "      <td>2010-11-20</td>\n",
       "      <td>44</td>\n",
       "      <td>blue-collar</td>\n",
       "      <td>married</td>\n",
       "      <td>secondary</td>\n",
       "      <td>no</td>\n",
       "      <td>1397</td>\n",
       "      <td>no</td>\n",
       "      <td>no</td>\n",
       "      <td>cellular</td>\n",
       "      <td>326</td>\n",
       "      <td>1</td>\n",
       "      <td>-1</td>\n",
       "      <td>0</td>\n",
       "      <td>NaN</td>\n",
       "      <td>no</td>\n",
       "    </tr>\n",
       "    <tr>\n",
       "      <th>3</th>\n",
       "      <td>2009-09-01</td>\n",
       "      <td>33</td>\n",
       "      <td>admin.</td>\n",
       "      <td>married</td>\n",
       "      <td>secondary</td>\n",
       "      <td>no</td>\n",
       "      <td>394</td>\n",
       "      <td>yes</td>\n",
       "      <td>no</td>\n",
       "      <td>telephone</td>\n",
       "      <td>104</td>\n",
       "      <td>3</td>\n",
       "      <td>-1</td>\n",
       "      <td>0</td>\n",
       "      <td>NaN</td>\n",
       "      <td>no</td>\n",
       "    </tr>\n",
       "    <tr>\n",
       "      <th>4</th>\n",
       "      <td>2008-01-29</td>\n",
       "      <td>31</td>\n",
       "      <td>entrepreneur</td>\n",
       "      <td>single</td>\n",
       "      <td>tertiary</td>\n",
       "      <td>no</td>\n",
       "      <td>137</td>\n",
       "      <td>no</td>\n",
       "      <td>no</td>\n",
       "      <td>cellular</td>\n",
       "      <td>445</td>\n",
       "      <td>2</td>\n",
       "      <td>-1</td>\n",
       "      <td>0</td>\n",
       "      <td>NaN</td>\n",
       "      <td>no</td>\n",
       "    </tr>\n",
       "    <tr>\n",
       "      <th>5</th>\n",
       "      <td>2009-05-07</td>\n",
       "      <td>25</td>\n",
       "      <td>entrepreneur</td>\n",
       "      <td>single</td>\n",
       "      <td>tertiary</td>\n",
       "      <td>no</td>\n",
       "      <td>140</td>\n",
       "      <td>yes</td>\n",
       "      <td>no</td>\n",
       "      <td>cellular</td>\n",
       "      <td>348</td>\n",
       "      <td>1</td>\n",
       "      <td>-1</td>\n",
       "      <td>0</td>\n",
       "      <td>NaN</td>\n",
       "      <td>no</td>\n",
       "    </tr>\n",
       "    <tr>\n",
       "      <th>6</th>\n",
       "      <td>2009-05-15</td>\n",
       "      <td>46</td>\n",
       "      <td>blue-collar</td>\n",
       "      <td>married</td>\n",
       "      <td>secondary</td>\n",
       "      <td>no</td>\n",
       "      <td>668</td>\n",
       "      <td>yes</td>\n",
       "      <td>no</td>\n",
       "      <td>NaN</td>\n",
       "      <td>1263</td>\n",
       "      <td>2</td>\n",
       "      <td>-1</td>\n",
       "      <td>0</td>\n",
       "      <td>NaN</td>\n",
       "      <td>yes</td>\n",
       "    </tr>\n",
       "    <tr>\n",
       "      <th>7</th>\n",
       "      <td>2010-05-08</td>\n",
       "      <td>37</td>\n",
       "      <td>admin.</td>\n",
       "      <td>married</td>\n",
       "      <td>secondary</td>\n",
       "      <td>no</td>\n",
       "      <td>14</td>\n",
       "      <td>yes</td>\n",
       "      <td>no</td>\n",
       "      <td>NaN</td>\n",
       "      <td>176</td>\n",
       "      <td>2</td>\n",
       "      <td>-1</td>\n",
       "      <td>0</td>\n",
       "      <td>NaN</td>\n",
       "      <td>no</td>\n",
       "    </tr>\n",
       "    <tr>\n",
       "      <th>8</th>\n",
       "      <td>2008-12-13</td>\n",
       "      <td>38</td>\n",
       "      <td>unemployed</td>\n",
       "      <td>divorced</td>\n",
       "      <td>primary</td>\n",
       "      <td>yes</td>\n",
       "      <td>14123</td>\n",
       "      <td>yes</td>\n",
       "      <td>yes</td>\n",
       "      <td>cellular</td>\n",
       "      <td>2370</td>\n",
       "      <td>4</td>\n",
       "      <td>852</td>\n",
       "      <td>4</td>\n",
       "      <td>other</td>\n",
       "      <td>no</td>\n",
       "    </tr>\n",
       "    <tr>\n",
       "      <th>9</th>\n",
       "      <td>2010-05-21</td>\n",
       "      <td>31</td>\n",
       "      <td>technician</td>\n",
       "      <td>married</td>\n",
       "      <td>secondary</td>\n",
       "      <td>no</td>\n",
       "      <td>589</td>\n",
       "      <td>yes</td>\n",
       "      <td>yes</td>\n",
       "      <td>NaN</td>\n",
       "      <td>151</td>\n",
       "      <td>1</td>\n",
       "      <td>-1</td>\n",
       "      <td>0</td>\n",
       "      <td>NaN</td>\n",
       "      <td>no</td>\n",
       "    </tr>\n",
       "    <tr>\n",
       "      <th>10</th>\n",
       "      <td>2008-08-19</td>\n",
       "      <td>32</td>\n",
       "      <td>management</td>\n",
       "      <td>single</td>\n",
       "      <td>tertiary</td>\n",
       "      <td>no</td>\n",
       "      <td>1625</td>\n",
       "      <td>yes</td>\n",
       "      <td>no</td>\n",
       "      <td>cellular</td>\n",
       "      <td>451</td>\n",
       "      <td>6</td>\n",
       "      <td>-1</td>\n",
       "      <td>0</td>\n",
       "      <td>NaN</td>\n",
       "      <td>no</td>\n",
       "    </tr>\n",
       "    <tr>\n",
       "      <th>11</th>\n",
       "      <td>2009-05-15</td>\n",
       "      <td>46</td>\n",
       "      <td>management</td>\n",
       "      <td>single</td>\n",
       "      <td>secondary</td>\n",
       "      <td>no</td>\n",
       "      <td>244</td>\n",
       "      <td>yes</td>\n",
       "      <td>no</td>\n",
       "      <td>NaN</td>\n",
       "      <td>244</td>\n",
       "      <td>1</td>\n",
       "      <td>-1</td>\n",
       "      <td>0</td>\n",
       "      <td>NaN</td>\n",
       "      <td>no</td>\n",
       "    </tr>\n",
       "    <tr>\n",
       "      <th>12</th>\n",
       "      <td>2009-12-28</td>\n",
       "      <td>38</td>\n",
       "      <td>entrepreneur</td>\n",
       "      <td>divorced</td>\n",
       "      <td>tertiary</td>\n",
       "      <td>yes</td>\n",
       "      <td>50281</td>\n",
       "      <td>no</td>\n",
       "      <td>yes</td>\n",
       "      <td>cellular</td>\n",
       "      <td>4575</td>\n",
       "      <td>45</td>\n",
       "      <td>661</td>\n",
       "      <td>143</td>\n",
       "      <td>failure</td>\n",
       "      <td>yes</td>\n",
       "    </tr>\n",
       "    <tr>\n",
       "      <th>13</th>\n",
       "      <td>2008-07-07</td>\n",
       "      <td>31</td>\n",
       "      <td>services</td>\n",
       "      <td>married</td>\n",
       "      <td>secondary</td>\n",
       "      <td>no</td>\n",
       "      <td>132</td>\n",
       "      <td>no</td>\n",
       "      <td>no</td>\n",
       "      <td>cellular</td>\n",
       "      <td>148</td>\n",
       "      <td>1</td>\n",
       "      <td>152</td>\n",
       "      <td>1</td>\n",
       "      <td>other</td>\n",
       "      <td>no</td>\n",
       "    </tr>\n",
       "    <tr>\n",
       "      <th>14</th>\n",
       "      <td>2008-05-07</td>\n",
       "      <td>33</td>\n",
       "      <td>management</td>\n",
       "      <td>single</td>\n",
       "      <td>tertiary</td>\n",
       "      <td>no</td>\n",
       "      <td>54</td>\n",
       "      <td>no</td>\n",
       "      <td>no</td>\n",
       "      <td>NaN</td>\n",
       "      <td>262</td>\n",
       "      <td>2</td>\n",
       "      <td>-1</td>\n",
       "      <td>0</td>\n",
       "      <td>NaN</td>\n",
       "      <td>no</td>\n",
       "    </tr>\n",
       "    <tr>\n",
       "      <th>15</th>\n",
       "      <td>2009-05-06</td>\n",
       "      <td>28</td>\n",
       "      <td>technician</td>\n",
       "      <td>single</td>\n",
       "      <td>tertiary</td>\n",
       "      <td>no</td>\n",
       "      <td>875</td>\n",
       "      <td>yes</td>\n",
       "      <td>no</td>\n",
       "      <td>cellular</td>\n",
       "      <td>55</td>\n",
       "      <td>1</td>\n",
       "      <td>-1</td>\n",
       "      <td>0</td>\n",
       "      <td>NaN</td>\n",
       "      <td>no</td>\n",
       "    </tr>\n",
       "    <tr>\n",
       "      <th>16</th>\n",
       "      <td>2009-04-07</td>\n",
       "      <td>25</td>\n",
       "      <td>admin.</td>\n",
       "      <td>single</td>\n",
       "      <td>secondary</td>\n",
       "      <td>no</td>\n",
       "      <td>82</td>\n",
       "      <td>no</td>\n",
       "      <td>yes</td>\n",
       "      <td>cellular</td>\n",
       "      <td>104</td>\n",
       "      <td>2</td>\n",
       "      <td>-1</td>\n",
       "      <td>0</td>\n",
       "      <td>NaN</td>\n",
       "      <td>yes</td>\n",
       "    </tr>\n",
       "    <tr>\n",
       "      <th>17</th>\n",
       "      <td>2009-05-20</td>\n",
       "      <td>37</td>\n",
       "      <td>blue-collar</td>\n",
       "      <td>married</td>\n",
       "      <td>secondary</td>\n",
       "      <td>no</td>\n",
       "      <td>32</td>\n",
       "      <td>yes</td>\n",
       "      <td>no</td>\n",
       "      <td>NaN</td>\n",
       "      <td>146</td>\n",
       "      <td>2</td>\n",
       "      <td>-1</td>\n",
       "      <td>0</td>\n",
       "      <td>NaN</td>\n",
       "      <td>no</td>\n",
       "    </tr>\n",
       "    <tr>\n",
       "      <th>18</th>\n",
       "      <td>2010-06-06</td>\n",
       "      <td>34</td>\n",
       "      <td>blue-collar</td>\n",
       "      <td>married</td>\n",
       "      <td>secondary</td>\n",
       "      <td>no</td>\n",
       "      <td>291</td>\n",
       "      <td>yes</td>\n",
       "      <td>no</td>\n",
       "      <td>NaN</td>\n",
       "      <td>111</td>\n",
       "      <td>5</td>\n",
       "      <td>-1</td>\n",
       "      <td>0</td>\n",
       "      <td>NaN</td>\n",
       "      <td>no</td>\n",
       "    </tr>\n",
       "    <tr>\n",
       "      <th>19</th>\n",
       "      <td>2009-10-30</td>\n",
       "      <td>86</td>\n",
       "      <td>student</td>\n",
       "      <td>divorced</td>\n",
       "      <td>primary</td>\n",
       "      <td>yes</td>\n",
       "      <td>22272</td>\n",
       "      <td>no</td>\n",
       "      <td>no</td>\n",
       "      <td>cellular</td>\n",
       "      <td>283</td>\n",
       "      <td>44</td>\n",
       "      <td>599</td>\n",
       "      <td>234</td>\n",
       "      <td>success</td>\n",
       "      <td>no</td>\n",
       "    </tr>\n",
       "  </tbody>\n",
       "</table>\n",
       "</div>"
      ],
      "text/plain": [
       "   last contact date  age           job   marital  education default  balance  \\\n",
       "0         2009-04-17   26   blue-collar   married  secondary      no      647   \n",
       "1         2009-10-11   52    technician   married  secondary      no      553   \n",
       "2         2010-11-20   44   blue-collar   married  secondary      no     1397   \n",
       "3         2009-09-01   33        admin.   married  secondary      no      394   \n",
       "4         2008-01-29   31  entrepreneur    single   tertiary      no      137   \n",
       "5         2009-05-07   25  entrepreneur    single   tertiary      no      140   \n",
       "6         2009-05-15   46   blue-collar   married  secondary      no      668   \n",
       "7         2010-05-08   37        admin.   married  secondary      no       14   \n",
       "8         2008-12-13   38    unemployed  divorced    primary     yes    14123   \n",
       "9         2010-05-21   31    technician   married  secondary      no      589   \n",
       "10        2008-08-19   32    management    single   tertiary      no     1625   \n",
       "11        2009-05-15   46    management    single  secondary      no      244   \n",
       "12        2009-12-28   38  entrepreneur  divorced   tertiary     yes    50281   \n",
       "13        2008-07-07   31      services   married  secondary      no      132   \n",
       "14        2008-05-07   33    management    single   tertiary      no       54   \n",
       "15        2009-05-06   28    technician    single   tertiary      no      875   \n",
       "16        2009-04-07   25        admin.    single  secondary      no       82   \n",
       "17        2009-05-20   37   blue-collar   married  secondary      no       32   \n",
       "18        2010-06-06   34   blue-collar   married  secondary      no      291   \n",
       "19        2009-10-30   86       student  divorced    primary     yes    22272   \n",
       "\n",
       "   housing loan    contact  duration  campaign  pdays  previous poutcome  \\\n",
       "0      yes   no   cellular       357         2    331         1    other   \n",
       "1      yes   no  telephone       160         1     -1         0      NaN   \n",
       "2       no   no   cellular       326         1     -1         0      NaN   \n",
       "3      yes   no  telephone       104         3     -1         0      NaN   \n",
       "4       no   no   cellular       445         2     -1         0      NaN   \n",
       "5      yes   no   cellular       348         1     -1         0      NaN   \n",
       "6      yes   no        NaN      1263         2     -1         0      NaN   \n",
       "7      yes   no        NaN       176         2     -1         0      NaN   \n",
       "8      yes  yes   cellular      2370         4    852         4    other   \n",
       "9      yes  yes        NaN       151         1     -1         0      NaN   \n",
       "10     yes   no   cellular       451         6     -1         0      NaN   \n",
       "11     yes   no        NaN       244         1     -1         0      NaN   \n",
       "12      no  yes   cellular      4575        45    661       143  failure   \n",
       "13      no   no   cellular       148         1    152         1    other   \n",
       "14      no   no        NaN       262         2     -1         0      NaN   \n",
       "15     yes   no   cellular        55         1     -1         0      NaN   \n",
       "16      no  yes   cellular       104         2     -1         0      NaN   \n",
       "17     yes   no        NaN       146         2     -1         0      NaN   \n",
       "18     yes   no        NaN       111         5     -1         0      NaN   \n",
       "19      no   no   cellular       283        44    599       234  success   \n",
       "\n",
       "   target  \n",
       "0      no  \n",
       "1      no  \n",
       "2      no  \n",
       "3      no  \n",
       "4      no  \n",
       "5      no  \n",
       "6     yes  \n",
       "7      no  \n",
       "8      no  \n",
       "9      no  \n",
       "10     no  \n",
       "11     no  \n",
       "12    yes  \n",
       "13     no  \n",
       "14     no  \n",
       "15     no  \n",
       "16    yes  \n",
       "17     no  \n",
       "18     no  \n",
       "19     no  "
      ]
     },
     "execution_count": 3,
     "metadata": {},
     "output_type": "execute_result"
    }
   ],
   "source": [
    "train =  pd.read_csv(\"/kaggle/input/predict-the-success-of-bank-telemarketing/train.csv\")\n",
    "test = pd.read_csv('/kaggle/input/predict-the-success-of-bank-telemarketing/test.csv')\n",
    "train.head(20)\n"
   ]
  },
  {
   "cell_type": "markdown",
   "id": "8b1b7835",
   "metadata": {
    "papermill": {
     "duration": 0.037669,
     "end_time": "2024-11-30T18:09:16.575771",
     "exception": false,
     "start_time": "2024-11-30T18:09:16.538102",
     "status": "completed"
    },
    "tags": []
   },
   "source": [
    "# Exploratory Data Analysis (EDA)"
   ]
  },
  {
   "cell_type": "markdown",
   "id": "385b7b58",
   "metadata": {
    "papermill": {
     "duration": 0.037936,
     "end_time": "2024-11-30T18:09:16.651652",
     "exception": false,
     "start_time": "2024-11-30T18:09:16.613716",
     "status": "completed"
    },
    "tags": []
   },
   "source": [
    "**3. Checking Unique Values in the Target Column**"
   ]
  },
  {
   "cell_type": "code",
   "execution_count": 4,
   "id": "f00d7bfc",
   "metadata": {
    "execution": {
     "iopub.execute_input": "2024-11-30T18:09:16.730947Z",
     "iopub.status.busy": "2024-11-30T18:09:16.730407Z",
     "iopub.status.idle": "2024-11-30T18:09:16.744579Z",
     "shell.execute_reply": "2024-11-30T18:09:16.743176Z"
    },
    "papermill": {
     "duration": 0.056462,
     "end_time": "2024-11-30T18:09:16.747005",
     "exception": false,
     "start_time": "2024-11-30T18:09:16.690543",
     "status": "completed"
    },
    "tags": []
   },
   "outputs": [
    {
     "data": {
      "text/plain": [
       "array(['no', 'yes'], dtype=object)"
      ]
     },
     "execution_count": 4,
     "metadata": {},
     "output_type": "execute_result"
    }
   ],
   "source": [
    "train['target'].unique()"
   ]
  },
  {
   "cell_type": "markdown",
   "id": "76b186e0",
   "metadata": {
    "papermill": {
     "duration": 0.038552,
     "end_time": "2024-11-30T18:09:16.826366",
     "exception": false,
     "start_time": "2024-11-30T18:09:16.787814",
     "status": "completed"
    },
    "tags": []
   },
   "source": [
    "So, it is a binary classification problem."
   ]
  },
  {
   "cell_type": "markdown",
   "id": "c1714a61",
   "metadata": {
    "papermill": {
     "duration": 0.037653,
     "end_time": "2024-11-30T18:09:16.904392",
     "exception": false,
     "start_time": "2024-11-30T18:09:16.866739",
     "status": "completed"
    },
    "tags": []
   },
   "source": [
    "**4. Checking Distribution of Target Variable**"
   ]
  },
  {
   "cell_type": "code",
   "execution_count": 5,
   "id": "d90a4a87",
   "metadata": {
    "execution": {
     "iopub.execute_input": "2024-11-30T18:09:16.981701Z",
     "iopub.status.busy": "2024-11-30T18:09:16.981362Z",
     "iopub.status.idle": "2024-11-30T18:09:16.995948Z",
     "shell.execute_reply": "2024-11-30T18:09:16.994958Z"
    },
    "papermill": {
     "duration": 0.055776,
     "end_time": "2024-11-30T18:09:16.998023",
     "exception": false,
     "start_time": "2024-11-30T18:09:16.942247",
     "status": "completed"
    },
    "tags": []
   },
   "outputs": [
    {
     "data": {
      "text/plain": [
       "target\n",
       "no     33384\n",
       "yes     5827\n",
       "Name: count, dtype: int64"
      ]
     },
     "execution_count": 5,
     "metadata": {},
     "output_type": "execute_result"
    }
   ],
   "source": [
    "train['target'].value_counts()"
   ]
  },
  {
   "cell_type": "markdown",
   "id": "497b175f",
   "metadata": {
    "papermill": {
     "duration": 0.040475,
     "end_time": "2024-11-30T18:09:17.077594",
     "exception": false,
     "start_time": "2024-11-30T18:09:17.037119",
     "status": "completed"
    },
    "tags": []
   },
   "source": [
    "So, the Dataset is **highly imbalanced**."
   ]
  },
  {
   "cell_type": "markdown",
   "id": "b86dbf8e",
   "metadata": {
    "papermill": {
     "duration": 0.039172,
     "end_time": "2024-11-30T18:09:17.156481",
     "exception": false,
     "start_time": "2024-11-30T18:09:17.117309",
     "status": "completed"
    },
    "tags": []
   },
   "source": [
    "**5. Checking Dataset Dimensions**"
   ]
  },
  {
   "cell_type": "code",
   "execution_count": 6,
   "id": "d95a8439",
   "metadata": {
    "execution": {
     "iopub.execute_input": "2024-11-30T18:09:17.236775Z",
     "iopub.status.busy": "2024-11-30T18:09:17.236027Z",
     "iopub.status.idle": "2024-11-30T18:09:17.242726Z",
     "shell.execute_reply": "2024-11-30T18:09:17.241627Z"
    },
    "papermill": {
     "duration": 0.049425,
     "end_time": "2024-11-30T18:09:17.244992",
     "exception": false,
     "start_time": "2024-11-30T18:09:17.195567",
     "status": "completed"
    },
    "tags": []
   },
   "outputs": [
    {
     "data": {
      "text/plain": [
       "(39211, 16)"
      ]
     },
     "execution_count": 6,
     "metadata": {},
     "output_type": "execute_result"
    }
   ],
   "source": [
    "train.shape"
   ]
  },
  {
   "cell_type": "markdown",
   "id": "0baace78",
   "metadata": {
    "papermill": {
     "duration": 0.038356,
     "end_time": "2024-11-30T18:09:17.322399",
     "exception": false,
     "start_time": "2024-11-30T18:09:17.284043",
     "status": "completed"
    },
    "tags": []
   },
   "source": [
    "**6. Checking for Missing Values in the Dataset**"
   ]
  },
  {
   "cell_type": "code",
   "execution_count": 7,
   "id": "4d6a94e8",
   "metadata": {
    "execution": {
     "iopub.execute_input": "2024-11-30T18:09:17.401400Z",
     "iopub.status.busy": "2024-11-30T18:09:17.401043Z",
     "iopub.status.idle": "2024-11-30T18:09:17.428943Z",
     "shell.execute_reply": "2024-11-30T18:09:17.427847Z"
    },
    "papermill": {
     "duration": 0.069974,
     "end_time": "2024-11-30T18:09:17.431094",
     "exception": false,
     "start_time": "2024-11-30T18:09:17.361120",
     "status": "completed"
    },
    "tags": []
   },
   "outputs": [
    {
     "data": {
      "text/plain": [
       "last contact date        0\n",
       "age                      0\n",
       "job                    229\n",
       "marital                  0\n",
       "education             1467\n",
       "default                  0\n",
       "balance                  0\n",
       "housing                  0\n",
       "loan                     0\n",
       "contact              10336\n",
       "duration                 0\n",
       "campaign                 0\n",
       "pdays                    0\n",
       "previous                 0\n",
       "poutcome             29451\n",
       "target                   0\n",
       "dtype: int64"
      ]
     },
     "execution_count": 7,
     "metadata": {},
     "output_type": "execute_result"
    }
   ],
   "source": [
    "train.isnull().sum()"
   ]
  },
  {
   "cell_type": "markdown",
   "id": "dfb524d4",
   "metadata": {
    "papermill": {
     "duration": 0.038241,
     "end_time": "2024-11-30T18:09:17.508288",
     "exception": false,
     "start_time": "2024-11-30T18:09:17.470047",
     "status": "completed"
    },
    "tags": []
   },
   "source": [
    "So. here we can see that in the column name 'contact' there is more than 25% values are missing and in the column name 'poutcome' there is more than 75% values are missing."
   ]
  },
  {
   "cell_type": "markdown",
   "id": "e31c2642",
   "metadata": {
    "papermill": {
     "duration": 0.03792,
     "end_time": "2024-11-30T18:09:17.584834",
     "exception": false,
     "start_time": "2024-11-30T18:09:17.546914",
     "status": "completed"
    },
    "tags": []
   },
   "source": [
    "**7. Checking Datatypes of Columns**"
   ]
  },
  {
   "cell_type": "code",
   "execution_count": 8,
   "id": "2d73d26c",
   "metadata": {
    "execution": {
     "iopub.execute_input": "2024-11-30T18:09:17.664042Z",
     "iopub.status.busy": "2024-11-30T18:09:17.663657Z",
     "iopub.status.idle": "2024-11-30T18:09:17.671740Z",
     "shell.execute_reply": "2024-11-30T18:09:17.670708Z"
    },
    "papermill": {
     "duration": 0.049803,
     "end_time": "2024-11-30T18:09:17.673816",
     "exception": false,
     "start_time": "2024-11-30T18:09:17.624013",
     "status": "completed"
    },
    "tags": []
   },
   "outputs": [
    {
     "data": {
      "text/plain": [
       "last contact date    object\n",
       "age                   int64\n",
       "job                  object\n",
       "marital              object\n",
       "education            object\n",
       "default              object\n",
       "balance               int64\n",
       "housing              object\n",
       "loan                 object\n",
       "contact              object\n",
       "duration              int64\n",
       "campaign              int64\n",
       "pdays                 int64\n",
       "previous              int64\n",
       "poutcome             object\n",
       "target               object\n",
       "dtype: object"
      ]
     },
     "execution_count": 8,
     "metadata": {},
     "output_type": "execute_result"
    }
   ],
   "source": [
    "train.dtypes"
   ]
  },
  {
   "cell_type": "markdown",
   "id": "4c40112f",
   "metadata": {
    "papermill": {
     "duration": 0.038582,
     "end_time": "2024-11-30T18:09:17.751982",
     "exception": false,
     "start_time": "2024-11-30T18:09:17.713400",
     "status": "completed"
    },
    "tags": []
   },
   "source": [
    "Here, we can see that,\n",
    "* Categorical Column :- last contact date, job, marital, education, default, housing, loan, contact, poutcome, target.\n",
    "* Numerical Column :- age, balance, duration, campaign, pdays, previous"
   ]
  },
  {
   "cell_type": "markdown",
   "id": "eafd95c0",
   "metadata": {
    "papermill": {
     "duration": 0.038838,
     "end_time": "2024-11-30T18:09:17.829721",
     "exception": false,
     "start_time": "2024-11-30T18:09:17.790883",
     "status": "completed"
    },
    "tags": []
   },
   "source": [
    "**Statistical Description**"
   ]
  },
  {
   "cell_type": "markdown",
   "id": "c659b2b5",
   "metadata": {
    "papermill": {
     "duration": 0.038859,
     "end_time": "2024-11-30T18:09:17.907925",
     "exception": false,
     "start_time": "2024-11-30T18:09:17.869066",
     "status": "completed"
    },
    "tags": []
   },
   "source": [
    "**8. Statistical Summary of the Dataset**"
   ]
  },
  {
   "cell_type": "code",
   "execution_count": 9,
   "id": "cee968db",
   "metadata": {
    "execution": {
     "iopub.execute_input": "2024-11-30T18:09:17.986867Z",
     "iopub.status.busy": "2024-11-30T18:09:17.986467Z",
     "iopub.status.idle": "2024-11-30T18:09:18.023427Z",
     "shell.execute_reply": "2024-11-30T18:09:18.022153Z"
    },
    "papermill": {
     "duration": 0.079432,
     "end_time": "2024-11-30T18:09:18.026058",
     "exception": false,
     "start_time": "2024-11-30T18:09:17.946626",
     "status": "completed"
    },
    "tags": []
   },
   "outputs": [
    {
     "data": {
      "text/html": [
       "<div>\n",
       "<style scoped>\n",
       "    .dataframe tbody tr th:only-of-type {\n",
       "        vertical-align: middle;\n",
       "    }\n",
       "\n",
       "    .dataframe tbody tr th {\n",
       "        vertical-align: top;\n",
       "    }\n",
       "\n",
       "    .dataframe thead th {\n",
       "        text-align: right;\n",
       "    }\n",
       "</style>\n",
       "<table border=\"1\" class=\"dataframe\">\n",
       "  <thead>\n",
       "    <tr style=\"text-align: right;\">\n",
       "      <th></th>\n",
       "      <th>age</th>\n",
       "      <th>balance</th>\n",
       "      <th>duration</th>\n",
       "      <th>campaign</th>\n",
       "      <th>pdays</th>\n",
       "      <th>previous</th>\n",
       "    </tr>\n",
       "  </thead>\n",
       "  <tbody>\n",
       "    <tr>\n",
       "      <th>count</th>\n",
       "      <td>39211.000000</td>\n",
       "      <td>39211.000000</td>\n",
       "      <td>39211.000000</td>\n",
       "      <td>39211.000000</td>\n",
       "      <td>39211.000000</td>\n",
       "      <td>39211.000000</td>\n",
       "    </tr>\n",
       "    <tr>\n",
       "      <th>mean</th>\n",
       "      <td>42.120247</td>\n",
       "      <td>5441.781719</td>\n",
       "      <td>439.062789</td>\n",
       "      <td>5.108770</td>\n",
       "      <td>72.256051</td>\n",
       "      <td>11.826171</td>\n",
       "    </tr>\n",
       "    <tr>\n",
       "      <th>std</th>\n",
       "      <td>12.709352</td>\n",
       "      <td>16365.292065</td>\n",
       "      <td>769.096291</td>\n",
       "      <td>9.890153</td>\n",
       "      <td>160.942593</td>\n",
       "      <td>44.140259</td>\n",
       "    </tr>\n",
       "    <tr>\n",
       "      <th>min</th>\n",
       "      <td>18.000000</td>\n",
       "      <td>-8019.000000</td>\n",
       "      <td>0.000000</td>\n",
       "      <td>1.000000</td>\n",
       "      <td>-1.000000</td>\n",
       "      <td>0.000000</td>\n",
       "    </tr>\n",
       "    <tr>\n",
       "      <th>25%</th>\n",
       "      <td>33.000000</td>\n",
       "      <td>98.000000</td>\n",
       "      <td>109.000000</td>\n",
       "      <td>1.000000</td>\n",
       "      <td>-1.000000</td>\n",
       "      <td>0.000000</td>\n",
       "    </tr>\n",
       "    <tr>\n",
       "      <th>50%</th>\n",
       "      <td>40.000000</td>\n",
       "      <td>549.000000</td>\n",
       "      <td>197.000000</td>\n",
       "      <td>2.000000</td>\n",
       "      <td>-1.000000</td>\n",
       "      <td>0.000000</td>\n",
       "    </tr>\n",
       "    <tr>\n",
       "      <th>75%</th>\n",
       "      <td>50.000000</td>\n",
       "      <td>2030.000000</td>\n",
       "      <td>380.000000</td>\n",
       "      <td>4.000000</td>\n",
       "      <td>-1.000000</td>\n",
       "      <td>0.000000</td>\n",
       "    </tr>\n",
       "    <tr>\n",
       "      <th>max</th>\n",
       "      <td>95.000000</td>\n",
       "      <td>102127.000000</td>\n",
       "      <td>4918.000000</td>\n",
       "      <td>63.000000</td>\n",
       "      <td>871.000000</td>\n",
       "      <td>275.000000</td>\n",
       "    </tr>\n",
       "  </tbody>\n",
       "</table>\n",
       "</div>"
      ],
      "text/plain": [
       "                age        balance      duration      campaign         pdays  \\\n",
       "count  39211.000000   39211.000000  39211.000000  39211.000000  39211.000000   \n",
       "mean      42.120247    5441.781719    439.062789      5.108770     72.256051   \n",
       "std       12.709352   16365.292065    769.096291      9.890153    160.942593   \n",
       "min       18.000000   -8019.000000      0.000000      1.000000     -1.000000   \n",
       "25%       33.000000      98.000000    109.000000      1.000000     -1.000000   \n",
       "50%       40.000000     549.000000    197.000000      2.000000     -1.000000   \n",
       "75%       50.000000    2030.000000    380.000000      4.000000     -1.000000   \n",
       "max       95.000000  102127.000000   4918.000000     63.000000    871.000000   \n",
       "\n",
       "           previous  \n",
       "count  39211.000000  \n",
       "mean      11.826171  \n",
       "std       44.140259  \n",
       "min        0.000000  \n",
       "25%        0.000000  \n",
       "50%        0.000000  \n",
       "75%        0.000000  \n",
       "max      275.000000  "
      ]
     },
     "execution_count": 9,
     "metadata": {},
     "output_type": "execute_result"
    }
   ],
   "source": [
    "train.describe()"
   ]
  },
  {
   "cell_type": "markdown",
   "id": "7eea0b14",
   "metadata": {
    "papermill": {
     "duration": 0.038522,
     "end_time": "2024-11-30T18:09:18.104725",
     "exception": false,
     "start_time": "2024-11-30T18:09:18.066203",
     "status": "completed"
    },
    "tags": []
   },
   "source": [
    "**9. Statistical Summary of Categorical Columns**"
   ]
  },
  {
   "cell_type": "code",
   "execution_count": 10,
   "id": "23201b41",
   "metadata": {
    "execution": {
     "iopub.execute_input": "2024-11-30T18:09:18.186992Z",
     "iopub.status.busy": "2024-11-30T18:09:18.186055Z",
     "iopub.status.idle": "2024-11-30T18:09:18.254474Z",
     "shell.execute_reply": "2024-11-30T18:09:18.253388Z"
    },
    "papermill": {
     "duration": 0.111628,
     "end_time": "2024-11-30T18:09:18.256901",
     "exception": false,
     "start_time": "2024-11-30T18:09:18.145273",
     "status": "completed"
    },
    "tags": []
   },
   "outputs": [
    {
     "data": {
      "text/html": [
       "<div>\n",
       "<style scoped>\n",
       "    .dataframe tbody tr th:only-of-type {\n",
       "        vertical-align: middle;\n",
       "    }\n",
       "\n",
       "    .dataframe tbody tr th {\n",
       "        vertical-align: top;\n",
       "    }\n",
       "\n",
       "    .dataframe thead th {\n",
       "        text-align: right;\n",
       "    }\n",
       "</style>\n",
       "<table border=\"1\" class=\"dataframe\">\n",
       "  <thead>\n",
       "    <tr style=\"text-align: right;\">\n",
       "      <th></th>\n",
       "      <th>last contact date</th>\n",
       "      <th>job</th>\n",
       "      <th>marital</th>\n",
       "      <th>education</th>\n",
       "      <th>default</th>\n",
       "      <th>housing</th>\n",
       "      <th>loan</th>\n",
       "      <th>contact</th>\n",
       "      <th>poutcome</th>\n",
       "      <th>target</th>\n",
       "    </tr>\n",
       "  </thead>\n",
       "  <tbody>\n",
       "    <tr>\n",
       "      <th>count</th>\n",
       "      <td>39211</td>\n",
       "      <td>38982</td>\n",
       "      <td>39211</td>\n",
       "      <td>37744</td>\n",
       "      <td>39211</td>\n",
       "      <td>39211</td>\n",
       "      <td>39211</td>\n",
       "      <td>28875</td>\n",
       "      <td>9760</td>\n",
       "      <td>39211</td>\n",
       "    </tr>\n",
       "    <tr>\n",
       "      <th>unique</th>\n",
       "      <td>1013</td>\n",
       "      <td>11</td>\n",
       "      <td>3</td>\n",
       "      <td>3</td>\n",
       "      <td>2</td>\n",
       "      <td>2</td>\n",
       "      <td>2</td>\n",
       "      <td>2</td>\n",
       "      <td>3</td>\n",
       "      <td>2</td>\n",
       "    </tr>\n",
       "    <tr>\n",
       "      <th>top</th>\n",
       "      <td>2009-05-15</td>\n",
       "      <td>blue-collar</td>\n",
       "      <td>married</td>\n",
       "      <td>secondary</td>\n",
       "      <td>no</td>\n",
       "      <td>yes</td>\n",
       "      <td>no</td>\n",
       "      <td>cellular</td>\n",
       "      <td>failure</td>\n",
       "      <td>no</td>\n",
       "    </tr>\n",
       "    <tr>\n",
       "      <th>freq</th>\n",
       "      <td>313</td>\n",
       "      <td>7776</td>\n",
       "      <td>22691</td>\n",
       "      <td>19584</td>\n",
       "      <td>36954</td>\n",
       "      <td>21657</td>\n",
       "      <td>31820</td>\n",
       "      <td>25030</td>\n",
       "      <td>4949</td>\n",
       "      <td>33384</td>\n",
       "    </tr>\n",
       "  </tbody>\n",
       "</table>\n",
       "</div>"
      ],
      "text/plain": [
       "       last contact date          job  marital  education default housing  \\\n",
       "count              39211        38982    39211      37744   39211   39211   \n",
       "unique              1013           11        3          3       2       2   \n",
       "top           2009-05-15  blue-collar  married  secondary      no     yes   \n",
       "freq                 313         7776    22691      19584   36954   21657   \n",
       "\n",
       "         loan   contact poutcome target  \n",
       "count   39211     28875     9760  39211  \n",
       "unique      2         2        3      2  \n",
       "top        no  cellular  failure     no  \n",
       "freq    31820     25030     4949  33384  "
      ]
     },
     "execution_count": 10,
     "metadata": {},
     "output_type": "execute_result"
    }
   ],
   "source": [
    "train.describe(include=['object'])"
   ]
  },
  {
   "cell_type": "markdown",
   "id": "14ee5d27",
   "metadata": {
    "papermill": {
     "duration": 0.038701,
     "end_time": "2024-11-30T18:09:18.334677",
     "exception": false,
     "start_time": "2024-11-30T18:09:18.295976",
     "status": "completed"
    },
    "tags": []
   },
   "source": [
    "**10. Correlation Heatmap of Numeric Features in the Training Data**"
   ]
  },
  {
   "cell_type": "code",
   "execution_count": 11,
   "id": "fb37e0c1",
   "metadata": {
    "execution": {
     "iopub.execute_input": "2024-11-30T18:09:18.415262Z",
     "iopub.status.busy": "2024-11-30T18:09:18.414869Z",
     "iopub.status.idle": "2024-11-30T18:09:18.866246Z",
     "shell.execute_reply": "2024-11-30T18:09:18.865183Z"
    },
    "papermill": {
     "duration": 0.494924,
     "end_time": "2024-11-30T18:09:18.868732",
     "exception": false,
     "start_time": "2024-11-30T18:09:18.373808",
     "status": "completed"
    },
    "tags": []
   },
   "outputs": [
    {
     "data": {
      "image/png": "[encoded data removed]",
      "text/plain": [
       "<Figure size 1200x1000 with 2 Axes>"
      ]
     },
     "metadata": {},
     "output_type": "display_data"
    }
   ],
   "source": [
    "import seaborn as sns\n",
    "import matplotlib.pyplot as plt\n",
    "df = train.copy()\n",
    "\n",
    "\n",
    "numeric_columns = df.select_dtypes(include=['int64']).columns\n",
    "\n",
    "\n",
    "correlation_matrix = df[numeric_columns].corr()\n",
    "\n",
    "\n",
    "plt.figure(figsize=(12, 10))\n",
    "sns.heatmap(correlation_matrix, annot=True, fmt=\".2f\", linewidths=.5)\n",
    "plt.title('Correlation Heatmap')\n",
    "plt.show()"
   ]
  },
  {
   "cell_type": "markdown",
   "id": "5234255b",
   "metadata": {
    "papermill": {
     "duration": 0.039568,
     "end_time": "2024-11-30T18:09:18.948544",
     "exception": false,
     "start_time": "2024-11-30T18:09:18.908976",
     "status": "completed"
    },
    "tags": []
   },
   "source": [
    "# Distribution of Age"
   ]
  },
  {
   "cell_type": "markdown",
   "id": "222efb67",
   "metadata": {
    "papermill": {
     "duration": 0.039362,
     "end_time": "2024-11-30T18:09:19.027675",
     "exception": false,
     "start_time": "2024-11-30T18:09:18.988313",
     "status": "completed"
    },
    "tags": []
   },
   "source": [
    "**11. Visualizing Age Distribution**"
   ]
  },
  {
   "cell_type": "code",
   "execution_count": 12,
   "id": "e8a7e4f4",
   "metadata": {
    "execution": {
     "iopub.execute_input": "2024-11-30T18:09:19.111121Z",
     "iopub.status.busy": "2024-11-30T18:09:19.110675Z",
     "iopub.status.idle": "2024-11-30T18:09:19.532539Z",
     "shell.execute_reply": "2024-11-30T18:09:19.531476Z"
    },
    "papermill": {
     "duration": 0.46563,
     "end_time": "2024-11-30T18:09:19.534715",
     "exception": false,
     "start_time": "2024-11-30T18:09:19.069085",
     "status": "completed"
    },
    "tags": []
   },
   "outputs": [
    {
     "name": "stderr",
     "output_type": "stream",
     "text": [
      "/opt/conda/lib/python3.10/site-packages/seaborn/_oldcore.py:1119: FutureWarning: use_inf_as_na option is deprecated and will be removed in a future version. Convert inf values to NaN before operating instead.\n",
      "  with pd.option_context('mode.use_inf_as_na', True):\n"
     ]
    },
    {
     "data": {
      "text/plain": [
       "Text(0.5, 1.0, 'Distribution of Age')"
      ]
     },
     "execution_count": 12,
     "metadata": {},
     "output_type": "execute_result"
    },
    {
     "data": {
      "image/png": "[encoded data removed]",
      "text/plain": [
       "<Figure size 640x480 with 1 Axes>"
      ]
     },
     "metadata": {},
     "output_type": "display_data"
    }
   ],
   "source": [
    "import seaborn as sns\n",
    "ax = sns.histplot(train,x=\"age\")\n",
    "ax.set_xlabel(\"Age\")\n",
    "ax.set_ylabel(\"Distribution\")\n",
    "ax.set_title(\"Distribution of Age\")"
   ]
  },
  {
   "cell_type": "markdown",
   "id": "07e21d8e",
   "metadata": {
    "papermill": {
     "duration": 0.040542,
     "end_time": "2024-11-30T18:09:19.616315",
     "exception": false,
     "start_time": "2024-11-30T18:09:19.575773",
     "status": "completed"
    },
    "tags": []
   },
   "source": [
    "The histogram shows that most individuals are concentrated between the ages of 25 and 45, with a gradual decline in frequency as age increases. Older age groups are less represented, indicating that the dataset has a younger population."
   ]
  },
  {
   "cell_type": "markdown",
   "id": "37b0aea4",
   "metadata": {
    "papermill": {
     "duration": 0.040486,
     "end_time": "2024-11-30T18:09:19.696945",
     "exception": false,
     "start_time": "2024-11-30T18:09:19.656459",
     "status": "completed"
    },
    "tags": []
   },
   "source": [
    "**12. Visualizing Age Distribution by Target Category**"
   ]
  },
  {
   "cell_type": "code",
   "execution_count": 13,
   "id": "af59d71d",
   "metadata": {
    "execution": {
     "iopub.execute_input": "2024-11-30T18:09:19.782060Z",
     "iopub.status.busy": "2024-11-30T18:09:19.781639Z",
     "iopub.status.idle": "2024-11-30T18:09:20.465644Z",
     "shell.execute_reply": "2024-11-30T18:09:20.464420Z"
    },
    "papermill": {
     "duration": 0.729452,
     "end_time": "2024-11-30T18:09:20.468853",
     "exception": false,
     "start_time": "2024-11-30T18:09:19.739401",
     "status": "completed"
    },
    "tags": []
   },
   "outputs": [
    {
     "name": "stderr",
     "output_type": "stream",
     "text": [
      "/opt/conda/lib/python3.10/site-packages/seaborn/_oldcore.py:1119: FutureWarning: use_inf_as_na option is deprecated and will be removed in a future version. Convert inf values to NaN before operating instead.\n",
      "  with pd.option_context('mode.use_inf_as_na', True):\n",
      "/opt/conda/lib/python3.10/site-packages/seaborn/_oldcore.py:1075: FutureWarning: When grouping with a length-1 list-like, you will need to pass a length-1 tuple to get_group in a future version of pandas. Pass `(name,)` instead of `name` to silence this warning.\n",
      "  data_subset = grouped_data.get_group(pd_key)\n",
      "/opt/conda/lib/python3.10/site-packages/seaborn/_oldcore.py:1075: FutureWarning: When grouping with a length-1 list-like, you will need to pass a length-1 tuple to get_group in a future version of pandas. Pass `(name,)` instead of `name` to silence this warning.\n",
      "  data_subset = grouped_data.get_group(pd_key)\n",
      "/opt/conda/lib/python3.10/site-packages/seaborn/_oldcore.py:1075: FutureWarning: When grouping with a length-1 list-like, you will need to pass a length-1 tuple to get_group in a future version of pandas. Pass `(name,)` instead of `name` to silence this warning.\n",
      "  data_subset = grouped_data.get_group(pd_key)\n"
     ]
    },
    {
     "data": {
      "text/plain": [
       "Text(0.5, 1.0, 'Distribution of Age')"
      ]
     },
     "execution_count": 13,
     "metadata": {},
     "output_type": "execute_result"
    },
    {
     "data": {
      "image/png": "[encoded data removed]",
      "text/plain": [
       "<Figure size 640x480 with 1 Axes>"
      ]
     },
     "metadata": {},
     "output_type": "display_data"
    }
   ],
   "source": [
    "ax = sns.histplot(train,x=\"age\",hue=\"target\")\n",
    "ax.set_xlabel(\"Age\")\n",
    "ax.set_ylabel(\"Distribution\")\n",
    "ax.set_title(\"Distribution of Age\")"
   ]
  },
  {
   "cell_type": "markdown",
   "id": "7ba48c4b",
   "metadata": {
    "papermill": {
     "duration": 0.042871,
     "end_time": "2024-11-30T18:09:20.566783",
     "exception": false,
     "start_time": "2024-11-30T18:09:20.523912",
     "status": "completed"
    },
    "tags": []
   },
   "source": [
    "The histogram shows that the \"no\" target group (indicating failure) is more prevalent across most age groups, especially between 25 and 45. The \"yes\" target group (indicating success) is significantly less frequent and appears mainly in the younger age range, peaking in the 30s. This suggests that younger individuals are more likely to have a positive outcome."
   ]
  },
  {
   "cell_type": "markdown",
   "id": "1b0089b3",
   "metadata": {
    "papermill": {
     "duration": 0.047344,
     "end_time": "2024-11-30T18:09:20.656364",
     "exception": false,
     "start_time": "2024-11-30T18:09:20.609020",
     "status": "completed"
    },
    "tags": []
   },
   "source": [
    "Younger people are more targeted than older people."
   ]
  },
  {
   "cell_type": "markdown",
   "id": "39952a60",
   "metadata": {
    "papermill": {
     "duration": 0.04107,
     "end_time": "2024-11-30T18:09:20.742403",
     "exception": false,
     "start_time": "2024-11-30T18:09:20.701333",
     "status": "completed"
    },
    "tags": []
   },
   "source": [
    "**13. Outliers of Age**"
   ]
  },
  {
   "cell_type": "code",
   "execution_count": 14,
   "id": "5b4afbf3",
   "metadata": {
    "execution": {
     "iopub.execute_input": "2024-11-30T18:09:20.835639Z",
     "iopub.status.busy": "2024-11-30T18:09:20.834616Z",
     "iopub.status.idle": "2024-11-30T18:09:21.054074Z",
     "shell.execute_reply": "2024-11-30T18:09:21.052840Z"
    },
    "papermill": {
     "duration": 0.272407,
     "end_time": "2024-11-30T18:09:21.057239",
     "exception": false,
     "start_time": "2024-11-30T18:09:20.784832",
     "status": "completed"
    },
    "tags": []
   },
   "outputs": [
    {
     "data": {
      "text/plain": [
       "Text(0.5, 1.0, 'Boxplot of Age')"
      ]
     },
     "execution_count": 14,
     "metadata": {},
     "output_type": "execute_result"
    },
    {
     "data": {
      "image/png": "[encoded data removed]",
      "text/plain": [
       "<Figure size 640x480 with 1 Axes>"
      ]
     },
     "metadata": {},
     "output_type": "display_data"
    }
   ],
   "source": [
    "ax = sns.boxplot(train,x=\"age\")\n",
    "ax.set_title(\"Boxplot of Age\")"
   ]
  },
  {
   "cell_type": "markdown",
   "id": "6228515e",
   "metadata": {
    "papermill": {
     "duration": 0.059237,
     "end_time": "2024-11-30T18:09:21.166878",
     "exception": false,
     "start_time": "2024-11-30T18:09:21.107641",
     "status": "completed"
    },
    "tags": []
   },
   "source": [
    "The boxplot indicates that the median age is around 40 years, with the interquartile range (IQR) between approximately 30 and 50 years. There are several outliers on the higher end, suggesting that there are individuals significantly older than the main distribution. The distribution is relatively symmetrical, with no major skewness."
   ]
  },
  {
   "cell_type": "markdown",
   "id": "25c1e246",
   "metadata": {
    "papermill": {
     "duration": 0.067397,
     "end_time": "2024-11-30T18:09:21.277539",
     "exception": false,
     "start_time": "2024-11-30T18:09:21.210142",
     "status": "completed"
    },
    "tags": []
   },
   "source": [
    "**14. Distribution of Marital**"
   ]
  },
  {
   "cell_type": "code",
   "execution_count": 15,
   "id": "e18ea8a3",
   "metadata": {
    "execution": {
     "iopub.execute_input": "2024-11-30T18:09:21.377821Z",
     "iopub.status.busy": "2024-11-30T18:09:21.377406Z",
     "iopub.status.idle": "2024-11-30T18:09:21.641231Z",
     "shell.execute_reply": "2024-11-30T18:09:21.640004Z"
    },
    "papermill": {
     "duration": 0.309918,
     "end_time": "2024-11-30T18:09:21.644602",
     "exception": false,
     "start_time": "2024-11-30T18:09:21.334684",
     "status": "completed"
    },
    "tags": []
   },
   "outputs": [
    {
     "data": {
      "text/plain": [
       "Text(0.5, 1.0, 'Distribution of Marital')"
      ]
     },
     "execution_count": 15,
     "metadata": {},
     "output_type": "execute_result"
    },
    {
     "data": {
      "image/png": "[encoded data removed]",
      "text/plain": [
       "<Figure size 640x480 with 1 Axes>"
      ]
     },
     "metadata": {},
     "output_type": "display_data"
    }
   ],
   "source": [
    "ax = sns.countplot(train,y=\"marital\")\n",
    "ax.set_xlabel(\"Count\")\n",
    "ax.set_ylabel(\"Marital\")\n",
    "ax.set_title(\"Distribution of Marital\")"
   ]
  },
  {
   "cell_type": "markdown",
   "id": "ebd0589c",
   "metadata": {
    "papermill": {
     "duration": 0.04215,
     "end_time": "2024-11-30T18:09:21.738071",
     "exception": false,
     "start_time": "2024-11-30T18:09:21.695921",
     "status": "completed"
    },
    "tags": []
   },
   "source": [
    "The majority of individuals in the dataset are married, followed by single individuals, and then divorced individuals."
   ]
  },
  {
   "cell_type": "markdown",
   "id": "d7dc3241",
   "metadata": {
    "papermill": {
     "duration": 0.043127,
     "end_time": "2024-11-30T18:09:21.825112",
     "exception": false,
     "start_time": "2024-11-30T18:09:21.781985",
     "status": "completed"
    },
    "tags": []
   },
   "source": [
    "# Data Cleaning"
   ]
  },
  {
   "cell_type": "markdown",
   "id": "6f5a21e9",
   "metadata": {
    "papermill": {
     "duration": 0.043347,
     "end_time": "2024-11-30T18:09:21.912970",
     "exception": false,
     "start_time": "2024-11-30T18:09:21.869623",
     "status": "completed"
    },
    "tags": []
   },
   "source": [
    "**15. Cleaning the data**"
   ]
  },
  {
   "cell_type": "markdown",
   "id": "beb586a7",
   "metadata": {
    "papermill": {
     "duration": 0.042517,
     "end_time": "2024-11-30T18:09:21.997814",
     "exception": false,
     "start_time": "2024-11-30T18:09:21.955297",
     "status": "completed"
    },
    "tags": []
   },
   "source": [
    "***Dropping Unnecessary Columns***"
   ]
  },
  {
   "cell_type": "code",
   "execution_count": 16,
   "id": "9e863a70",
   "metadata": {
    "execution": {
     "iopub.execute_input": "2024-11-30T18:09:22.119467Z",
     "iopub.status.busy": "2024-11-30T18:09:22.119072Z",
     "iopub.status.idle": "2024-11-30T18:09:22.130485Z",
     "shell.execute_reply": "2024-11-30T18:09:22.129420Z"
    },
    "papermill": {
     "duration": 0.07568,
     "end_time": "2024-11-30T18:09:22.132780",
     "exception": false,
     "start_time": "2024-11-30T18:09:22.057100",
     "status": "completed"
    },
    "tags": []
   },
   "outputs": [],
   "source": [
    "train.drop(['contact','poutcome'],axis=1,inplace=True)"
   ]
  },
  {
   "cell_type": "markdown",
   "id": "ee104156",
   "metadata": {
    "papermill": {
     "duration": 0.042181,
     "end_time": "2024-11-30T18:09:22.216971",
     "exception": false,
     "start_time": "2024-11-30T18:09:22.174790",
     "status": "completed"
    },
    "tags": []
   },
   "source": [
    "**16. Checking for Missing Data in the Dataset**"
   ]
  },
  {
   "cell_type": "code",
   "execution_count": 17,
   "id": "d0238095",
   "metadata": {
    "execution": {
     "iopub.execute_input": "2024-11-30T18:09:22.302920Z",
     "iopub.status.busy": "2024-11-30T18:09:22.302520Z",
     "iopub.status.idle": "2024-11-30T18:09:22.327169Z",
     "shell.execute_reply": "2024-11-30T18:09:22.326062Z"
    },
    "papermill": {
     "duration": 0.070509,
     "end_time": "2024-11-30T18:09:22.329248",
     "exception": false,
     "start_time": "2024-11-30T18:09:22.258739",
     "status": "completed"
    },
    "tags": []
   },
   "outputs": [
    {
     "data": {
      "text/plain": [
       "last contact date       0\n",
       "age                     0\n",
       "job                   229\n",
       "marital                 0\n",
       "education            1467\n",
       "default                 0\n",
       "balance                 0\n",
       "housing                 0\n",
       "loan                    0\n",
       "duration                0\n",
       "campaign                0\n",
       "pdays                   0\n",
       "previous                0\n",
       "target                  0\n",
       "dtype: int64"
      ]
     },
     "execution_count": 17,
     "metadata": {},
     "output_type": "execute_result"
    }
   ],
   "source": [
    "train.isnull().sum()"
   ]
  },
  {
   "cell_type": "markdown",
   "id": "4605946f",
   "metadata": {
    "papermill": {
     "duration": 0.041767,
     "end_time": "2024-11-30T18:09:22.412846",
     "exception": false,
     "start_time": "2024-11-30T18:09:22.371079",
     "status": "completed"
    },
    "tags": []
   },
   "source": [
    "**17. Checking Dataset Dimensions after dropping the columns**"
   ]
  },
  {
   "cell_type": "code",
   "execution_count": 18,
   "id": "acfd4b65",
   "metadata": {
    "execution": {
     "iopub.execute_input": "2024-11-30T18:09:22.499107Z",
     "iopub.status.busy": "2024-11-30T18:09:22.498683Z",
     "iopub.status.idle": "2024-11-30T18:09:22.505610Z",
     "shell.execute_reply": "2024-11-30T18:09:22.504450Z"
    },
    "papermill": {
     "duration": 0.052962,
     "end_time": "2024-11-30T18:09:22.507961",
     "exception": false,
     "start_time": "2024-11-30T18:09:22.454999",
     "status": "completed"
    },
    "tags": []
   },
   "outputs": [
    {
     "data": {
      "text/plain": [
       "(39211, 14)"
      ]
     },
     "execution_count": 18,
     "metadata": {},
     "output_type": "execute_result"
    }
   ],
   "source": [
    "train.shape"
   ]
  },
  {
   "cell_type": "markdown",
   "id": "823c7b59",
   "metadata": {
    "papermill": {
     "duration": 0.041996,
     "end_time": "2024-11-30T18:09:22.592083",
     "exception": false,
     "start_time": "2024-11-30T18:09:22.550087",
     "status": "completed"
    },
    "tags": []
   },
   "source": [
    "#  Preprocessing "
   ]
  },
  {
   "cell_type": "markdown",
   "id": "0c155ea6",
   "metadata": {
    "papermill": {
     "duration": 0.04291,
     "end_time": "2024-11-30T18:09:22.677880",
     "exception": false,
     "start_time": "2024-11-30T18:09:22.634970",
     "status": "completed"
    },
    "tags": []
   },
   "source": [
    "**18. Splitting the Data into Feature and Label Vector**"
   ]
  },
  {
   "cell_type": "code",
   "execution_count": 19,
   "id": "c5893836",
   "metadata": {
    "execution": {
     "iopub.execute_input": "2024-11-30T18:09:22.764489Z",
     "iopub.status.busy": "2024-11-30T18:09:22.764086Z",
     "iopub.status.idle": "2024-11-30T18:09:22.776947Z",
     "shell.execute_reply": "2024-11-30T18:09:22.775866Z"
    },
    "papermill": {
     "duration": 0.05924,
     "end_time": "2024-11-30T18:09:22.779458",
     "exception": false,
     "start_time": "2024-11-30T18:09:22.720218",
     "status": "completed"
    },
    "tags": []
   },
   "outputs": [],
   "source": [
    "y = train.target.copy()\n",
    "X = train.drop(\"target\",axis=1)"
   ]
  },
  {
   "cell_type": "markdown",
   "id": "7d4f8bae",
   "metadata": {
    "papermill": {
     "duration": 0.041856,
     "end_time": "2024-11-30T18:09:22.863878",
     "exception": false,
     "start_time": "2024-11-30T18:09:22.822022",
     "status": "completed"
    },
    "tags": []
   },
   "source": [
    "**19. Splitting the data into Training and Validation**"
   ]
  },
  {
   "cell_type": "code",
   "execution_count": 20,
   "id": "152907fc",
   "metadata": {
    "execution": {
     "iopub.execute_input": "2024-11-30T18:09:22.949466Z",
     "iopub.status.busy": "2024-11-30T18:09:22.949083Z",
     "iopub.status.idle": "2024-11-30T18:09:23.218462Z",
     "shell.execute_reply": "2024-11-30T18:09:23.217295Z"
    },
    "papermill": {
     "duration": 0.315049,
     "end_time": "2024-11-30T18:09:23.220956",
     "exception": false,
     "start_time": "2024-11-30T18:09:22.905907",
     "status": "completed"
    },
    "tags": []
   },
   "outputs": [],
   "source": [
    "from sklearn.model_selection import train_test_split\n",
    "X_train,X_test,y_train,y_test = train_test_split(X,y,test_size=0.1,random_state=1)"
   ]
  },
  {
   "cell_type": "markdown",
   "id": "b9c39bf8",
   "metadata": {
    "papermill": {
     "duration": 0.041824,
     "end_time": "2024-11-30T18:09:23.305838",
     "exception": false,
     "start_time": "2024-11-30T18:09:23.264014",
     "status": "completed"
    },
    "tags": []
   },
   "source": [
    "**20. Exploring Data Types of Features in the Training Set**"
   ]
  },
  {
   "cell_type": "code",
   "execution_count": 21,
   "id": "75ebab88",
   "metadata": {
    "execution": {
     "iopub.execute_input": "2024-11-30T18:09:23.449020Z",
     "iopub.status.busy": "2024-11-30T18:09:23.448600Z",
     "iopub.status.idle": "2024-11-30T18:09:23.455562Z",
     "shell.execute_reply": "2024-11-30T18:09:23.454431Z"
    },
    "papermill": {
     "duration": 0.057184,
     "end_time": "2024-11-30T18:09:23.458111",
     "exception": false,
     "start_time": "2024-11-30T18:09:23.400927",
     "status": "completed"
    },
    "tags": []
   },
   "outputs": [
    {
     "name": "stdout",
     "output_type": "stream",
     "text": [
      "0 last contact date object\n",
      "1 age int64\n",
      "2 job object\n",
      "3 marital object\n",
      "4 education object\n",
      "5 default object\n",
      "6 balance int64\n",
      "7 housing object\n",
      "8 loan object\n",
      "9 duration int64\n",
      "10 campaign int64\n",
      "11 pdays int64\n",
      "12 previous int64\n"
     ]
    }
   ],
   "source": [
    "for i,j in enumerate(list(X_train.columns)):\n",
    "    print(i,j,X_train[j].dtypes)"
   ]
  },
  {
   "cell_type": "markdown",
   "id": "2f6f620a",
   "metadata": {
    "papermill": {
     "duration": 0.041877,
     "end_time": "2024-11-30T18:09:23.542687",
     "exception": false,
     "start_time": "2024-11-30T18:09:23.500810",
     "status": "completed"
    },
    "tags": []
   },
   "source": [
    "**21. Selecting Numeric and Categorical Features in the Dataset**"
   ]
  },
  {
   "cell_type": "code",
   "execution_count": 22,
   "id": "f5c8237f",
   "metadata": {
    "execution": {
     "iopub.execute_input": "2024-11-30T18:09:23.628624Z",
     "iopub.status.busy": "2024-11-30T18:09:23.628261Z",
     "iopub.status.idle": "2024-11-30T18:09:23.640154Z",
     "shell.execute_reply": "2024-11-30T18:09:23.639221Z"
    },
    "papermill": {
     "duration": 0.057804,
     "end_time": "2024-11-30T18:09:23.642517",
     "exception": false,
     "start_time": "2024-11-30T18:09:23.584713",
     "status": "completed"
    },
    "tags": []
   },
   "outputs": [],
   "source": [
    "from sklearn.compose import make_column_selector as mcs\n",
    "num_sel = mcs(dtype_exclude=\"object\")\n",
    "cat_sel = mcs(dtype_include=\"object\")\n"
   ]
  },
  {
   "cell_type": "markdown",
   "id": "d231858b",
   "metadata": {
    "papermill": {
     "duration": 0.041752,
     "end_time": "2024-11-30T18:09:23.726525",
     "exception": false,
     "start_time": "2024-11-30T18:09:23.684773",
     "status": "completed"
    },
    "tags": []
   },
   "source": [
    "**22. Catergorical : OneHotEncoder,**\n",
    "**Numerical : StandardScalar**"
   ]
  },
  {
   "cell_type": "code",
   "execution_count": 23,
   "id": "10de32ac",
   "metadata": {
    "execution": {
     "iopub.execute_input": "2024-11-30T18:09:23.813455Z",
     "iopub.status.busy": "2024-11-30T18:09:23.813088Z",
     "iopub.status.idle": "2024-11-30T18:09:25.425442Z",
     "shell.execute_reply": "2024-11-30T18:09:25.424251Z"
    },
    "papermill": {
     "duration": 1.659726,
     "end_time": "2024-11-30T18:09:25.428614",
     "exception": false,
     "start_time": "2024-11-30T18:09:23.768888",
     "status": "completed"
    },
    "tags": []
   },
   "outputs": [
    {
     "data": {
      "text/html": [
       "<style>#sk-container-id-1 {color: black;background-color: white;}#sk-container-id-1 pre{padding: 0;}#sk-container-id-1 div.sk-toggleable {background-color: white;}#sk-container-id-1 label.sk-toggleable__label {cursor: pointer;display: block;width: 100%;margin-bottom: 0;padding: 0.3em;box-sizing: border-box;text-align: center;}#sk-container-id-1 label.sk-toggleable__label-arrow:before {content: \"▸\";float: left;margin-right: 0.25em;color: #696969;}#sk-container-id-1 label.sk-toggleable__label-arrow:hover:before {color: black;}#sk-container-id-1 div.sk-estimator:hover label.sk-toggleable__label-arrow:before {color: black;}#sk-container-id-1 div.sk-toggleable__content {max-height: 0;max-width: 0;overflow: hidden;text-align: left;background-color: #f0f8ff;}#sk-container-id-1 div.sk-toggleable__content pre {margin: 0.2em;color: black;border-radius: 0.25em;background-color: #f0f8ff;}#sk-container-id-1 input.sk-toggleable__control:checked~div.sk-toggleable__content {max-height: 200px;max-width: 100%;overflow: auto;}#sk-container-id-1 input.sk-toggleable__control:checked~label.sk-toggleable__label-arrow:before {content: \"▾\";}#sk-container-id-1 div.sk-estimator input.sk-toggleable__control:checked~label.sk-toggleable__label {background-color: #d4ebff;}#sk-container-id-1 div.sk-label input.sk-toggleable__control:checked~label.sk-toggleable__label {background-color: #d4ebff;}#sk-container-id-1 input.sk-hidden--visually {border: 0;clip: rect(1px 1px 1px 1px);clip: rect(1px, 1px, 1px, 1px);height: 1px;margin: -1px;overflow: hidden;padding: 0;position: absolute;width: 1px;}#sk-container-id-1 div.sk-estimator {font-family: monospace;background-color: #f0f8ff;border: 1px dotted black;border-radius: 0.25em;box-sizing: border-box;margin-bottom: 0.5em;}#sk-container-id-1 div.sk-estimator:hover {background-color: #d4ebff;}#sk-container-id-1 div.sk-parallel-item::after {content: \"\";width: 100%;border-bottom: 1px solid gray;flex-grow: 1;}#sk-container-id-1 div.sk-label:hover label.sk-toggleable__label {background-color: #d4ebff;}#sk-container-id-1 div.sk-serial::before {content: \"\";position: absolute;border-left: 1px solid gray;box-sizing: border-box;top: 0;bottom: 0;left: 50%;z-index: 0;}#sk-container-id-1 div.sk-serial {display: flex;flex-direction: column;align-items: center;background-color: white;padding-right: 0.2em;padding-left: 0.2em;position: relative;}#sk-container-id-1 div.sk-item {position: relative;z-index: 1;}#sk-container-id-1 div.sk-parallel {display: flex;align-items: stretch;justify-content: center;background-color: white;position: relative;}#sk-container-id-1 div.sk-item::before, #sk-container-id-1 div.sk-parallel-item::before {content: \"\";position: absolute;border-left: 1px solid gray;box-sizing: border-box;top: 0;bottom: 0;left: 50%;z-index: -1;}#sk-container-id-1 div.sk-parallel-item {display: flex;flex-direction: column;z-index: 1;position: relative;background-color: white;}#sk-container-id-1 div.sk-parallel-item:first-child::after {align-self: flex-end;width: 50%;}#sk-container-id-1 div.sk-parallel-item:last-child::after {align-self: flex-start;width: 50%;}#sk-container-id-1 div.sk-parallel-item:only-child::after {width: 0;}#sk-container-id-1 div.sk-dashed-wrapped {border: 1px dashed gray;margin: 0 0.4em 0.5em 0.4em;box-sizing: border-box;padding-bottom: 0.4em;background-color: white;}#sk-container-id-1 div.sk-label label {font-family: monospace;font-weight: bold;display: inline-block;line-height: 1.2em;}#sk-container-id-1 div.sk-label-container {text-align: center;}#sk-container-id-1 div.sk-container {/* jupyter's `normalize.less` sets `[hidden] { display: none; }` but bootstrap.min.css set `[hidden] { display: none !important; }` so we also need the `!important` here to be able to override the default hidden behavior on the sphinx rendered scikit-learn.org. See: https://github.com/scikit-learn/scikit-learn/issues/21755 */display: inline-block !important;position: relative;}#sk-container-id-1 div.sk-text-repr-fallback {display: none;}</style><div id=\"sk-container-id-1\" class=\"sk-top-container\"><div class=\"sk-text-repr-fallback\"><pre>Pipeline(steps=[(&#x27;cat_pipe&#x27;,\n",
       "                 ColumnTransformer(remainder=&#x27;passthrough&#x27;,\n",
       "                                   transformers=[(&#x27;cat&#x27;,\n",
       "                                                  Pipeline(steps=[(&#x27;imputer&#x27;,\n",
       "                                                                   SimpleImputer(strategy=&#x27;most_frequent&#x27;)),\n",
       "                                                                  (&#x27;ohe&#x27;,\n",
       "                                                                   OneHotEncoder(handle_unknown=&#x27;ignore&#x27;,\n",
       "                                                                                 sparse_output=False))]),\n",
       "                                                  [0, 2, 3, 4, 5, 7, 8])])),\n",
       "                (&#x27;num_pipe&#x27;,\n",
       "                 ColumnTransformer(remainder=&#x27;passthrough&#x27;,\n",
       "                                   transformers=[(&#x27;num&#x27;,\n",
       "                                                  Pipeline(steps=[(&#x27;imputer&#x27;,\n",
       "                                                                   SimpleImputer()),\n",
       "                                                                  (&#x27;std&#x27;,\n",
       "                                                                   StandardScaler())]),\n",
       "                                                  [1, 6, 9, 10, 11, 12])]))])</pre><b>In a Jupyter environment, please rerun this cell to show the HTML representation or trust the notebook. <br />On GitHub, the HTML representation is unable to render, please try loading this page with nbviewer.org.</b></div><div class=\"sk-container\" hidden><div class=\"sk-item sk-dashed-wrapped\"><div class=\"sk-label-container\"><div class=\"sk-label sk-toggleable\"><input class=\"sk-toggleable__control sk-hidden--visually\" id=\"sk-estimator-id-1\" type=\"checkbox\" ><label for=\"sk-estimator-id-1\" class=\"sk-toggleable__label sk-toggleable__label-arrow\">Pipeline</label><div class=\"sk-toggleable__content\"><pre>Pipeline(steps=[(&#x27;cat_pipe&#x27;,\n",
       "                 ColumnTransformer(remainder=&#x27;passthrough&#x27;,\n",
       "                                   transformers=[(&#x27;cat&#x27;,\n",
       "                                                  Pipeline(steps=[(&#x27;imputer&#x27;,\n",
       "                                                                   SimpleImputer(strategy=&#x27;most_frequent&#x27;)),\n",
       "                                                                  (&#x27;ohe&#x27;,\n",
       "                                                                   OneHotEncoder(handle_unknown=&#x27;ignore&#x27;,\n",
       "                                                                                 sparse_output=False))]),\n",
       "                                                  [0, 2, 3, 4, 5, 7, 8])])),\n",
       "                (&#x27;num_pipe&#x27;,\n",
       "                 ColumnTransformer(remainder=&#x27;passthrough&#x27;,\n",
       "                                   transformers=[(&#x27;num&#x27;,\n",
       "                                                  Pipeline(steps=[(&#x27;imputer&#x27;,\n",
       "                                                                   SimpleImputer()),\n",
       "                                                                  (&#x27;std&#x27;,\n",
       "                                                                   StandardScaler())]),\n",
       "                                                  [1, 6, 9, 10, 11, 12])]))])</pre></div></div></div><div class=\"sk-serial\"><div class=\"sk-item sk-dashed-wrapped\"><div class=\"sk-label-container\"><div class=\"sk-label sk-toggleable\"><input class=\"sk-toggleable__control sk-hidden--visually\" id=\"sk-estimator-id-2\" type=\"checkbox\" ><label for=\"sk-estimator-id-2\" class=\"sk-toggleable__label sk-toggleable__label-arrow\">cat_pipe: ColumnTransformer</label><div class=\"sk-toggleable__content\"><pre>ColumnTransformer(remainder=&#x27;passthrough&#x27;,\n",
       "                  transformers=[(&#x27;cat&#x27;,\n",
       "                                 Pipeline(steps=[(&#x27;imputer&#x27;,\n",
       "                                                  SimpleImputer(strategy=&#x27;most_frequent&#x27;)),\n",
       "                                                 (&#x27;ohe&#x27;,\n",
       "                                                  OneHotEncoder(handle_unknown=&#x27;ignore&#x27;,\n",
       "                                                                sparse_output=False))]),\n",
       "                                 [0, 2, 3, 4, 5, 7, 8])])</pre></div></div></div><div class=\"sk-parallel\"><div class=\"sk-parallel-item\"><div class=\"sk-item\"><div class=\"sk-label-container\"><div class=\"sk-label sk-toggleable\"><input class=\"sk-toggleable__control sk-hidden--visually\" id=\"sk-estimator-id-3\" type=\"checkbox\" ><label for=\"sk-estimator-id-3\" class=\"sk-toggleable__label sk-toggleable__label-arrow\">cat</label><div class=\"sk-toggleable__content\"><pre>[0, 2, 3, 4, 5, 7, 8]</pre></div></div></div><div class=\"sk-serial\"><div class=\"sk-item\"><div class=\"sk-serial\"><div class=\"sk-item\"><div class=\"sk-estimator sk-toggleable\"><input class=\"sk-toggleable__control sk-hidden--visually\" id=\"sk-estimator-id-4\" type=\"checkbox\" ><label for=\"sk-estimator-id-4\" class=\"sk-toggleable__label sk-toggleable__label-arrow\">SimpleImputer</label><div class=\"sk-toggleable__content\"><pre>SimpleImputer(strategy=&#x27;most_frequent&#x27;)</pre></div></div></div><div class=\"sk-item\"><div class=\"sk-estimator sk-toggleable\"><input class=\"sk-toggleable__control sk-hidden--visually\" id=\"sk-estimator-id-5\" type=\"checkbox\" ><label for=\"sk-estimator-id-5\" class=\"sk-toggleable__label sk-toggleable__label-arrow\">OneHotEncoder</label><div class=\"sk-toggleable__content\"><pre>OneHotEncoder(handle_unknown=&#x27;ignore&#x27;, sparse_output=False)</pre></div></div></div></div></div></div></div></div><div class=\"sk-parallel-item\"><div class=\"sk-item\"><div class=\"sk-label-container\"><div class=\"sk-label sk-toggleable\"><input class=\"sk-toggleable__control sk-hidden--visually\" id=\"sk-estimator-id-6\" type=\"checkbox\" ><label for=\"sk-estimator-id-6\" class=\"sk-toggleable__label sk-toggleable__label-arrow\">remainder</label><div class=\"sk-toggleable__content\"><pre>[&#x27;age&#x27;, &#x27;balance&#x27;, &#x27;duration&#x27;, &#x27;campaign&#x27;, &#x27;pdays&#x27;, &#x27;previous&#x27;]</pre></div></div></div><div class=\"sk-serial\"><div class=\"sk-item\"><div class=\"sk-estimator sk-toggleable\"><input class=\"sk-toggleable__control sk-hidden--visually\" id=\"sk-estimator-id-7\" type=\"checkbox\" ><label for=\"sk-estimator-id-7\" class=\"sk-toggleable__label sk-toggleable__label-arrow\">passthrough</label><div class=\"sk-toggleable__content\"><pre>passthrough</pre></div></div></div></div></div></div></div></div><div class=\"sk-item sk-dashed-wrapped\"><div class=\"sk-label-container\"><div class=\"sk-label sk-toggleable\"><input class=\"sk-toggleable__control sk-hidden--visually\" id=\"sk-estimator-id-8\" type=\"checkbox\" ><label for=\"sk-estimator-id-8\" class=\"sk-toggleable__label sk-toggleable__label-arrow\">num_pipe: ColumnTransformer</label><div class=\"sk-toggleable__content\"><pre>ColumnTransformer(remainder=&#x27;passthrough&#x27;,\n",
       "                  transformers=[(&#x27;num&#x27;,\n",
       "                                 Pipeline(steps=[(&#x27;imputer&#x27;, SimpleImputer()),\n",
       "                                                 (&#x27;std&#x27;, StandardScaler())]),\n",
       "                                 [1, 6, 9, 10, 11, 12])])</pre></div></div></div><div class=\"sk-parallel\"><div class=\"sk-parallel-item\"><div class=\"sk-item\"><div class=\"sk-label-container\"><div class=\"sk-label sk-toggleable\"><input class=\"sk-toggleable__control sk-hidden--visually\" id=\"sk-estimator-id-9\" type=\"checkbox\" ><label for=\"sk-estimator-id-9\" class=\"sk-toggleable__label sk-toggleable__label-arrow\">num</label><div class=\"sk-toggleable__content\"><pre>[1, 6, 9, 10, 11, 12]</pre></div></div></div><div class=\"sk-serial\"><div class=\"sk-item\"><div class=\"sk-serial\"><div class=\"sk-item\"><div class=\"sk-estimator sk-toggleable\"><input class=\"sk-toggleable__control sk-hidden--visually\" id=\"sk-estimator-id-10\" type=\"checkbox\" ><label for=\"sk-estimator-id-10\" class=\"sk-toggleable__label sk-toggleable__label-arrow\">SimpleImputer</label><div class=\"sk-toggleable__content\"><pre>SimpleImputer()</pre></div></div></div><div class=\"sk-item\"><div class=\"sk-estimator sk-toggleable\"><input class=\"sk-toggleable__control sk-hidden--visually\" id=\"sk-estimator-id-11\" type=\"checkbox\" ><label for=\"sk-estimator-id-11\" class=\"sk-toggleable__label sk-toggleable__label-arrow\">StandardScaler</label><div class=\"sk-toggleable__content\"><pre>StandardScaler()</pre></div></div></div></div></div></div></div></div><div class=\"sk-parallel-item\"><div class=\"sk-item\"><div class=\"sk-label-container\"><div class=\"sk-label sk-toggleable\"><input class=\"sk-toggleable__control sk-hidden--visually\" id=\"sk-estimator-id-12\" type=\"checkbox\" ><label for=\"sk-estimator-id-12\" class=\"sk-toggleable__label sk-toggleable__label-arrow\">remainder</label><div class=\"sk-toggleable__content\"><pre>[&#x27;cat__last contact date_2008-01-01&#x27;, &#x27;cat__last contact date_2008-01-03&#x27;, &#x27;cat__last contact date_2008-01-04&#x27;, &#x27;cat__last contact date_2008-01-05&#x27;, &#x27;cat__last contact date_2008-01-06&#x27;, &#x27;cat__last contact date_2008-01-08&#x27;, &#x27;cat__last contact date_2008-01-09&#x27;, &#x27;cat__last contact date_2008-01-14&#x27;, &#x27;cat__last contact date_2008-01-15&#x27;, &#x27;cat__last contact date_2008-01-16&#x27;, &#x27;cat__last contact date_2008-01-17&#x27;, &#x27;cat__last contact date_2008-01-18&#x27;, &#x27;cat__last contact date_2008-01-19&#x27;, &#x27;cat__last contact date_2008-01-20&#x27;, &#x27;cat__last contact date_2008-01-21&#x27;, &#x27;cat__last contact date_2008-01-22&#x27;, &#x27;cat__last contact date_2008-01-23&#x27;, &#x27;cat__last contact date_2008-01-24&#x27;, &#x27;cat__last contact date_2008-01-25&#x27;, &#x27;cat__last contact date_2008-01-26&#x27;, &#x27;cat__last contact date_2008-01-27&#x27;, &#x27;cat__last contact date_2008-01-28&#x27;, &#x27;cat__last contact date_2008-01-29&#x27;, &#x27;cat__last contact date_2008-01-30&#x27;, &#x27;cat__last contact date_2008-02-01&#x27;, &#x27;cat__last contact date_2008-02-02&#x27;, &#x27;cat__last contact date_2008-02-03&#x27;, &#x27;cat__last contact date_2008-02-04&#x27;, &#x27;cat__last contact date_2008-02-05&#x27;, &#x27;cat__last contact date_2008-02-06&#x27;, &#x27;cat__last contact date_2008-02-08&#x27;, &#x27;cat__last contact date_2008-02-09&#x27;, &#x27;cat__last contact date_2008-02-10&#x27;, &#x27;cat__last contact date_2008-02-11&#x27;, &#x27;cat__last contact date_2008-02-12&#x27;, &#x27;cat__last contact date_2008-02-13&#x27;, &#x27;cat__last contact date_2008-02-15&#x27;, &#x27;cat__last contact date_2008-02-16&#x27;, &#x27;cat__last contact date_2008-02-17&#x27;, &#x27;cat__last contact date_2008-02-18&#x27;, &#x27;cat__last contact date_2008-02-19&#x27;, &#x27;cat__last contact date_2008-02-22&#x27;, &#x27;cat__last contact date_2008-02-23&#x27;, &#x27;cat__last contact date_2008-02-24&#x27;, &#x27;cat__last contact date_2008-02-25&#x27;, &#x27;cat__last contact date_2008-02-26&#x27;, &#x27;cat__last contact date_2008-02-27&#x27;, &#x27;cat__last contact date_2008-03-01&#x27;, &#x27;cat__last contact date_2008-03-02&#x27;, &#x27;cat__last contact date_2008-03-03&#x27;, &#x27;cat__last contact date_2008-03-04&#x27;, &#x27;cat__last contact date_2008-03-05&#x27;, &#x27;cat__last contact date_2008-03-06&#x27;, &#x27;cat__last contact date_2008-03-07&#x27;, &#x27;cat__last contact date_2008-03-08&#x27;, &#x27;cat__last contact date_2008-03-09&#x27;, &#x27;cat__last contact date_2008-03-10&#x27;, &#x27;cat__last contact date_2008-03-11&#x27;, &#x27;cat__last contact date_2008-03-12&#x27;, &#x27;cat__last contact date_2008-03-13&#x27;, &#x27;cat__last contact date_2008-03-14&#x27;, &#x27;cat__last contact date_2008-03-15&#x27;, &#x27;cat__last contact date_2008-03-16&#x27;, &#x27;cat__last contact date_2008-03-17&#x27;, &#x27;cat__last contact date_2008-03-18&#x27;, &#x27;cat__last contact date_2008-03-19&#x27;, &#x27;cat__last contact date_2008-03-20&#x27;, &#x27;cat__last contact date_2008-03-21&#x27;, &#x27;cat__last contact date_2008-03-22&#x27;, &#x27;cat__last contact date_2008-03-23&#x27;, &#x27;cat__last contact date_2008-03-24&#x27;, &#x27;cat__last contact date_2008-03-25&#x27;, &#x27;cat__last contact date_2008-03-26&#x27;, &#x27;cat__last contact date_2008-03-27&#x27;, &#x27;cat__last contact date_2008-03-28&#x27;, &#x27;cat__last contact date_2008-03-29&#x27;, &#x27;cat__last contact date_2008-03-30&#x27;, &#x27;cat__last contact date_2008-03-31&#x27;, &#x27;cat__last contact date_2008-04-01&#x27;, &#x27;cat__last contact date_2008-04-02&#x27;, &#x27;cat__last contact date_2008-04-03&#x27;, &#x27;cat__last contact date_2008-04-05&#x27;, &#x27;cat__last contact date_2008-04-06&#x27;, &#x27;cat__last contact date_2008-04-07&#x27;, &#x27;cat__last contact date_2008-04-08&#x27;, &#x27;cat__last contact date_2008-04-09&#x27;, &#x27;cat__last contact date_2008-04-12&#x27;, &#x27;cat__last contact date_2008-04-13&#x27;, &#x27;cat__last contact date_2008-04-14&#x27;, &#x27;cat__last contact date_2008-04-15&#x27;, &#x27;cat__last contact date_2008-04-16&#x27;, &#x27;cat__last contact date_2008-04-17&#x27;, &#x27;cat__last contact date_2008-04-20&#x27;, &#x27;cat__last contact date_2008-04-21&#x27;, &#x27;cat__last contact date_2008-04-22&#x27;, &#x27;cat__last contact date_2008-04-23&#x27;, &#x27;cat__last contact date_2008-04-24&#x27;, &#x27;cat__last contact date_2008-04-26&#x27;, &#x27;cat__last contact date_2008-04-27&#x27;, &#x27;cat__last contact date_2008-04-28&#x27;, &#x27;cat__last contact date_2008-04-29&#x27;, &#x27;cat__last contact date_2008-04-30&#x27;, &#x27;cat__last contact date_2008-05-04&#x27;, &#x27;cat__last contact date_2008-05-05&#x27;, &#x27;cat__last contact date_2008-05-06&#x27;, &#x27;cat__last contact date_2008-05-07&#x27;, &#x27;cat__last contact date_2008-05-08&#x27;, &#x27;cat__last contact date_2008-05-09&#x27;, &#x27;cat__last contact date_2008-05-10&#x27;, &#x27;cat__last contact date_2008-05-11&#x27;, &#x27;cat__last contact date_2008-05-12&#x27;, &#x27;cat__last contact date_2008-05-13&#x27;, &#x27;cat__last contact date_2008-05-14&#x27;, &#x27;cat__last contact date_2008-05-15&#x27;, &#x27;cat__last contact date_2008-05-16&#x27;, &#x27;cat__last contact date_2008-05-17&#x27;, &#x27;cat__last contact date_2008-05-18&#x27;, &#x27;cat__last contact date_2008-05-19&#x27;, &#x27;cat__last contact date_2008-05-20&#x27;, &#x27;cat__last contact date_2008-05-21&#x27;, &#x27;cat__last contact date_2008-05-22&#x27;, &#x27;cat__last contact date_2008-05-23&#x27;, &#x27;cat__last contact date_2008-05-24&#x27;, &#x27;cat__last contact date_2008-05-25&#x27;, &#x27;cat__last contact date_2008-05-26&#x27;, &#x27;cat__last contact date_2008-05-27&#x27;, &#x27;cat__last contact date_2008-05-28&#x27;, &#x27;cat__last contact date_2008-05-29&#x27;, &#x27;cat__last contact date_2008-05-30&#x27;, &#x27;cat__last contact date_2008-05-31&#x27;, &#x27;cat__last contact date_2008-06-01&#x27;, &#x27;cat__last contact date_2008-06-02&#x27;, &#x27;cat__last contact date_2008-06-03&#x27;, &#x27;cat__last contact date_2008-06-04&#x27;, &#x27;cat__last contact date_2008-06-05&#x27;, &#x27;cat__last contact date_2008-06-06&#x27;, &#x27;cat__last contact date_2008-06-08&#x27;, &#x27;cat__last contact date_2008-06-09&#x27;, &#x27;cat__last contact date_2008-06-11&#x27;, &#x27;cat__last contact date_2008-06-12&#x27;, &#x27;cat__last contact date_2008-06-14&#x27;, &#x27;cat__last contact date_2008-06-15&#x27;, &#x27;cat__last contact date_2008-06-16&#x27;, &#x27;cat__last contact date_2008-06-17&#x27;, &#x27;cat__last contact date_2008-06-18&#x27;, &#x27;cat__last contact date_2008-06-19&#x27;, &#x27;cat__last contact date_2008-06-20&#x27;, &#x27;cat__last contact date_2008-06-22&#x27;, &#x27;cat__last contact date_2008-06-23&#x27;, &#x27;cat__last contact date_2008-06-24&#x27;, &#x27;cat__last contact date_2008-06-25&#x27;, &#x27;cat__last contact date_2008-06-26&#x27;, &#x27;cat__last contact date_2008-06-27&#x27;, &#x27;cat__last contact date_2008-06-28&#x27;, &#x27;cat__last contact date_2008-06-29&#x27;, &#x27;cat__last contact date_2008-06-30&#x27;, &#x27;cat__last contact date_2008-07-01&#x27;, &#x27;cat__last contact date_2008-07-02&#x27;, &#x27;cat__last contact date_2008-07-03&#x27;, &#x27;cat__last contact date_2008-07-04&#x27;, &#x27;cat__last contact date_2008-07-05&#x27;, &#x27;cat__last contact date_2008-07-06&#x27;, &#x27;cat__last contact date_2008-07-07&#x27;, &#x27;cat__last contact date_2008-07-08&#x27;, &#x27;cat__last contact date_2008-07-09&#x27;, &#x27;cat__last contact date_2008-07-10&#x27;, &#x27;cat__last contact date_2008-07-11&#x27;, &#x27;cat__last contact date_2008-07-12&#x27;, &#x27;cat__last contact date_2008-07-13&#x27;, &#x27;cat__last contact date_2008-07-14&#x27;, &#x27;cat__last contact date_2008-07-15&#x27;, &#x27;cat__last contact date_2008-07-16&#x27;, &#x27;cat__last contact date_2008-07-17&#x27;, &#x27;cat__last contact date_2008-07-18&#x27;, &#x27;cat__last contact date_2008-07-19&#x27;, &#x27;cat__last contact date_2008-07-20&#x27;, &#x27;cat__last contact date_2008-07-21&#x27;, &#x27;cat__last contact date_2008-07-22&#x27;, &#x27;cat__last contact date_2008-07-23&#x27;, &#x27;cat__last contact date_2008-07-24&#x27;, &#x27;cat__last contact date_2008-07-25&#x27;, &#x27;cat__last contact date_2008-07-26&#x27;, &#x27;cat__last contact date_2008-07-27&#x27;, &#x27;cat__last contact date_2008-07-28&#x27;, &#x27;cat__last contact date_2008-07-29&#x27;, &#x27;cat__last contact date_2008-07-30&#x27;, &#x27;cat__last contact date_2008-07-31&#x27;, &#x27;cat__last contact date_2008-08-02&#x27;, &#x27;cat__last contact date_2008-08-03&#x27;, &#x27;cat__last contact date_2008-08-04&#x27;, &#x27;cat__last contact date_2008-08-05&#x27;, &#x27;cat__last contact date_2008-08-06&#x27;, &#x27;cat__last contact date_2008-08-07&#x27;, &#x27;cat__last contact date_2008-08-08&#x27;, &#x27;cat__last contact date_2008-08-09&#x27;, &#x27;cat__last contact date_2008-08-10&#x27;, &#x27;cat__last contact date_2008-08-11&#x27;, &#x27;cat__last contact date_2008-08-12&#x27;, &#x27;cat__last contact date_2008-08-13&#x27;, &#x27;cat__last contact date_2008-08-14&#x27;, &#x27;cat__last contact date_2008-08-16&#x27;, &#x27;cat__last contact date_2008-08-17&#x27;, &#x27;cat__last contact date_2008-08-18&#x27;, &#x27;cat__last contact date_2008-08-19&#x27;, &#x27;cat__last contact date_2008-08-20&#x27;, &#x27;cat__last contact date_2008-08-21&#x27;, &#x27;cat__last contact date_2008-08-22&#x27;, &#x27;cat__last contact date_2008-08-24&#x27;, &#x27;cat__last contact date_2008-08-25&#x27;, &#x27;cat__last contact date_2008-08-26&#x27;, &#x27;cat__last contact date_2008-08-27&#x27;, &#x27;cat__last contact date_2008-08-28&#x27;, &#x27;cat__last contact date_2008-08-29&#x27;, &#x27;cat__last contact date_2008-08-30&#x27;, &#x27;cat__last contact date_2008-08-31&#x27;, &#x27;cat__last contact date_2008-09-01&#x27;, &#x27;cat__last contact date_2008-09-02&#x27;, &#x27;cat__last contact date_2008-09-03&#x27;, &#x27;cat__last contact date_2008-09-04&#x27;, &#x27;cat__last contact date_2008-09-05&#x27;, &#x27;cat__last contact date_2008-09-06&#x27;, &#x27;cat__last contact date_2008-09-07&#x27;, &#x27;cat__last contact date_2008-09-08&#x27;, &#x27;cat__last contact date_2008-09-09&#x27;, &#x27;cat__last contact date_2008-09-10&#x27;, &#x27;cat__last contact date_2008-09-11&#x27;, &#x27;cat__last contact date_2008-09-12&#x27;, &#x27;cat__last contact date_2008-09-13&#x27;, &#x27;cat__last contact date_2008-09-14&#x27;, &#x27;cat__last contact date_2008-09-15&#x27;, &#x27;cat__last contact date_2008-09-16&#x27;, &#x27;cat__last contact date_2008-09-17&#x27;, &#x27;cat__last contact date_2008-09-18&#x27;, &#x27;cat__last contact date_2008-09-19&#x27;, &#x27;cat__last contact date_2008-09-20&#x27;, &#x27;cat__last contact date_2008-09-21&#x27;, &#x27;cat__last contact date_2008-09-22&#x27;, &#x27;cat__last contact date_2008-09-23&#x27;, &#x27;cat__last contact date_2008-09-24&#x27;, &#x27;cat__last contact date_2008-09-25&#x27;, &#x27;cat__last contact date_2008-09-26&#x27;, &#x27;cat__last contact date_2008-09-27&#x27;, &#x27;cat__last contact date_2008-09-28&#x27;, &#x27;cat__last contact date_2008-09-29&#x27;, &#x27;cat__last contact date_2008-09-30&#x27;, &#x27;cat__last contact date_2008-10-01&#x27;, &#x27;cat__last contact date_2008-10-02&#x27;, &#x27;cat__last contact date_2008-10-03&#x27;, &#x27;cat__last contact date_2008-10-04&#x27;, &#x27;cat__last contact date_2008-10-05&#x27;, &#x27;cat__last contact date_2008-10-06&#x27;, &#x27;cat__last contact date_2008-10-07&#x27;, &#x27;cat__last contact date_2008-10-08&#x27;, &#x27;cat__last contact date_2008-10-09&#x27;, &#x27;cat__last contact date_2008-10-10&#x27;, &#x27;cat__last contact date_2008-10-11&#x27;, &#x27;cat__last contact date_2008-10-12&#x27;, &#x27;cat__last contact date_2008-10-13&#x27;, &#x27;cat__last contact date_2008-10-14&#x27;, &#x27;cat__last contact date_2008-10-15&#x27;, &#x27;cat__last contact date_2008-10-16&#x27;, &#x27;cat__last contact date_2008-10-17&#x27;, &#x27;cat__last contact date_2008-10-18&#x27;, &#x27;cat__last contact date_2008-10-19&#x27;, &#x27;cat__last contact date_2008-10-20&#x27;, &#x27;cat__last contact date_2008-10-21&#x27;, &#x27;cat__last contact date_2008-10-22&#x27;, &#x27;cat__last contact date_2008-10-23&#x27;, &#x27;cat__last contact date_2008-10-24&#x27;, &#x27;cat__last contact date_2008-10-25&#x27;, &#x27;cat__last contact date_2008-10-26&#x27;, &#x27;cat__last contact date_2008-10-27&#x27;, &#x27;cat__last contact date_2008-10-28&#x27;, &#x27;cat__last contact date_2008-10-29&#x27;, &#x27;cat__last contact date_2008-10-30&#x27;, &#x27;cat__last contact date_2008-10-31&#x27;, &#x27;cat__last contact date_2008-11-02&#x27;, &#x27;cat__last contact date_2008-11-03&#x27;, &#x27;cat__last contact date_2008-11-04&#x27;, &#x27;cat__last contact date_2008-11-05&#x27;, &#x27;cat__last contact date_2008-11-06&#x27;, &#x27;cat__last contact date_2008-11-08&#x27;, &#x27;cat__last contact date_2008-11-09&#x27;, &#x27;cat__last contact date_2008-11-10&#x27;, &#x27;cat__last contact date_2008-11-11&#x27;, &#x27;cat__last contact date_2008-11-12&#x27;, &#x27;cat__last contact date_2008-11-13&#x27;, &#x27;cat__last contact date_2008-11-14&#x27;, &#x27;cat__last contact date_2008-11-15&#x27;, &#x27;cat__last contact date_2008-11-16&#x27;, &#x27;cat__last contact date_2008-11-17&#x27;, &#x27;cat__last contact date_2008-11-18&#x27;, &#x27;cat__last contact date_2008-11-19&#x27;, &#x27;cat__last contact date_2008-11-20&#x27;, &#x27;cat__last contact date_2008-11-21&#x27;, &#x27;cat__last contact date_2008-11-22&#x27;, &#x27;cat__last contact date_2008-11-24&#x27;, &#x27;cat__last contact date_2008-11-25&#x27;, &#x27;cat__last contact date_2008-11-27&#x27;, &#x27;cat__last contact date_2008-11-30&#x27;, &#x27;cat__last contact date_2008-12-01&#x27;, &#x27;cat__last contact date_2008-12-02&#x27;, &#x27;cat__last contact date_2008-12-03&#x27;, &#x27;cat__last contact date_2008-12-04&#x27;, &#x27;cat__last contact date_2008-12-05&#x27;, &#x27;cat__last contact date_2008-12-06&#x27;, &#x27;cat__last contact date_2008-12-07&#x27;, &#x27;cat__last contact date_2008-12-08&#x27;, &#x27;cat__last contact date_2008-12-09&#x27;, &#x27;cat__last contact date_2008-12-10&#x27;, &#x27;cat__last contact date_2008-12-11&#x27;, &#x27;cat__last contact date_2008-12-12&#x27;, &#x27;cat__last contact date_2008-12-13&#x27;, &#x27;cat__last contact date_2008-12-14&#x27;, &#x27;cat__last contact date_2008-12-15&#x27;, &#x27;cat__last contact date_2008-12-16&#x27;, &#x27;cat__last contact date_2008-12-17&#x27;, &#x27;cat__last contact date_2008-12-18&#x27;, &#x27;cat__last contact date_2008-12-19&#x27;, &#x27;cat__last contact date_2008-12-20&#x27;, &#x27;cat__last contact date_2008-12-21&#x27;, &#x27;cat__last contact date_2008-12-22&#x27;, &#x27;cat__last contact date_2008-12-23&#x27;, &#x27;cat__last contact date_2008-12-24&#x27;, &#x27;cat__last contact date_2008-12-25&#x27;, &#x27;cat__last contact date_2008-12-26&#x27;, &#x27;cat__last contact date_2008-12-27&#x27;, &#x27;cat__last contact date_2008-12-28&#x27;, &#x27;cat__last contact date_2008-12-29&#x27;, &#x27;cat__last contact date_2008-12-30&#x27;, &#x27;cat__last contact date_2008-12-31&#x27;, &#x27;cat__last contact date_2009-01-01&#x27;, &#x27;cat__last contact date_2009-01-02&#x27;, &#x27;cat__last contact date_2009-01-03&#x27;, &#x27;cat__last contact date_2009-01-04&#x27;, &#x27;cat__last contact date_2009-01-05&#x27;, &#x27;cat__last contact date_2009-01-06&#x27;, &#x27;cat__last contact date_2009-01-07&#x27;, &#x27;cat__last contact date_2009-01-08&#x27;, &#x27;cat__last contact date_2009-01-09&#x27;, &#x27;cat__last contact date_2009-01-10&#x27;, &#x27;cat__last contact date_2009-01-11&#x27;, &#x27;cat__last contact date_2009-01-12&#x27;, &#x27;cat__last contact date_2009-01-13&#x27;, &#x27;cat__last contact date_2009-01-14&#x27;, &#x27;cat__last contact date_2009-01-15&#x27;, &#x27;cat__last contact date_2009-01-16&#x27;, &#x27;cat__last contact date_2009-01-17&#x27;, &#x27;cat__last contact date_2009-01-18&#x27;, &#x27;cat__last contact date_2009-01-19&#x27;, &#x27;cat__last contact date_2009-01-20&#x27;, &#x27;cat__last contact date_2009-01-21&#x27;, &#x27;cat__last contact date_2009-01-22&#x27;, &#x27;cat__last contact date_2009-01-23&#x27;, &#x27;cat__last contact date_2009-01-24&#x27;, &#x27;cat__last contact date_2009-01-25&#x27;, &#x27;cat__last contact date_2009-01-26&#x27;, &#x27;cat__last contact date_2009-01-27&#x27;, &#x27;cat__last contact date_2009-01-28&#x27;, &#x27;cat__last contact date_2009-01-29&#x27;, &#x27;cat__last contact date_2009-01-30&#x27;, &#x27;cat__last contact date_2009-02-01&#x27;, &#x27;cat__last contact date_2009-02-02&#x27;, &#x27;cat__last contact date_2009-02-03&#x27;, &#x27;cat__last contact date_2009-02-04&#x27;, &#x27;cat__last contact date_2009-02-05&#x27;, &#x27;cat__last contact date_2009-02-06&#x27;, &#x27;cat__last contact date_2009-02-08&#x27;, &#x27;cat__last contact date_2009-02-09&#x27;, &#x27;cat__last contact date_2009-02-10&#x27;, &#x27;cat__last contact date_2009-02-11&#x27;, &#x27;cat__last contact date_2009-02-12&#x27;, &#x27;cat__last contact date_2009-02-13&#x27;, &#x27;cat__last contact date_2009-02-15&#x27;, &#x27;cat__last contact date_2009-02-16&#x27;, &#x27;cat__last contact date_2009-02-17&#x27;, &#x27;cat__last contact date_2009-02-18&#x27;, &#x27;cat__last contact date_2009-02-19&#x27;, &#x27;cat__last contact date_2009-02-22&#x27;, &#x27;cat__last contact date_2009-02-23&#x27;, &#x27;cat__last contact date_2009-02-24&#x27;, &#x27;cat__last contact date_2009-02-25&#x27;, &#x27;cat__last contact date_2009-02-26&#x27;, &#x27;cat__last contact date_2009-02-27&#x27;, &#x27;cat__last contact date_2009-03-01&#x27;, &#x27;cat__last contact date_2009-03-02&#x27;, &#x27;cat__last contact date_2009-03-03&#x27;, &#x27;cat__last contact date_2009-03-04&#x27;, &#x27;cat__last contact date_2009-03-05&#x27;, &#x27;cat__last contact date_2009-03-06&#x27;, &#x27;cat__last contact date_2009-03-07&#x27;, &#x27;cat__last contact date_2009-03-08&#x27;, &#x27;cat__last contact date_2009-03-09&#x27;, &#x27;cat__last contact date_2009-03-10&#x27;, &#x27;cat__last contact date_2009-03-11&#x27;, &#x27;cat__last contact date_2009-03-12&#x27;, &#x27;cat__last contact date_2009-03-13&#x27;, &#x27;cat__last contact date_2009-03-14&#x27;, &#x27;cat__last contact date_2009-03-15&#x27;, &#x27;cat__last contact date_2009-03-16&#x27;, &#x27;cat__last contact date_2009-03-17&#x27;, &#x27;cat__last contact date_2009-03-18&#x27;, &#x27;cat__last contact date_2009-03-19&#x27;, &#x27;cat__last contact date_2009-03-20&#x27;, &#x27;cat__last contact date_2009-03-21&#x27;, &#x27;cat__last contact date_2009-03-22&#x27;, &#x27;cat__last contact date_2009-03-23&#x27;, &#x27;cat__last contact date_2009-03-24&#x27;, &#x27;cat__last contact date_2009-03-25&#x27;, &#x27;cat__last contact date_2009-03-26&#x27;, &#x27;cat__last contact date_2009-03-27&#x27;, &#x27;cat__last contact date_2009-03-28&#x27;, &#x27;cat__last contact date_2009-03-29&#x27;, &#x27;cat__last contact date_2009-03-30&#x27;, &#x27;cat__last contact date_2009-03-31&#x27;, &#x27;cat__last contact date_2009-04-01&#x27;, &#x27;cat__last contact date_2009-04-02&#x27;, &#x27;cat__last contact date_2009-04-03&#x27;, &#x27;cat__last contact date_2009-04-05&#x27;, &#x27;cat__last contact date_2009-04-06&#x27;, &#x27;cat__last contact date_2009-04-07&#x27;, &#x27;cat__last contact date_2009-04-08&#x27;, &#x27;cat__last contact date_2009-04-09&#x27;, &#x27;cat__last contact date_2009-04-12&#x27;, &#x27;cat__last contact date_2009-04-13&#x27;, &#x27;cat__last contact date_2009-04-14&#x27;, &#x27;cat__last contact date_2009-04-15&#x27;, &#x27;cat__last contact date_2009-04-16&#x27;, &#x27;cat__last contact date_2009-04-17&#x27;, &#x27;cat__last contact date_2009-04-19&#x27;, &#x27;cat__last contact date_2009-04-20&#x27;, &#x27;cat__last contact date_2009-04-21&#x27;, &#x27;cat__last contact date_2009-04-22&#x27;, &#x27;cat__last contact date_2009-04-23&#x27;, &#x27;cat__last contact date_2009-04-24&#x27;, &#x27;cat__last contact date_2009-04-26&#x27;, &#x27;cat__last contact date_2009-04-27&#x27;, &#x27;cat__last contact date_2009-04-28&#x27;, &#x27;cat__last contact date_2009-04-29&#x27;, &#x27;cat__last contact date_2009-04-30&#x27;, &#x27;cat__last contact date_2009-05-04&#x27;, &#x27;cat__last contact date_2009-05-05&#x27;, &#x27;cat__last contact date_2009-05-06&#x27;, &#x27;cat__last contact date_2009-05-07&#x27;, &#x27;cat__last contact date_2009-05-08&#x27;, &#x27;cat__last contact date_2009-05-09&#x27;, &#x27;cat__last contact date_2009-05-10&#x27;, &#x27;cat__last contact date_2009-05-11&#x27;, &#x27;cat__last contact date_2009-05-12&#x27;, &#x27;cat__last contact date_2009-05-13&#x27;, &#x27;cat__last contact date_2009-05-14&#x27;, &#x27;cat__last contact date_2009-05-15&#x27;, &#x27;cat__last contact date_2009-05-16&#x27;, &#x27;cat__last contact date_2009-05-17&#x27;, &#x27;cat__last contact date_2009-05-18&#x27;, &#x27;cat__last contact date_2009-05-19&#x27;, &#x27;cat__last contact date_2009-05-20&#x27;, &#x27;cat__last contact date_2009-05-21&#x27;, &#x27;cat__last contact date_2009-05-22&#x27;, &#x27;cat__last contact date_2009-05-23&#x27;, &#x27;cat__last contact date_2009-05-24&#x27;, &#x27;cat__last contact date_2009-05-25&#x27;, &#x27;cat__last contact date_2009-05-26&#x27;, &#x27;cat__last contact date_2009-05-27&#x27;, &#x27;cat__last contact date_2009-05-28&#x27;, &#x27;cat__last contact date_2009-05-29&#x27;, &#x27;cat__last contact date_2009-05-30&#x27;, &#x27;cat__last contact date_2009-05-31&#x27;, &#x27;cat__last contact date_2009-06-01&#x27;, &#x27;cat__last contact date_2009-06-02&#x27;, &#x27;cat__last contact date_2009-06-03&#x27;, &#x27;cat__last contact date_2009-06-04&#x27;, &#x27;cat__last contact date_2009-06-05&#x27;, &#x27;cat__last contact date_2009-06-06&#x27;, &#x27;cat__last contact date_2009-06-07&#x27;, &#x27;cat__last contact date_2009-06-08&#x27;, &#x27;cat__last contact date_2009-06-09&#x27;, &#x27;cat__last contact date_2009-06-11&#x27;, &#x27;cat__last contact date_2009-06-12&#x27;, &#x27;cat__last contact date_2009-06-13&#x27;, &#x27;cat__last contact date_2009-06-14&#x27;, &#x27;cat__last contact date_2009-06-15&#x27;, &#x27;cat__last contact date_2009-06-16&#x27;, &#x27;cat__last contact date_2009-06-17&#x27;, &#x27;cat__last contact date_2009-06-18&#x27;, &#x27;cat__last contact date_2009-06-19&#x27;, &#x27;cat__last contact date_2009-06-20&#x27;, &#x27;cat__last contact date_2009-06-22&#x27;, &#x27;cat__last contact date_2009-06-23&#x27;, &#x27;cat__last contact date_2009-06-24&#x27;, &#x27;cat__last contact date_2009-06-25&#x27;, &#x27;cat__last contact date_2009-06-26&#x27;, &#x27;cat__last contact date_2009-06-27&#x27;, &#x27;cat__last contact date_2009-06-28&#x27;, &#x27;cat__last contact date_2009-06-29&#x27;, &#x27;cat__last contact date_2009-06-30&#x27;, &#x27;cat__last contact date_2009-07-01&#x27;, &#x27;cat__last contact date_2009-07-02&#x27;, &#x27;cat__last contact date_2009-07-03&#x27;, &#x27;cat__last contact date_2009-07-04&#x27;, &#x27;cat__last contact date_2009-07-06&#x27;, &#x27;cat__last contact date_2009-07-07&#x27;, &#x27;cat__last contact date_2009-07-08&#x27;, &#x27;cat__last contact date_2009-07-09&#x27;, &#x27;cat__last contact date_2009-07-10&#x27;, &#x27;cat__last contact date_2009-07-11&#x27;, &#x27;cat__last contact date_2009-07-12&#x27;, &#x27;cat__last contact date_2009-07-13&#x27;, &#x27;cat__last contact date_2009-07-14&#x27;, &#x27;cat__last contact date_2009-07-15&#x27;, &#x27;cat__last contact date_2009-07-16&#x27;, &#x27;cat__last contact date_2009-07-17&#x27;, &#x27;cat__last contact date_2009-07-18&#x27;, &#x27;cat__last contact date_2009-07-19&#x27;, &#x27;cat__last contact date_2009-07-20&#x27;, &#x27;cat__last contact date_2009-07-21&#x27;, &#x27;cat__last contact date_2009-07-22&#x27;, &#x27;cat__last contact date_2009-07-23&#x27;, &#x27;cat__last contact date_2009-07-24&#x27;, &#x27;cat__last contact date_2009-07-25&#x27;, &#x27;cat__last contact date_2009-07-26&#x27;, &#x27;cat__last contact date_2009-07-27&#x27;, &#x27;cat__last contact date_2009-07-28&#x27;, &#x27;cat__last contact date_2009-07-29&#x27;, &#x27;cat__last contact date_2009-07-30&#x27;, &#x27;cat__last contact date_2009-07-31&#x27;, &#x27;cat__last contact date_2009-08-02&#x27;, &#x27;cat__last contact date_2009-08-03&#x27;, &#x27;cat__last contact date_2009-08-04&#x27;, &#x27;cat__last contact date_2009-08-05&#x27;, &#x27;cat__last contact date_2009-08-06&#x27;, &#x27;cat__last contact date_2009-08-07&#x27;, &#x27;cat__last contact date_2009-08-08&#x27;, &#x27;cat__last contact date_2009-08-09&#x27;, &#x27;cat__last contact date_2009-08-10&#x27;, &#x27;cat__last contact date_2009-08-11&#x27;, &#x27;cat__last contact date_2009-08-12&#x27;, &#x27;cat__last contact date_2009-08-13&#x27;, &#x27;cat__last contact date_2009-08-14&#x27;, &#x27;cat__last contact date_2009-08-16&#x27;, &#x27;cat__last contact date_2009-08-17&#x27;, &#x27;cat__last contact date_2009-08-18&#x27;, &#x27;cat__last contact date_2009-08-19&#x27;, &#x27;cat__last contact date_2009-08-20&#x27;, &#x27;cat__last contact date_2009-08-21&#x27;, &#x27;cat__last contact date_2009-08-22&#x27;, &#x27;cat__last contact date_2009-08-24&#x27;, &#x27;cat__last contact date_2009-08-25&#x27;, &#x27;cat__last contact date_2009-08-26&#x27;, &#x27;cat__last contact date_2009-08-27&#x27;, &#x27;cat__last contact date_2009-08-28&#x27;, &#x27;cat__last contact date_2009-08-29&#x27;, &#x27;cat__last contact date_2009-08-31&#x27;, &#x27;cat__last contact date_2009-09-01&#x27;, &#x27;cat__last contact date_2009-09-02&#x27;, &#x27;cat__last contact date_2009-09-03&#x27;, &#x27;cat__last contact date_2009-09-04&#x27;, &#x27;cat__last contact date_2009-09-05&#x27;, &#x27;cat__last contact date_2009-09-06&#x27;, &#x27;cat__last contact date_2009-09-07&#x27;, &#x27;cat__last contact date_2009-09-08&#x27;, &#x27;cat__last contact date_2009-09-09&#x27;, &#x27;cat__last contact date_2009-09-10&#x27;, &#x27;cat__last contact date_2009-09-11&#x27;, &#x27;cat__last contact date_2009-09-12&#x27;, &#x27;cat__last contact date_2009-09-13&#x27;, &#x27;cat__last contact date_2009-09-14&#x27;, &#x27;cat__last contact date_2009-09-15&#x27;, &#x27;cat__last contact date_2009-09-16&#x27;, &#x27;cat__last contact date_2009-09-17&#x27;, &#x27;cat__last contact date_2009-09-18&#x27;, &#x27;cat__last contact date_2009-09-19&#x27;, &#x27;cat__last contact date_2009-09-20&#x27;, &#x27;cat__last contact date_2009-09-21&#x27;, &#x27;cat__last contact date_2009-09-22&#x27;, &#x27;cat__last contact date_2009-09-23&#x27;, &#x27;cat__last contact date_2009-09-24&#x27;, &#x27;cat__last contact date_2009-09-25&#x27;, &#x27;cat__last contact date_2009-09-26&#x27;, &#x27;cat__last contact date_2009-09-27&#x27;, &#x27;cat__last contact date_2009-09-28&#x27;, &#x27;cat__last contact date_2009-09-29&#x27;, &#x27;cat__last contact date_2009-09-30&#x27;, &#x27;cat__last contact date_2009-10-01&#x27;, &#x27;cat__last contact date_2009-10-02&#x27;, &#x27;cat__last contact date_2009-10-03&#x27;, &#x27;cat__last contact date_2009-10-04&#x27;, &#x27;cat__last contact date_2009-10-05&#x27;, &#x27;cat__last contact date_2009-10-06&#x27;, &#x27;cat__last contact date_2009-10-07&#x27;, &#x27;cat__last contact date_2009-10-08&#x27;, &#x27;cat__last contact date_2009-10-09&#x27;, &#x27;cat__last contact date_2009-10-10&#x27;, &#x27;cat__last contact date_2009-10-11&#x27;, &#x27;cat__last contact date_2009-10-12&#x27;, &#x27;cat__last contact date_2009-10-13&#x27;, &#x27;cat__last contact date_2009-10-14&#x27;, &#x27;cat__last contact date_2009-10-15&#x27;, &#x27;cat__last contact date_2009-10-16&#x27;, &#x27;cat__last contact date_2009-10-17&#x27;, &#x27;cat__last contact date_2009-10-18&#x27;, &#x27;cat__last contact date_2009-10-19&#x27;, &#x27;cat__last contact date_2009-10-20&#x27;, &#x27;cat__last contact date_2009-10-21&#x27;, &#x27;cat__last contact date_2009-10-22&#x27;, &#x27;cat__last contact date_2009-10-23&#x27;, &#x27;cat__last contact date_2009-10-24&#x27;, &#x27;cat__last contact date_2009-10-25&#x27;, &#x27;cat__last contact date_2009-10-26&#x27;, &#x27;cat__last contact date_2009-10-27&#x27;, &#x27;cat__last contact date_2009-10-28&#x27;, &#x27;cat__last contact date_2009-10-29&#x27;, &#x27;cat__last contact date_2009-10-30&#x27;, &#x27;cat__last contact date_2009-10-31&#x27;, &#x27;cat__last contact date_2009-11-02&#x27;, &#x27;cat__last contact date_2009-11-03&#x27;, &#x27;cat__last contact date_2009-11-04&#x27;, &#x27;cat__last contact date_2009-11-05&#x27;, &#x27;cat__last contact date_2009-11-06&#x27;, &#x27;cat__last contact date_2009-11-08&#x27;, &#x27;cat__last contact date_2009-11-09&#x27;, &#x27;cat__last contact date_2009-11-10&#x27;, &#x27;cat__last contact date_2009-11-11&#x27;, &#x27;cat__last contact date_2009-11-12&#x27;, &#x27;cat__last contact date_2009-11-13&#x27;, &#x27;cat__last contact date_2009-11-14&#x27;, &#x27;cat__last contact date_2009-11-15&#x27;, &#x27;cat__last contact date_2009-11-16&#x27;, &#x27;cat__last contact date_2009-11-17&#x27;, &#x27;cat__last contact date_2009-11-18&#x27;, &#x27;cat__last contact date_2009-11-19&#x27;, &#x27;cat__last contact date_2009-11-20&#x27;, &#x27;cat__last contact date_2009-11-21&#x27;, &#x27;cat__last contact date_2009-11-24&#x27;, &#x27;cat__last contact date_2009-11-25&#x27;, &#x27;cat__last contact date_2009-11-27&#x27;, &#x27;cat__last contact date_2009-11-30&#x27;, &#x27;cat__last contact date_2009-12-01&#x27;, &#x27;cat__last contact date_2009-12-02&#x27;, &#x27;cat__last contact date_2009-12-03&#x27;, &#x27;cat__last contact date_2009-12-04&#x27;, &#x27;cat__last contact date_2009-12-05&#x27;, &#x27;cat__last contact date_2009-12-06&#x27;, &#x27;cat__last contact date_2009-12-07&#x27;, &#x27;cat__last contact date_2009-12-08&#x27;, &#x27;cat__last contact date_2009-12-09&#x27;, &#x27;cat__last contact date_2009-12-10&#x27;, &#x27;cat__last contact date_2009-12-11&#x27;, &#x27;cat__last contact date_2009-12-12&#x27;, &#x27;cat__last contact date_2009-12-13&#x27;, &#x27;cat__last contact date_2009-12-14&#x27;, &#x27;cat__last contact date_2009-12-15&#x27;, &#x27;cat__last contact date_2009-12-16&#x27;, &#x27;cat__last contact date_2009-12-17&#x27;, &#x27;cat__last contact date_2009-12-18&#x27;, &#x27;cat__last contact date_2009-12-19&#x27;, &#x27;cat__last contact date_2009-12-20&#x27;, &#x27;cat__last contact date_2009-12-21&#x27;, &#x27;cat__last contact date_2009-12-22&#x27;, &#x27;cat__last contact date_2009-12-23&#x27;, &#x27;cat__last contact date_2009-12-24&#x27;, &#x27;cat__last contact date_2009-12-25&#x27;, &#x27;cat__last contact date_2009-12-26&#x27;, &#x27;cat__last contact date_2009-12-27&#x27;, &#x27;cat__last contact date_2009-12-28&#x27;, &#x27;cat__last contact date_2009-12-29&#x27;, &#x27;cat__last contact date_2009-12-30&#x27;, &#x27;cat__last contact date_2010-01-01&#x27;, &#x27;cat__last contact date_2010-01-02&#x27;, &#x27;cat__last contact date_2010-01-03&#x27;, &#x27;cat__last contact date_2010-01-04&#x27;, &#x27;cat__last contact date_2010-01-05&#x27;, &#x27;cat__last contact date_2010-01-06&#x27;, &#x27;cat__last contact date_2010-01-07&#x27;, &#x27;cat__last contact date_2010-01-08&#x27;, &#x27;cat__last contact date_2010-01-09&#x27;, &#x27;cat__last contact date_2010-01-10&#x27;, &#x27;cat__last contact date_2010-01-11&#x27;, &#x27;cat__last contact date_2010-01-12&#x27;, &#x27;cat__last contact date_2010-01-13&#x27;, &#x27;cat__last contact date_2010-01-14&#x27;, &#x27;cat__last contact date_2010-01-15&#x27;, &#x27;cat__last contact date_2010-01-16&#x27;, &#x27;cat__last contact date_2010-01-17&#x27;, &#x27;cat__last contact date_2010-01-18&#x27;, &#x27;cat__last contact date_2010-01-19&#x27;, &#x27;cat__last contact date_2010-01-20&#x27;, &#x27;cat__last contact date_2010-01-21&#x27;, &#x27;cat__last contact date_2010-01-22&#x27;, &#x27;cat__last contact date_2010-01-23&#x27;, &#x27;cat__last contact date_2010-01-24&#x27;, &#x27;cat__last contact date_2010-01-25&#x27;, &#x27;cat__last contact date_2010-01-26&#x27;, &#x27;cat__last contact date_2010-01-27&#x27;, &#x27;cat__last contact date_2010-01-28&#x27;, &#x27;cat__last contact date_2010-01-29&#x27;, &#x27;cat__last contact date_2010-01-30&#x27;, &#x27;cat__last contact date_2010-02-01&#x27;, &#x27;cat__last contact date_2010-02-02&#x27;, &#x27;cat__last contact date_2010-02-03&#x27;, &#x27;cat__last contact date_2010-02-04&#x27;, &#x27;cat__last contact date_2010-02-05&#x27;, &#x27;cat__last contact date_2010-02-06&#x27;, &#x27;cat__last contact date_2010-02-08&#x27;, &#x27;cat__last contact date_2010-02-09&#x27;, &#x27;cat__last contact date_2010-02-10&#x27;, &#x27;cat__last contact date_2010-02-11&#x27;, &#x27;cat__last contact date_2010-02-12&#x27;, &#x27;cat__last contact date_2010-02-13&#x27;, &#x27;cat__last contact date_2010-02-15&#x27;, &#x27;cat__last contact date_2010-02-16&#x27;, &#x27;cat__last contact date_2010-02-17&#x27;, &#x27;cat__last contact date_2010-02-18&#x27;, &#x27;cat__last contact date_2010-02-19&#x27;, &#x27;cat__last contact date_2010-02-21&#x27;, &#x27;cat__last contact date_2010-02-22&#x27;, &#x27;cat__last contact date_2010-02-23&#x27;, &#x27;cat__last contact date_2010-02-24&#x27;, &#x27;cat__last contact date_2010-02-25&#x27;, &#x27;cat__last contact date_2010-02-26&#x27;, &#x27;cat__last contact date_2010-02-27&#x27;, &#x27;cat__last contact date_2010-03-01&#x27;, &#x27;cat__last contact date_2010-03-02&#x27;, &#x27;cat__last contact date_2010-03-03&#x27;, &#x27;cat__last contact date_2010-03-04&#x27;, &#x27;cat__last contact date_2010-03-05&#x27;, &#x27;cat__last contact date_2010-03-06&#x27;, &#x27;cat__last contact date_2010-03-07&#x27;, &#x27;cat__last contact date_2010-03-08&#x27;, &#x27;cat__last contact date_2010-03-09&#x27;, &#x27;cat__last contact date_2010-03-10&#x27;, &#x27;cat__last contact date_2010-03-11&#x27;, &#x27;cat__last contact date_2010-03-12&#x27;, &#x27;cat__last contact date_2010-03-13&#x27;, &#x27;cat__last contact date_2010-03-14&#x27;, &#x27;cat__last contact date_2010-03-15&#x27;, &#x27;cat__last contact date_2010-03-16&#x27;, &#x27;cat__last contact date_2010-03-17&#x27;, &#x27;cat__last contact date_2010-03-18&#x27;, &#x27;cat__last contact date_2010-03-19&#x27;, &#x27;cat__last contact date_2010-03-20&#x27;, &#x27;cat__last contact date_2010-03-21&#x27;, &#x27;cat__last contact date_2010-03-22&#x27;, &#x27;cat__last contact date_2010-03-23&#x27;, &#x27;cat__last contact date_2010-03-24&#x27;, &#x27;cat__last contact date_2010-03-25&#x27;, &#x27;cat__last contact date_2010-03-26&#x27;, &#x27;cat__last contact date_2010-03-27&#x27;, &#x27;cat__last contact date_2010-03-28&#x27;, &#x27;cat__last contact date_2010-03-29&#x27;, &#x27;cat__last contact date_2010-03-30&#x27;, &#x27;cat__last contact date_2010-03-31&#x27;, &#x27;cat__last contact date_2010-04-01&#x27;, &#x27;cat__last contact date_2010-04-02&#x27;, &#x27;cat__last contact date_2010-04-03&#x27;, &#x27;cat__last contact date_2010-04-05&#x27;, &#x27;cat__last contact date_2010-04-06&#x27;, &#x27;cat__last contact date_2010-04-07&#x27;, &#x27;cat__last contact date_2010-04-08&#x27;, &#x27;cat__last contact date_2010-04-09&#x27;, &#x27;cat__last contact date_2010-04-12&#x27;, &#x27;cat__last contact date_2010-04-13&#x27;, &#x27;cat__last contact date_2010-04-14&#x27;, &#x27;cat__last contact date_2010-04-15&#x27;, &#x27;cat__last contact date_2010-04-16&#x27;, &#x27;cat__last contact date_2010-04-17&#x27;, &#x27;cat__last contact date_2010-04-19&#x27;, &#x27;cat__last contact date_2010-04-20&#x27;, &#x27;cat__last contact date_2010-04-21&#x27;, &#x27;cat__last contact date_2010-04-22&#x27;, &#x27;cat__last contact date_2010-04-23&#x27;, &#x27;cat__last contact date_2010-04-24&#x27;, &#x27;cat__last contact date_2010-04-26&#x27;, &#x27;cat__last contact date_2010-04-27&#x27;, &#x27;cat__last contact date_2010-04-28&#x27;, &#x27;cat__last contact date_2010-04-29&#x27;, &#x27;cat__last contact date_2010-04-30&#x27;, &#x27;cat__last contact date_2010-05-04&#x27;, &#x27;cat__last contact date_2010-05-05&#x27;, &#x27;cat__last contact date_2010-05-06&#x27;, &#x27;cat__last contact date_2010-05-07&#x27;, &#x27;cat__last contact date_2010-05-08&#x27;, &#x27;cat__last contact date_2010-05-09&#x27;, &#x27;cat__last contact date_2010-05-10&#x27;, &#x27;cat__last contact date_2010-05-11&#x27;, &#x27;cat__last contact date_2010-05-12&#x27;, &#x27;cat__last contact date_2010-05-13&#x27;, &#x27;cat__last contact date_2010-05-14&#x27;, &#x27;cat__last contact date_2010-05-15&#x27;, &#x27;cat__last contact date_2010-05-16&#x27;, &#x27;cat__last contact date_2010-05-17&#x27;, &#x27;cat__last contact date_2010-05-18&#x27;, &#x27;cat__last contact date_2010-05-19&#x27;, &#x27;cat__last contact date_2010-05-20&#x27;, &#x27;cat__last contact date_2010-05-21&#x27;, &#x27;cat__last contact date_2010-05-22&#x27;, &#x27;cat__last contact date_2010-05-23&#x27;, &#x27;cat__last contact date_2010-05-24&#x27;, &#x27;cat__last contact date_2010-05-25&#x27;, &#x27;cat__last contact date_2010-05-26&#x27;, &#x27;cat__last contact date_2010-05-27&#x27;, &#x27;cat__last contact date_2010-05-28&#x27;, &#x27;cat__last contact date_2010-05-29&#x27;, &#x27;cat__last contact date_2010-05-30&#x27;, &#x27;cat__last contact date_2010-05-31&#x27;, &#x27;cat__last contact date_2010-06-01&#x27;, &#x27;cat__last contact date_2010-06-02&#x27;, &#x27;cat__last contact date_2010-06-03&#x27;, &#x27;cat__last contact date_2010-06-04&#x27;, &#x27;cat__last contact date_2010-06-05&#x27;, &#x27;cat__last contact date_2010-06-06&#x27;, &#x27;cat__last contact date_2010-06-07&#x27;, &#x27;cat__last contact date_2010-06-08&#x27;, &#x27;cat__last contact date_2010-06-09&#x27;, &#x27;cat__last contact date_2010-06-11&#x27;, &#x27;cat__last contact date_2010-06-12&#x27;, &#x27;cat__last contact date_2010-06-14&#x27;, &#x27;cat__last contact date_2010-06-15&#x27;, &#x27;cat__last contact date_2010-06-16&#x27;, &#x27;cat__last contact date_2010-06-17&#x27;, &#x27;cat__last contact date_2010-06-18&#x27;, &#x27;cat__last contact date_2010-06-19&#x27;, &#x27;cat__last contact date_2010-06-20&#x27;, &#x27;cat__last contact date_2010-06-21&#x27;, &#x27;cat__last contact date_2010-06-22&#x27;, &#x27;cat__last contact date_2010-06-23&#x27;, &#x27;cat__last contact date_2010-06-24&#x27;, &#x27;cat__last contact date_2010-06-25&#x27;, &#x27;cat__last contact date_2010-06-26&#x27;, &#x27;cat__last contact date_2010-06-27&#x27;, &#x27;cat__last contact date_2010-06-28&#x27;, &#x27;cat__last contact date_2010-06-29&#x27;, &#x27;cat__last contact date_2010-06-30&#x27;, &#x27;cat__last contact date_2010-07-01&#x27;, &#x27;cat__last contact date_2010-07-02&#x27;, &#x27;cat__last contact date_2010-07-03&#x27;, &#x27;cat__last contact date_2010-07-04&#x27;, &#x27;cat__last contact date_2010-07-05&#x27;, &#x27;cat__last contact date_2010-07-06&#x27;, &#x27;cat__last contact date_2010-07-07&#x27;, &#x27;cat__last contact date_2010-07-08&#x27;, &#x27;cat__last contact date_2010-07-09&#x27;, &#x27;cat__last contact date_2010-07-10&#x27;, &#x27;cat__last contact date_2010-07-11&#x27;, &#x27;cat__last contact date_2010-07-12&#x27;, &#x27;cat__last contact date_2010-07-13&#x27;, &#x27;cat__last contact date_2010-07-14&#x27;, &#x27;cat__last contact date_2010-07-15&#x27;, &#x27;cat__last contact date_2010-07-16&#x27;, &#x27;cat__last contact date_2010-07-17&#x27;, &#x27;cat__last contact date_2010-07-18&#x27;, &#x27;cat__last contact date_2010-07-19&#x27;, &#x27;cat__last contact date_2010-07-20&#x27;, &#x27;cat__last contact date_2010-07-21&#x27;, &#x27;cat__last contact date_2010-07-22&#x27;, &#x27;cat__last contact date_2010-07-23&#x27;, &#x27;cat__last contact date_2010-07-24&#x27;, &#x27;cat__last contact date_2010-07-25&#x27;, &#x27;cat__last contact date_2010-07-26&#x27;, &#x27;cat__last contact date_2010-07-27&#x27;, &#x27;cat__last contact date_2010-07-28&#x27;, &#x27;cat__last contact date_2010-07-29&#x27;, &#x27;cat__last contact date_2010-07-30&#x27;, &#x27;cat__last contact date_2010-07-31&#x27;, &#x27;cat__last contact date_2010-08-02&#x27;, &#x27;cat__last contact date_2010-08-03&#x27;, &#x27;cat__last contact date_2010-08-04&#x27;, &#x27;cat__last contact date_2010-08-05&#x27;, &#x27;cat__last contact date_2010-08-06&#x27;, &#x27;cat__last contact date_2010-08-07&#x27;, &#x27;cat__last contact date_2010-08-08&#x27;, &#x27;cat__last contact date_2010-08-09&#x27;, &#x27;cat__last contact date_2010-08-10&#x27;, &#x27;cat__last contact date_2010-08-11&#x27;, &#x27;cat__last contact date_2010-08-12&#x27;, &#x27;cat__last contact date_2010-08-13&#x27;, &#x27;cat__last contact date_2010-08-14&#x27;, &#x27;cat__last contact date_2010-08-16&#x27;, &#x27;cat__last contact date_2010-08-17&#x27;, &#x27;cat__last contact date_2010-08-18&#x27;, &#x27;cat__last contact date_2010-08-19&#x27;, &#x27;cat__last contact date_2010-08-20&#x27;, &#x27;cat__last contact date_2010-08-21&#x27;, &#x27;cat__last contact date_2010-08-22&#x27;, &#x27;cat__last contact date_2010-08-23&#x27;, &#x27;cat__last contact date_2010-08-24&#x27;, &#x27;cat__last contact date_2010-08-25&#x27;, &#x27;cat__last contact date_2010-08-26&#x27;, &#x27;cat__last contact date_2010-08-27&#x27;, &#x27;cat__last contact date_2010-08-28&#x27;, &#x27;cat__last contact date_2010-08-29&#x27;, &#x27;cat__last contact date_2010-08-31&#x27;, &#x27;cat__last contact date_2010-09-01&#x27;, &#x27;cat__last contact date_2010-09-02&#x27;, &#x27;cat__last contact date_2010-09-03&#x27;, &#x27;cat__last contact date_2010-09-04&#x27;, &#x27;cat__last contact date_2010-09-05&#x27;, &#x27;cat__last contact date_2010-09-06&#x27;, &#x27;cat__last contact date_2010-09-07&#x27;, &#x27;cat__last contact date_2010-09-08&#x27;, &#x27;cat__last contact date_2010-09-09&#x27;, &#x27;cat__last contact date_2010-09-10&#x27;, &#x27;cat__last contact date_2010-09-11&#x27;, &#x27;cat__last contact date_2010-09-12&#x27;, &#x27;cat__last contact date_2010-09-13&#x27;, &#x27;cat__last contact date_2010-09-14&#x27;, &#x27;cat__last contact date_2010-09-15&#x27;, &#x27;cat__last contact date_2010-09-16&#x27;, &#x27;cat__last contact date_2010-09-17&#x27;, &#x27;cat__last contact date_2010-09-18&#x27;, &#x27;cat__last contact date_2010-09-19&#x27;, &#x27;cat__last contact date_2010-09-20&#x27;, &#x27;cat__last contact date_2010-09-21&#x27;, &#x27;cat__last contact date_2010-09-22&#x27;, &#x27;cat__last contact date_2010-09-23&#x27;, &#x27;cat__last contact date_2010-09-24&#x27;, &#x27;cat__last contact date_2010-09-25&#x27;, &#x27;cat__last contact date_2010-09-26&#x27;, &#x27;cat__last contact date_2010-09-27&#x27;, &#x27;cat__last contact date_2010-09-28&#x27;, &#x27;cat__last contact date_2010-09-29&#x27;, &#x27;cat__last contact date_2010-09-30&#x27;, &#x27;cat__last contact date_2010-10-01&#x27;, &#x27;cat__last contact date_2010-10-02&#x27;, &#x27;cat__last contact date_2010-10-03&#x27;, &#x27;cat__last contact date_2010-10-04&#x27;, &#x27;cat__last contact date_2010-10-05&#x27;, &#x27;cat__last contact date_2010-10-06&#x27;, &#x27;cat__last contact date_2010-10-07&#x27;, &#x27;cat__last contact date_2010-10-08&#x27;, &#x27;cat__last contact date_2010-10-09&#x27;, &#x27;cat__last contact date_2010-10-10&#x27;, &#x27;cat__last contact date_2010-10-11&#x27;, &#x27;cat__last contact date_2010-10-12&#x27;, &#x27;cat__last contact date_2010-10-13&#x27;, &#x27;cat__last contact date_2010-10-14&#x27;, &#x27;cat__last contact date_2010-10-15&#x27;, &#x27;cat__last contact date_2010-10-16&#x27;, &#x27;cat__last contact date_2010-10-17&#x27;, &#x27;cat__last contact date_2010-10-18&#x27;, &#x27;cat__last contact date_2010-10-19&#x27;, &#x27;cat__last contact date_2010-10-20&#x27;, &#x27;cat__last contact date_2010-10-21&#x27;, &#x27;cat__last contact date_2010-10-22&#x27;, &#x27;cat__last contact date_2010-10-23&#x27;, &#x27;cat__last contact date_2010-10-24&#x27;, &#x27;cat__last contact date_2010-10-25&#x27;, &#x27;cat__last contact date_2010-10-26&#x27;, &#x27;cat__last contact date_2010-10-27&#x27;, &#x27;cat__last contact date_2010-10-28&#x27;, &#x27;cat__last contact date_2010-10-29&#x27;, &#x27;cat__last contact date_2010-10-30&#x27;, &#x27;cat__last contact date_2010-10-31&#x27;, &#x27;cat__last contact date_2010-11-02&#x27;, &#x27;cat__last contact date_2010-11-03&#x27;, &#x27;cat__last contact date_2010-11-04&#x27;, &#x27;cat__last contact date_2010-11-05&#x27;, &#x27;cat__last contact date_2010-11-06&#x27;, &#x27;cat__last contact date_2010-11-08&#x27;, &#x27;cat__last contact date_2010-11-09&#x27;, &#x27;cat__last contact date_2010-11-10&#x27;, &#x27;cat__last contact date_2010-11-11&#x27;, &#x27;cat__last contact date_2010-11-12&#x27;, &#x27;cat__last contact date_2010-11-13&#x27;, &#x27;cat__last contact date_2010-11-14&#x27;, &#x27;cat__last contact date_2010-11-15&#x27;, &#x27;cat__last contact date_2010-11-16&#x27;, &#x27;cat__last contact date_2010-11-17&#x27;, &#x27;cat__last contact date_2010-11-18&#x27;, &#x27;cat__last contact date_2010-11-19&#x27;, &#x27;cat__last contact date_2010-11-20&#x27;, &#x27;cat__last contact date_2010-11-21&#x27;, &#x27;cat__last contact date_2010-11-24&#x27;, &#x27;cat__last contact date_2010-11-25&#x27;, &#x27;cat__last contact date_2010-11-27&#x27;, &#x27;cat__last contact date_2010-12-01&#x27;, &#x27;cat__last contact date_2010-12-02&#x27;, &#x27;cat__last contact date_2010-12-03&#x27;, &#x27;cat__last contact date_2010-12-04&#x27;, &#x27;cat__last contact date_2010-12-05&#x27;, &#x27;cat__last contact date_2010-12-06&#x27;, &#x27;cat__last contact date_2010-12-07&#x27;, &#x27;cat__last contact date_2010-12-08&#x27;, &#x27;cat__last contact date_2010-12-09&#x27;, &#x27;cat__last contact date_2010-12-10&#x27;, &#x27;cat__last contact date_2010-12-11&#x27;, &#x27;cat__last contact date_2010-12-12&#x27;, &#x27;cat__last contact date_2010-12-13&#x27;, &#x27;cat__last contact date_2010-12-14&#x27;, &#x27;cat__last contact date_2010-12-15&#x27;, &#x27;cat__last contact date_2010-12-16&#x27;, &#x27;cat__last contact date_2010-12-17&#x27;, &#x27;cat__last contact date_2010-12-18&#x27;, &#x27;cat__last contact date_2010-12-19&#x27;, &#x27;cat__last contact date_2010-12-20&#x27;, &#x27;cat__last contact date_2010-12-21&#x27;, &#x27;cat__last contact date_2010-12-22&#x27;, &#x27;cat__last contact date_2010-12-23&#x27;, &#x27;cat__last contact date_2010-12-24&#x27;, &#x27;cat__last contact date_2010-12-25&#x27;, &#x27;cat__last contact date_2010-12-26&#x27;, &#x27;cat__last contact date_2010-12-27&#x27;, &#x27;cat__last contact date_2010-12-28&#x27;, &#x27;cat__last contact date_2010-12-29&#x27;, &#x27;cat__last contact date_2010-12-30&#x27;, &#x27;cat__job_admin.&#x27;, &#x27;cat__job_blue-collar&#x27;, &#x27;cat__job_entrepreneur&#x27;, &#x27;cat__job_housemaid&#x27;, &#x27;cat__job_management&#x27;, &#x27;cat__job_retired&#x27;, &#x27;cat__job_self-employed&#x27;, &#x27;cat__job_services&#x27;, &#x27;cat__job_student&#x27;, &#x27;cat__job_technician&#x27;, &#x27;cat__job_unemployed&#x27;, &#x27;cat__marital_divorced&#x27;, &#x27;cat__marital_married&#x27;, &#x27;cat__marital_single&#x27;, &#x27;cat__education_primary&#x27;, &#x27;cat__education_secondary&#x27;, &#x27;cat__education_tertiary&#x27;, &#x27;cat__default_no&#x27;, &#x27;cat__default_yes&#x27;, &#x27;cat__housing_no&#x27;, &#x27;cat__housing_yes&#x27;, &#x27;cat__loan_no&#x27;, &#x27;cat__loan_yes&#x27;, &#x27;remainder__age&#x27;, &#x27;remainder__balance&#x27;, &#x27;remainder__duration&#x27;, &#x27;remainder__campaign&#x27;, &#x27;remainder__pdays&#x27;, &#x27;remainder__previous&#x27;]</pre></div></div></div><div class=\"sk-serial\"><div class=\"sk-item\"><div class=\"sk-estimator sk-toggleable\"><input class=\"sk-toggleable__control sk-hidden--visually\" id=\"sk-estimator-id-13\" type=\"checkbox\" ><label for=\"sk-estimator-id-13\" class=\"sk-toggleable__label sk-toggleable__label-arrow\">passthrough</label><div class=\"sk-toggleable__content\"><pre>passthrough</pre></div></div></div></div></div></div></div></div></div></div></div></div>"
      ],
      "text/plain": [
       "Pipeline(steps=[('cat_pipe',\n",
       "                 ColumnTransformer(remainder='passthrough',\n",
       "                                   transformers=[('cat',\n",
       "                                                  Pipeline(steps=[('imputer',\n",
       "                                                                   SimpleImputer(strategy='most_frequent')),\n",
       "                                                                  ('ohe',\n",
       "                                                                   OneHotEncoder(handle_unknown='ignore',\n",
       "                                                                                 sparse_output=False))]),\n",
       "                                                  [0, 2, 3, 4, 5, 7, 8])])),\n",
       "                ('num_pipe',\n",
       "                 ColumnTransformer(remainder='passthrough',\n",
       "                                   transformers=[('num',\n",
       "                                                  Pipeline(steps=[('imputer',\n",
       "                                                                   SimpleImputer()),\n",
       "                                                                  ('std',\n",
       "                                                                   StandardScaler())]),\n",
       "                                                  [1, 6, 9, 10, 11, 12])]))])"
      ]
     },
     "execution_count": 23,
     "metadata": {},
     "output_type": "execute_result"
    }
   ],
   "source": [
    "from sklearn.compose import ColumnTransformer\n",
    "from sklearn.pipeline import Pipeline\n",
    "from sklearn.impute import SimpleImputer\n",
    "from sklearn.preprocessing import OneHotEncoder, StandardScaler\n",
    "\n",
    "cat_pipe = Pipeline([(\"imputer\",SimpleImputer(strategy=\"most_frequent\")),\n",
    "                             (\"ohe\",OneHotEncoder(handle_unknown=\"ignore\",sparse_output=False))])\n",
    "\n",
    "\n",
    "cat_trf = ColumnTransformer([('cat',cat_pipe,[0,2,3,4,5,7,8])],\n",
    "                           remainder= \"passthrough\").set_output(transform=\"pandas\")\n",
    "\n",
    "num_pipe = Pipeline([(\"imputer\",SimpleImputer(strategy=\"mean\")),\n",
    "                             (\"std\",StandardScaler())])\n",
    "\n",
    "num_trf = ColumnTransformer([('num',num_pipe,[1,6,9,10,11,12])],\n",
    "                           remainder= \"passthrough\").set_output(transform=\"pandas\")\n",
    "\n",
    "pipe = Pipeline([(\"cat_pipe\", cat_trf),\n",
    "                 ('num_pipe',num_trf)])\n",
    "\n",
    "pipe.fit(X_train)\n"
   ]
  },
  {
   "cell_type": "markdown",
   "id": "3506fc14",
   "metadata": {
    "papermill": {
     "duration": 0.044603,
     "end_time": "2024-11-30T18:09:25.519286",
     "exception": false,
     "start_time": "2024-11-30T18:09:25.474683",
     "status": "completed"
    },
    "tags": []
   },
   "source": [
    "**23. Transforming Training and Test Data Using the Pipeline**"
   ]
  },
  {
   "cell_type": "code",
   "execution_count": 24,
   "id": "6225d0ab",
   "metadata": {
    "execution": {
     "iopub.execute_input": "2024-11-30T18:09:25.609978Z",
     "iopub.status.busy": "2024-11-30T18:09:25.609128Z",
     "iopub.status.idle": "2024-11-30T18:09:26.886658Z",
     "shell.execute_reply": "2024-11-30T18:09:26.885604Z"
    },
    "papermill": {
     "duration": 1.32564,
     "end_time": "2024-11-30T18:09:26.889145",
     "exception": false,
     "start_time": "2024-11-30T18:09:25.563505",
     "status": "completed"
    },
    "tags": []
   },
   "outputs": [],
   "source": [
    "X_train_trf = pipe.transform(X_train)\n",
    "X_test_trf = pipe.transform(X_test)"
   ]
  },
  {
   "cell_type": "markdown",
   "id": "96ce57be",
   "metadata": {
    "papermill": {
     "duration": 0.044375,
     "end_time": "2024-11-30T18:09:26.978536",
     "exception": false,
     "start_time": "2024-11-30T18:09:26.934161",
     "status": "completed"
    },
    "tags": []
   },
   "source": [
    "**24. Checking the Shape of Transformed Data**"
   ]
  },
  {
   "cell_type": "code",
   "execution_count": 25,
   "id": "3bed1ffa",
   "metadata": {
    "execution": {
     "iopub.execute_input": "2024-11-30T18:09:27.071358Z",
     "iopub.status.busy": "2024-11-30T18:09:27.070494Z",
     "iopub.status.idle": "2024-11-30T18:09:27.075833Z",
     "shell.execute_reply": "2024-11-30T18:09:27.074688Z"
    },
    "papermill": {
     "duration": 0.054588,
     "end_time": "2024-11-30T18:09:27.078237",
     "exception": false,
     "start_time": "2024-11-30T18:09:27.023649",
     "status": "completed"
    },
    "tags": []
   },
   "outputs": [
    {
     "name": "stdout",
     "output_type": "stream",
     "text": [
      "(35289, 1040)\n",
      "(3922, 1040)\n"
     ]
    }
   ],
   "source": [
    "print(X_train_trf.shape)\n",
    "print(X_test_trf.shape)"
   ]
  },
  {
   "cell_type": "markdown",
   "id": "9f7c91c3",
   "metadata": {
    "papermill": {
     "duration": 0.046123,
     "end_time": "2024-11-30T18:09:27.170348",
     "exception": false,
     "start_time": "2024-11-30T18:09:27.124225",
     "status": "completed"
    },
    "tags": []
   },
   "source": [
    "# Feature Engineering"
   ]
  },
  {
   "cell_type": "markdown",
   "id": "d92e6521",
   "metadata": {
    "papermill": {
     "duration": 0.044604,
     "end_time": "2024-11-30T18:09:27.259604",
     "exception": false,
     "start_time": "2024-11-30T18:09:27.215000",
     "status": "completed"
    },
    "tags": []
   },
   "source": [
    "**25. Feature Selection Using SelectKBest with f_classif**"
   ]
  },
  {
   "cell_type": "code",
   "execution_count": 26,
   "id": "8d9c0416",
   "metadata": {
    "execution": {
     "iopub.execute_input": "2024-11-30T18:09:27.350153Z",
     "iopub.status.busy": "2024-11-30T18:09:27.349735Z",
     "iopub.status.idle": "2024-11-30T18:09:28.133550Z",
     "shell.execute_reply": "2024-11-30T18:09:28.132401Z"
    },
    "papermill": {
     "duration": 0.832025,
     "end_time": "2024-11-30T18:09:28.135716",
     "exception": false,
     "start_time": "2024-11-30T18:09:27.303691",
     "status": "completed"
    },
    "tags": []
   },
   "outputs": [
    {
     "data": {
      "text/html": [
       "<style>#sk-container-id-2 {color: black;background-color: white;}#sk-container-id-2 pre{padding: 0;}#sk-container-id-2 div.sk-toggleable {background-color: white;}#sk-container-id-2 label.sk-toggleable__label {cursor: pointer;display: block;width: 100%;margin-bottom: 0;padding: 0.3em;box-sizing: border-box;text-align: center;}#sk-container-id-2 label.sk-toggleable__label-arrow:before {content: \"▸\";float: left;margin-right: 0.25em;color: #696969;}#sk-container-id-2 label.sk-toggleable__label-arrow:hover:before {color: black;}#sk-container-id-2 div.sk-estimator:hover label.sk-toggleable__label-arrow:before {color: black;}#sk-container-id-2 div.sk-toggleable__content {max-height: 0;max-width: 0;overflow: hidden;text-align: left;background-color: #f0f8ff;}#sk-container-id-2 div.sk-toggleable__content pre {margin: 0.2em;color: black;border-radius: 0.25em;background-color: #f0f8ff;}#sk-container-id-2 input.sk-toggleable__control:checked~div.sk-toggleable__content {max-height: 200px;max-width: 100%;overflow: auto;}#sk-container-id-2 input.sk-toggleable__control:checked~label.sk-toggleable__label-arrow:before {content: \"▾\";}#sk-container-id-2 div.sk-estimator input.sk-toggleable__control:checked~label.sk-toggleable__label {background-color: #d4ebff;}#sk-container-id-2 div.sk-label input.sk-toggleable__control:checked~label.sk-toggleable__label {background-color: #d4ebff;}#sk-container-id-2 input.sk-hidden--visually {border: 0;clip: rect(1px 1px 1px 1px);clip: rect(1px, 1px, 1px, 1px);height: 1px;margin: -1px;overflow: hidden;padding: 0;position: absolute;width: 1px;}#sk-container-id-2 div.sk-estimator {font-family: monospace;background-color: #f0f8ff;border: 1px dotted black;border-radius: 0.25em;box-sizing: border-box;margin-bottom: 0.5em;}#sk-container-id-2 div.sk-estimator:hover {background-color: #d4ebff;}#sk-container-id-2 div.sk-parallel-item::after {content: \"\";width: 100%;border-bottom: 1px solid gray;flex-grow: 1;}#sk-container-id-2 div.sk-label:hover label.sk-toggleable__label {background-color: #d4ebff;}#sk-container-id-2 div.sk-serial::before {content: \"\";position: absolute;border-left: 1px solid gray;box-sizing: border-box;top: 0;bottom: 0;left: 50%;z-index: 0;}#sk-container-id-2 div.sk-serial {display: flex;flex-direction: column;align-items: center;background-color: white;padding-right: 0.2em;padding-left: 0.2em;position: relative;}#sk-container-id-2 div.sk-item {position: relative;z-index: 1;}#sk-container-id-2 div.sk-parallel {display: flex;align-items: stretch;justify-content: center;background-color: white;position: relative;}#sk-container-id-2 div.sk-item::before, #sk-container-id-2 div.sk-parallel-item::before {content: \"\";position: absolute;border-left: 1px solid gray;box-sizing: border-box;top: 0;bottom: 0;left: 50%;z-index: -1;}#sk-container-id-2 div.sk-parallel-item {display: flex;flex-direction: column;z-index: 1;position: relative;background-color: white;}#sk-container-id-2 div.sk-parallel-item:first-child::after {align-self: flex-end;width: 50%;}#sk-container-id-2 div.sk-parallel-item:last-child::after {align-self: flex-start;width: 50%;}#sk-container-id-2 div.sk-parallel-item:only-child::after {width: 0;}#sk-container-id-2 div.sk-dashed-wrapped {border: 1px dashed gray;margin: 0 0.4em 0.5em 0.4em;box-sizing: border-box;padding-bottom: 0.4em;background-color: white;}#sk-container-id-2 div.sk-label label {font-family: monospace;font-weight: bold;display: inline-block;line-height: 1.2em;}#sk-container-id-2 div.sk-label-container {text-align: center;}#sk-container-id-2 div.sk-container {/* jupyter's `normalize.less` sets `[hidden] { display: none; }` but bootstrap.min.css set `[hidden] { display: none !important; }` so we also need the `!important` here to be able to override the default hidden behavior on the sphinx rendered scikit-learn.org. See: https://github.com/scikit-learn/scikit-learn/issues/21755 */display: inline-block !important;position: relative;}#sk-container-id-2 div.sk-text-repr-fallback {display: none;}</style><div id=\"sk-container-id-2\" class=\"sk-top-container\"><div class=\"sk-text-repr-fallback\"><pre>SelectKBest(k=100)</pre><b>In a Jupyter environment, please rerun this cell to show the HTML representation or trust the notebook. <br />On GitHub, the HTML representation is unable to render, please try loading this page with nbviewer.org.</b></div><div class=\"sk-container\" hidden><div class=\"sk-item\"><div class=\"sk-estimator sk-toggleable\"><input class=\"sk-toggleable__control sk-hidden--visually\" id=\"sk-estimator-id-14\" type=\"checkbox\" checked><label for=\"sk-estimator-id-14\" class=\"sk-toggleable__label sk-toggleable__label-arrow\">SelectKBest</label><div class=\"sk-toggleable__content\"><pre>SelectKBest(k=100)</pre></div></div></div></div></div>"
      ],
      "text/plain": [
       "SelectKBest(k=100)"
      ]
     },
     "execution_count": 26,
     "metadata": {},
     "output_type": "execute_result"
    }
   ],
   "source": [
    "from sklearn.feature_selection import SelectKBest, mutual_info_classif, f_classif\n",
    "SelectKBest_selector = SelectKBest(f_classif,k=100)\n",
    "SelectKBest_selector.fit(X_train_trf,y_train)"
   ]
  },
  {
   "cell_type": "markdown",
   "id": "dd62dadd",
   "metadata": {
    "papermill": {
     "duration": 0.044712,
     "end_time": "2024-11-30T18:09:28.226356",
     "exception": false,
     "start_time": "2024-11-30T18:09:28.181644",
     "status": "completed"
    },
    "tags": []
   },
   "source": [
    "**26. Transforming Data with Selected Features**"
   ]
  },
  {
   "cell_type": "code",
   "execution_count": 27,
   "id": "f3c05e17",
   "metadata": {
    "execution": {
     "iopub.execute_input": "2024-11-30T18:09:28.318122Z",
     "iopub.status.busy": "2024-11-30T18:09:28.317670Z",
     "iopub.status.idle": "2024-11-30T18:09:28.512184Z",
     "shell.execute_reply": "2024-11-30T18:09:28.511216Z"
    },
    "papermill": {
     "duration": 0.243094,
     "end_time": "2024-11-30T18:09:28.514476",
     "exception": false,
     "start_time": "2024-11-30T18:09:28.271382",
     "status": "completed"
    },
    "tags": []
   },
   "outputs": [],
   "source": [
    "X_train_selected = SelectKBest_selector.transform(X_train_trf)\n",
    "X_test_selected = SelectKBest_selector.transform(X_test_trf)"
   ]
  },
  {
   "cell_type": "markdown",
   "id": "54343502",
   "metadata": {
    "papermill": {
     "duration": 0.047808,
     "end_time": "2024-11-30T18:09:28.607404",
     "exception": false,
     "start_time": "2024-11-30T18:09:28.559596",
     "status": "completed"
    },
    "tags": []
   },
   "source": [
    "# Selector Pipeline"
   ]
  },
  {
   "cell_type": "markdown",
   "id": "f39d6c57",
   "metadata": {
    "papermill": {
     "duration": 0.044496,
     "end_time": "2024-11-30T18:09:28.696688",
     "exception": false,
     "start_time": "2024-11-30T18:09:28.652192",
     "status": "completed"
    },
    "tags": []
   },
   "source": [
    "**27. Function for Feature Selection using a Given Selector Method**"
   ]
  },
  {
   "cell_type": "code",
   "execution_count": 28,
   "id": "a5ea92a4",
   "metadata": {
    "execution": {
     "iopub.execute_input": "2024-11-30T18:09:28.788182Z",
     "iopub.status.busy": "2024-11-30T18:09:28.787767Z",
     "iopub.status.idle": "2024-11-30T18:09:28.793223Z",
     "shell.execute_reply": "2024-11-30T18:09:28.791987Z"
    },
    "papermill": {
     "duration": 0.054075,
     "end_time": "2024-11-30T18:09:28.795403",
     "exception": false,
     "start_time": "2024-11-30T18:09:28.741328",
     "status": "completed"
    },
    "tags": []
   },
   "outputs": [],
   "source": [
    "def selector_method(selector,X_train_trf,X_test_trf,y_train):\n",
    "    \n",
    "    selector.fit(X_train_trf,y_train)\n",
    "    X_train_selected = selector.transform(X_train_trf)\n",
    "    X_test_selected = selector.transform(X_test_trf)\n",
    "    return X_train_selected,X_test_selected"
   ]
  },
  {
   "cell_type": "code",
   "execution_count": 29,
   "id": "1a6ead63",
   "metadata": {
    "execution": {
     "iopub.execute_input": "2024-11-30T18:09:28.887402Z",
     "iopub.status.busy": "2024-11-30T18:09:28.887031Z",
     "iopub.status.idle": "2024-11-30T18:09:28.892132Z",
     "shell.execute_reply": "2024-11-30T18:09:28.891065Z"
    },
    "papermill": {
     "duration": 0.05352,
     "end_time": "2024-11-30T18:09:28.894183",
     "exception": false,
     "start_time": "2024-11-30T18:09:28.840663",
     "status": "completed"
    },
    "tags": []
   },
   "outputs": [],
   "source": [
    "from sklearn.feature_selection import SelectFromModel\n",
    "from sklearn.linear_model import LogisticRegression\n",
    "estimator = LogisticRegression(max_iter=1000)\n",
    "selector = SelectFromModel(estimator, max_features=100)"
   ]
  },
  {
   "cell_type": "markdown",
   "id": "b99f0367",
   "metadata": {
    "papermill": {
     "duration": 0.044689,
     "end_time": "2024-11-30T18:09:28.984009",
     "exception": false,
     "start_time": "2024-11-30T18:09:28.939320",
     "status": "completed"
    },
    "tags": []
   },
   "source": [
    "The code provided sets up feature selection using the SelectFromModel class from sklearn.feature_selection. It utilizes a LogisticRegression estimator to determine which features to select based on their importance."
   ]
  },
  {
   "cell_type": "code",
   "execution_count": 30,
   "id": "1e9b5956",
   "metadata": {
    "execution": {
     "iopub.execute_input": "2024-11-30T18:09:29.077519Z",
     "iopub.status.busy": "2024-11-30T18:09:29.076564Z",
     "iopub.status.idle": "2024-11-30T18:09:35.452710Z",
     "shell.execute_reply": "2024-11-30T18:09:35.451678Z"
    },
    "papermill": {
     "duration": 6.425418,
     "end_time": "2024-11-30T18:09:35.455103",
     "exception": false,
     "start_time": "2024-11-30T18:09:29.029685",
     "status": "completed"
    },
    "tags": []
   },
   "outputs": [],
   "source": [
    "X_train_selected,X_test_selected = selector_method(selector,X_train_trf,X_test_trf,y_train)"
   ]
  },
  {
   "cell_type": "markdown",
   "id": "e415142d",
   "metadata": {
    "papermill": {
     "duration": 0.044911,
     "end_time": "2024-11-30T18:09:35.544716",
     "exception": false,
     "start_time": "2024-11-30T18:09:35.499805",
     "status": "completed"
    },
    "tags": []
   },
   "source": [
    "The line of code you provided applies the selector_method function to perform feature selection on the training and testing data"
   ]
  },
  {
   "cell_type": "code",
   "execution_count": 31,
   "id": "fbd19ecc",
   "metadata": {
    "execution": {
     "iopub.execute_input": "2024-11-30T18:09:35.637642Z",
     "iopub.status.busy": "2024-11-30T18:09:35.637253Z",
     "iopub.status.idle": "2024-11-30T18:09:35.644989Z",
     "shell.execute_reply": "2024-11-30T18:09:35.643944Z"
    },
    "papermill": {
     "duration": 0.056423,
     "end_time": "2024-11-30T18:09:35.647103",
     "exception": false,
     "start_time": "2024-11-30T18:09:35.590680",
     "status": "completed"
    },
    "tags": []
   },
   "outputs": [
    {
     "data": {
      "text/plain": [
       "array([[-1.50582516e-02, -9.22060489e-03, -1.50582516e-02, ...,\n",
       "         0.00000000e+00,  3.00000000e+01,  3.00000000e+00],\n",
       "       [-1.50582516e-02, -9.22060489e-03, -1.50582516e-02, ...,\n",
       "         0.00000000e+00,  4.00000000e+01,  4.00000000e+00],\n",
       "       [-1.50582516e-02, -9.22060489e-03, -1.50582516e-02, ...,\n",
       "         0.00000000e+00,  5.80000000e+01,  1.00000000e+00],\n",
       "       ...,\n",
       "       [-1.50582516e-02, -9.22060489e-03, -1.50582516e-02, ...,\n",
       "         0.00000000e+00,  4.60000000e+01,  4.00000000e+00],\n",
       "       [-1.50582516e-02, -9.22060489e-03, -1.50582516e-02, ...,\n",
       "         0.00000000e+00,  4.60000000e+01,  3.00000000e+00],\n",
       "       [-1.50582516e-02, -9.22060489e-03, -1.50582516e-02, ...,\n",
       "         0.00000000e+00,  3.20000000e+01,  2.00000000e+00]])"
      ]
     },
     "execution_count": 31,
     "metadata": {},
     "output_type": "execute_result"
    }
   ],
   "source": [
    "X_train_selected"
   ]
  },
  {
   "cell_type": "markdown",
   "id": "d0be2a8a",
   "metadata": {
    "papermill": {
     "duration": 0.04734,
     "end_time": "2024-11-30T18:09:35.740084",
     "exception": false,
     "start_time": "2024-11-30T18:09:35.692744",
     "status": "completed"
    },
    "tags": []
   },
   "source": [
    "# Dimensionality Reduction"
   ]
  },
  {
   "cell_type": "markdown",
   "id": "b6b92064",
   "metadata": {
    "papermill": {
     "duration": 0.044735,
     "end_time": "2024-11-30T18:09:35.829819",
     "exception": false,
     "start_time": "2024-11-30T18:09:35.785084",
     "status": "completed"
    },
    "tags": []
   },
   "source": [
    "**28. Principal Component Analysis (PCA)**"
   ]
  },
  {
   "cell_type": "code",
   "execution_count": 32,
   "id": "464267db",
   "metadata": {
    "execution": {
     "iopub.execute_input": "2024-11-30T18:09:35.922201Z",
     "iopub.status.busy": "2024-11-30T18:09:35.921806Z",
     "iopub.status.idle": "2024-11-30T18:09:42.510890Z",
     "shell.execute_reply": "2024-11-30T18:09:42.509618Z"
    },
    "papermill": {
     "duration": 6.639427,
     "end_time": "2024-11-30T18:09:42.514153",
     "exception": false,
     "start_time": "2024-11-30T18:09:35.874726",
     "status": "completed"
    },
    "tags": []
   },
   "outputs": [],
   "source": [
    "from sklearn.decomposition import PCA\n",
    "pca = PCA(n_components=100)\n",
    "pca.fit(X_train_trf)\n",
    "X_train_pca = pca.transform(X_train_trf)\n",
    "X_test_pca = pca.transform(X_test_trf)"
   ]
  },
  {
   "cell_type": "markdown",
   "id": "8ec7c242",
   "metadata": {
    "papermill": {
     "duration": 0.060622,
     "end_time": "2024-11-30T18:09:42.661233",
     "exception": false,
     "start_time": "2024-11-30T18:09:42.600611",
     "status": "completed"
    },
    "tags": []
   },
   "source": [
    "**29. Truncated Singular Value Decomposition (Truncated SVD)**"
   ]
  },
  {
   "cell_type": "code",
   "execution_count": 33,
   "id": "770ad95c",
   "metadata": {
    "execution": {
     "iopub.execute_input": "2024-11-30T18:09:42.753305Z",
     "iopub.status.busy": "2024-11-30T18:09:42.752927Z",
     "iopub.status.idle": "2024-11-30T18:09:48.183006Z",
     "shell.execute_reply": "2024-11-30T18:09:48.181859Z"
    },
    "papermill": {
     "duration": 5.480093,
     "end_time": "2024-11-30T18:09:48.186641",
     "exception": false,
     "start_time": "2024-11-30T18:09:42.706548",
     "status": "completed"
    },
    "tags": []
   },
   "outputs": [],
   "source": [
    "from sklearn.decomposition import TruncatedSVD\n",
    "svd = TruncatedSVD(n_components=100)\n",
    "svd.fit(X_train_trf)\n",
    "X_train_pca = svd.transform(X_train_trf)\n",
    "X_test_pca = svd.transform(X_test_trf)\n"
   ]
  },
  {
   "cell_type": "markdown",
   "id": "01f2deaf",
   "metadata": {
    "papermill": {
     "duration": 0.058357,
     "end_time": "2024-11-30T18:09:48.334073",
     "exception": false,
     "start_time": "2024-11-30T18:09:48.275716",
     "status": "completed"
    },
    "tags": []
   },
   "source": [
    "# Model Training"
   ]
  },
  {
   "cell_type": "markdown",
   "id": "dc43dc6d",
   "metadata": {
    "papermill": {
     "duration": 0.045451,
     "end_time": "2024-11-30T18:09:48.425330",
     "exception": false,
     "start_time": "2024-11-30T18:09:48.379879",
     "status": "completed"
    },
    "tags": []
   },
   "source": [
    "**30. Baseline Model Creation with DummyClassifier**"
   ]
  },
  {
   "cell_type": "code",
   "execution_count": 34,
   "id": "e79a9c68",
   "metadata": {
    "execution": {
     "iopub.execute_input": "2024-11-30T18:09:48.516528Z",
     "iopub.status.busy": "2024-11-30T18:09:48.516175Z",
     "iopub.status.idle": "2024-11-30T18:09:48.545611Z",
     "shell.execute_reply": "2024-11-30T18:09:48.544573Z"
    },
    "papermill": {
     "duration": 0.077657,
     "end_time": "2024-11-30T18:09:48.547828",
     "exception": false,
     "start_time": "2024-11-30T18:09:48.470171",
     "status": "completed"
    },
    "tags": []
   },
   "outputs": [
    {
     "data": {
      "text/html": [
       "<style>#sk-container-id-3 {color: black;background-color: white;}#sk-container-id-3 pre{padding: 0;}#sk-container-id-3 div.sk-toggleable {background-color: white;}#sk-container-id-3 label.sk-toggleable__label {cursor: pointer;display: block;width: 100%;margin-bottom: 0;padding: 0.3em;box-sizing: border-box;text-align: center;}#sk-container-id-3 label.sk-toggleable__label-arrow:before {content: \"▸\";float: left;margin-right: 0.25em;color: #696969;}#sk-container-id-3 label.sk-toggleable__label-arrow:hover:before {color: black;}#sk-container-id-3 div.sk-estimator:hover label.sk-toggleable__label-arrow:before {color: black;}#sk-container-id-3 div.sk-toggleable__content {max-height: 0;max-width: 0;overflow: hidden;text-align: left;background-color: #f0f8ff;}#sk-container-id-3 div.sk-toggleable__content pre {margin: 0.2em;color: black;border-radius: 0.25em;background-color: #f0f8ff;}#sk-container-id-3 input.sk-toggleable__control:checked~div.sk-toggleable__content {max-height: 200px;max-width: 100%;overflow: auto;}#sk-container-id-3 input.sk-toggleable__control:checked~label.sk-toggleable__label-arrow:before {content: \"▾\";}#sk-container-id-3 div.sk-estimator input.sk-toggleable__control:checked~label.sk-toggleable__label {background-color: #d4ebff;}#sk-container-id-3 div.sk-label input.sk-toggleable__control:checked~label.sk-toggleable__label {background-color: #d4ebff;}#sk-container-id-3 input.sk-hidden--visually {border: 0;clip: rect(1px 1px 1px 1px);clip: rect(1px, 1px, 1px, 1px);height: 1px;margin: -1px;overflow: hidden;padding: 0;position: absolute;width: 1px;}#sk-container-id-3 div.sk-estimator {font-family: monospace;background-color: #f0f8ff;border: 1px dotted black;border-radius: 0.25em;box-sizing: border-box;margin-bottom: 0.5em;}#sk-container-id-3 div.sk-estimator:hover {background-color: #d4ebff;}#sk-container-id-3 div.sk-parallel-item::after {content: \"\";width: 100%;border-bottom: 1px solid gray;flex-grow: 1;}#sk-container-id-3 div.sk-label:hover label.sk-toggleable__label {background-color: #d4ebff;}#sk-container-id-3 div.sk-serial::before {content: \"\";position: absolute;border-left: 1px solid gray;box-sizing: border-box;top: 0;bottom: 0;left: 50%;z-index: 0;}#sk-container-id-3 div.sk-serial {display: flex;flex-direction: column;align-items: center;background-color: white;padding-right: 0.2em;padding-left: 0.2em;position: relative;}#sk-container-id-3 div.sk-item {position: relative;z-index: 1;}#sk-container-id-3 div.sk-parallel {display: flex;align-items: stretch;justify-content: center;background-color: white;position: relative;}#sk-container-id-3 div.sk-item::before, #sk-container-id-3 div.sk-parallel-item::before {content: \"\";position: absolute;border-left: 1px solid gray;box-sizing: border-box;top: 0;bottom: 0;left: 50%;z-index: -1;}#sk-container-id-3 div.sk-parallel-item {display: flex;flex-direction: column;z-index: 1;position: relative;background-color: white;}#sk-container-id-3 div.sk-parallel-item:first-child::after {align-self: flex-end;width: 50%;}#sk-container-id-3 div.sk-parallel-item:last-child::after {align-self: flex-start;width: 50%;}#sk-container-id-3 div.sk-parallel-item:only-child::after {width: 0;}#sk-container-id-3 div.sk-dashed-wrapped {border: 1px dashed gray;margin: 0 0.4em 0.5em 0.4em;box-sizing: border-box;padding-bottom: 0.4em;background-color: white;}#sk-container-id-3 div.sk-label label {font-family: monospace;font-weight: bold;display: inline-block;line-height: 1.2em;}#sk-container-id-3 div.sk-label-container {text-align: center;}#sk-container-id-3 div.sk-container {/* jupyter's `normalize.less` sets `[hidden] { display: none; }` but bootstrap.min.css set `[hidden] { display: none !important; }` so we also need the `!important` here to be able to override the default hidden behavior on the sphinx rendered scikit-learn.org. See: https://github.com/scikit-learn/scikit-learn/issues/21755 */display: inline-block !important;position: relative;}#sk-container-id-3 div.sk-text-repr-fallback {display: none;}</style><div id=\"sk-container-id-3\" class=\"sk-top-container\"><div class=\"sk-text-repr-fallback\"><pre>DummyClassifier(random_state=9)</pre><b>In a Jupyter environment, please rerun this cell to show the HTML representation or trust the notebook. <br />On GitHub, the HTML representation is unable to render, please try loading this page with nbviewer.org.</b></div><div class=\"sk-container\" hidden><div class=\"sk-item\"><div class=\"sk-estimator sk-toggleable\"><input class=\"sk-toggleable__control sk-hidden--visually\" id=\"sk-estimator-id-15\" type=\"checkbox\" checked><label for=\"sk-estimator-id-15\" class=\"sk-toggleable__label sk-toggleable__label-arrow\">DummyClassifier</label><div class=\"sk-toggleable__content\"><pre>DummyClassifier(random_state=9)</pre></div></div></div></div></div>"
      ],
      "text/plain": [
       "DummyClassifier(random_state=9)"
      ]
     },
     "execution_count": 34,
     "metadata": {},
     "output_type": "execute_result"
    }
   ],
   "source": [
    "from sklearn.dummy import DummyClassifier\n",
    "dc = DummyClassifier(random_state=9)\n",
    "dc.fit(X_train_trf,y_train)"
   ]
  },
  {
   "cell_type": "markdown",
   "id": "75d3ec8e",
   "metadata": {
    "papermill": {
     "duration": 0.044975,
     "end_time": "2024-11-30T18:09:48.638401",
     "exception": false,
     "start_time": "2024-11-30T18:09:48.593426",
     "status": "completed"
    },
    "tags": []
   },
   "source": [
    "**31. Evaluating the Baseline Model with Accuracy Score**"
   ]
  },
  {
   "cell_type": "code",
   "execution_count": 35,
   "id": "2c3a1f95",
   "metadata": {
    "execution": {
     "iopub.execute_input": "2024-11-30T18:09:48.730952Z",
     "iopub.status.busy": "2024-11-30T18:09:48.730115Z",
     "iopub.status.idle": "2024-11-30T18:09:48.824920Z",
     "shell.execute_reply": "2024-11-30T18:09:48.823745Z"
    },
    "papermill": {
     "duration": 0.143633,
     "end_time": "2024-11-30T18:09:48.827260",
     "exception": false,
     "start_time": "2024-11-30T18:09:48.683627",
     "status": "completed"
    },
    "tags": []
   },
   "outputs": [
    {
     "name": "stdout",
     "output_type": "stream",
     "text": [
      "0.850690016719091 0.8577256501784803\n"
     ]
    }
   ],
   "source": [
    "from sklearn.metrics import accuracy_score\n",
    "print(accuracy_score(y_train, dc.predict(X_train_trf)),accuracy_score(y_test, dc.predict(X_test_trf)))"
   ]
  },
  {
   "attachments": {
    "36950e22-2c27-473b-9f81-dbbf4140714d.png": {
     "image/png": "[encoded data removed]"
    }
   },
   "cell_type": "markdown",
   "id": "1e1b3f96",
   "metadata": {
    "papermill": {
     "duration": 0.044608,
     "end_time": "2024-11-30T18:09:48.917217",
     "exception": false,
     "start_time": "2024-11-30T18:09:48.872609",
     "status": "completed"
    },
    "tags": []
   },
   "source": [
    "![image.png](attachment:36950e22-2c27-473b-9f81-dbbf4140714d.png)"
   ]
  },
  {
   "cell_type": "markdown",
   "id": "0f7456d2",
   "metadata": {
    "papermill": {
     "duration": 0.044266,
     "end_time": "2024-11-30T18:09:49.006413",
     "exception": false,
     "start_time": "2024-11-30T18:09:48.962147",
     "status": "completed"
    },
    "tags": []
   },
   "source": [
    "**32. Detailed Evaluation with Classification Report**"
   ]
  },
  {
   "cell_type": "code",
   "execution_count": 36,
   "id": "85ce2b67",
   "metadata": {
    "execution": {
     "iopub.execute_input": "2024-11-30T18:09:49.098923Z",
     "iopub.status.busy": "2024-11-30T18:09:49.098481Z",
     "iopub.status.idle": "2024-11-30T18:09:50.448296Z",
     "shell.execute_reply": "2024-11-30T18:09:50.446993Z"
    },
    "papermill": {
     "duration": 1.39868,
     "end_time": "2024-11-30T18:09:50.450570",
     "exception": false,
     "start_time": "2024-11-30T18:09:49.051890",
     "status": "completed"
    },
    "tags": []
   },
   "outputs": [
    {
     "name": "stderr",
     "output_type": "stream",
     "text": [
      "/opt/conda/lib/python3.10/site-packages/sklearn/metrics/_classification.py:1344: UndefinedMetricWarning: Precision and F-score are ill-defined and being set to 0.0 in labels with no predicted samples. Use `zero_division` parameter to control this behavior.\n",
      "  _warn_prf(average, modifier, msg_start, len(result))\n",
      "/opt/conda/lib/python3.10/site-packages/sklearn/metrics/_classification.py:1344: UndefinedMetricWarning: Precision and F-score are ill-defined and being set to 0.0 in labels with no predicted samples. Use `zero_division` parameter to control this behavior.\n",
      "  _warn_prf(average, modifier, msg_start, len(result))\n"
     ]
    },
    {
     "name": "stdout",
     "output_type": "stream",
     "text": [
      "              precision    recall  f1-score   support\n",
      "\n",
      "          no       0.85      1.00      0.92     30020\n",
      "         yes       0.00      0.00      0.00      5269\n",
      "\n",
      "    accuracy                           0.85     35289\n",
      "   macro avg       0.43      0.50      0.46     35289\n",
      "weighted avg       0.72      0.85      0.78     35289\n",
      "\n",
      "------------------\n",
      "              precision    recall  f1-score   support\n",
      "\n",
      "          no       0.86      1.00      0.92      3364\n",
      "         yes       0.00      0.00      0.00       558\n",
      "\n",
      "    accuracy                           0.86      3922\n",
      "   macro avg       0.43      0.50      0.46      3922\n",
      "weighted avg       0.74      0.86      0.79      3922\n",
      "\n"
     ]
    },
    {
     "name": "stderr",
     "output_type": "stream",
     "text": [
      "/opt/conda/lib/python3.10/site-packages/sklearn/metrics/_classification.py:1344: UndefinedMetricWarning: Precision and F-score are ill-defined and being set to 0.0 in labels with no predicted samples. Use `zero_division` parameter to control this behavior.\n",
      "  _warn_prf(average, modifier, msg_start, len(result))\n",
      "/opt/conda/lib/python3.10/site-packages/sklearn/metrics/_classification.py:1344: UndefinedMetricWarning: Precision and F-score are ill-defined and being set to 0.0 in labels with no predicted samples. Use `zero_division` parameter to control this behavior.\n",
      "  _warn_prf(average, modifier, msg_start, len(result))\n",
      "/opt/conda/lib/python3.10/site-packages/sklearn/metrics/_classification.py:1344: UndefinedMetricWarning: Precision and F-score are ill-defined and being set to 0.0 in labels with no predicted samples. Use `zero_division` parameter to control this behavior.\n",
      "  _warn_prf(average, modifier, msg_start, len(result))\n",
      "/opt/conda/lib/python3.10/site-packages/sklearn/metrics/_classification.py:1344: UndefinedMetricWarning: Precision and F-score are ill-defined and being set to 0.0 in labels with no predicted samples. Use `zero_division` parameter to control this behavior.\n",
      "  _warn_prf(average, modifier, msg_start, len(result))\n"
     ]
    }
   ],
   "source": [
    "from sklearn.metrics import classification_report as cr\n",
    "\n",
    "print(cr(y_train, dc.predict(X_train_trf)))\n",
    "print(\"------------------\")\n",
    "print(cr(y_test, dc.predict(X_test_trf)))"
   ]
  },
  {
   "cell_type": "markdown",
   "id": "d7cc4df3",
   "metadata": {
    "papermill": {
     "duration": 0.046265,
     "end_time": "2024-11-30T18:09:50.545328",
     "exception": false,
     "start_time": "2024-11-30T18:09:50.499063",
     "status": "completed"
    },
    "tags": []
   },
   "source": [
    "Here, we can see that, we are getting the f1 score = 0"
   ]
  },
  {
   "cell_type": "markdown",
   "id": "04cc433d",
   "metadata": {
    "papermill": {
     "duration": 0.046187,
     "end_time": "2024-11-30T18:09:50.638665",
     "exception": false,
     "start_time": "2024-11-30T18:09:50.592478",
     "status": "completed"
    },
    "tags": []
   },
   "source": [
    "**33. Visualizing the Confusion Matrix for Training Data******"
   ]
  },
  {
   "cell_type": "code",
   "execution_count": 37,
   "id": "b19baf9b",
   "metadata": {
    "execution": {
     "iopub.execute_input": "2024-11-30T18:09:50.732147Z",
     "iopub.status.busy": "2024-11-30T18:09:50.731352Z",
     "iopub.status.idle": "2024-11-30T18:09:51.142353Z",
     "shell.execute_reply": "2024-11-30T18:09:51.141211Z"
    },
    "papermill": {
     "duration": 0.459839,
     "end_time": "2024-11-30T18:09:51.144530",
     "exception": false,
     "start_time": "2024-11-30T18:09:50.684691",
     "status": "completed"
    },
    "tags": []
   },
   "outputs": [
    {
     "data": {
      "image/png": "[encoded data removed]",
      "text/plain": [
       "<Figure size 640x480 with 2 Axes>"
      ]
     },
     "metadata": {},
     "output_type": "display_data"
    }
   ],
   "source": [
    "from sklearn.metrics import confusion_matrix\n",
    "import seaborn as sns\n",
    "\n",
    "cr = confusion_matrix(y_train, dc.predict(X_train_trf))\n",
    "\n",
    "ax = sns.heatmap(cr)\n",
    "ax.set_title(\"Confusion Matrix for Training Data\");"
   ]
  },
  {
   "attachments": {
    "258b5d1e-01b3-4fdc-b769-d0c606c07e90.png": {
     "image/png": "[encoded data removed]"
    }
   },
   "cell_type": "markdown",
   "id": "0b450046",
   "metadata": {
    "papermill": {
     "duration": 0.05058,
     "end_time": "2024-11-30T18:09:51.243497",
     "exception": false,
     "start_time": "2024-11-30T18:09:51.192917",
     "status": "completed"
    },
    "tags": []
   },
   "source": [
    "![image.png](attachment:258b5d1e-01b3-4fdc-b769-d0c606c07e90.png)"
   ]
  },
  {
   "cell_type": "markdown",
   "id": "622df7c9",
   "metadata": {
    "papermill": {
     "duration": 0.050896,
     "end_time": "2024-11-30T18:09:51.352379",
     "exception": false,
     "start_time": "2024-11-30T18:09:51.301483",
     "status": "completed"
    },
    "tags": []
   },
   "source": [
    "The confusion matrix shows that the model has a high accuracy for predicting the positive class (1) and a low accuracy for predicting the negative class (0). This indicates that the model is biased towards the positive class."
   ]
  },
  {
   "cell_type": "markdown",
   "id": "dec0f967",
   "metadata": {
    "papermill": {
     "duration": 0.045809,
     "end_time": "2024-11-30T18:09:51.444869",
     "exception": false,
     "start_time": "2024-11-30T18:09:51.399060",
     "status": "completed"
    },
    "tags": []
   },
   "source": [
    "**34. LogisticRegression**"
   ]
  },
  {
   "cell_type": "markdown",
   "id": "7ad57b49",
   "metadata": {
    "papermill": {
     "duration": 0.046456,
     "end_time": "2024-11-30T18:09:51.537649",
     "exception": false,
     "start_time": "2024-11-30T18:09:51.491193",
     "status": "completed"
    },
    "tags": []
   },
   "source": [
    "* Training and Evaluating Logistic Regression Model"
   ]
  },
  {
   "cell_type": "code",
   "execution_count": 38,
   "id": "f1d75e9d",
   "metadata": {
    "execution": {
     "iopub.execute_input": "2024-11-30T18:09:51.632168Z",
     "iopub.status.busy": "2024-11-30T18:09:51.631771Z",
     "iopub.status.idle": "2024-11-30T18:09:56.540483Z",
     "shell.execute_reply": "2024-11-30T18:09:56.536993Z"
    },
    "papermill": {
     "duration": 4.959625,
     "end_time": "2024-11-30T18:09:56.543675",
     "exception": false,
     "start_time": "2024-11-30T18:09:51.584050",
     "status": "completed"
    },
    "tags": []
   },
   "outputs": [
    {
     "name": "stderr",
     "output_type": "stream",
     "text": [
      "/opt/conda/lib/python3.10/site-packages/sklearn/linear_model/_logistic.py:458: ConvergenceWarning: lbfgs failed to converge (status=1):\n",
      "STOP: TOTAL NO. of ITERATIONS REACHED LIMIT.\n",
      "\n",
      "Increase the number of iterations (max_iter) or scale the data as shown in:\n",
      "    https://scikit-learn.org/stable/modules/preprocessing.html\n",
      "Please also refer to the documentation for alternative solver options:\n",
      "    https://scikit-learn.org/stable/modules/linear_model.html#logistic-regression\n",
      "  n_iter_i = _check_optimize_result(\n"
     ]
    },
    {
     "name": "stdout",
     "output_type": "stream",
     "text": [
      "0.8513417778911275 0.8567057623661397\n"
     ]
    }
   ],
   "source": [
    "from sklearn.linear_model import LogisticRegression\n",
    "\n",
    "lr = LogisticRegression(random_state=3)\n",
    "\n",
    "lr.fit(X_train_trf,y_train)\n",
    "print(accuracy_score(y_train, lr.predict(X_train_trf)),accuracy_score(y_test, lr.predict(X_test_trf)))"
   ]
  },
  {
   "attachments": {
    "6c722bc6-e4ba-47cd-8eda-97708666fb06.png": {
     "image/png": "[encoded data removed]"
    }
   },
   "cell_type": "markdown",
   "id": "5e65be56",
   "metadata": {
    "papermill": {
     "duration": 0.049472,
     "end_time": "2024-11-30T18:09:56.682100",
     "exception": false,
     "start_time": "2024-11-30T18:09:56.632628",
     "status": "completed"
    },
    "tags": []
   },
   "source": [
    "![image.png](attachment:6c722bc6-e4ba-47cd-8eda-97708666fb06.png)"
   ]
  },
  {
   "cell_type": "markdown",
   "id": "489d50d7",
   "metadata": {
    "papermill": {
     "duration": 0.045898,
     "end_time": "2024-11-30T18:09:56.773984",
     "exception": false,
     "start_time": "2024-11-30T18:09:56.728086",
     "status": "completed"
    },
    "tags": []
   },
   "source": [
    "* Classification Report for Logistic Regression Model"
   ]
  },
  {
   "cell_type": "code",
   "execution_count": 39,
   "id": "12c632b1",
   "metadata": {
    "execution": {
     "iopub.execute_input": "2024-11-30T18:09:56.870080Z",
     "iopub.status.busy": "2024-11-30T18:09:56.869684Z",
     "iopub.status.idle": "2024-11-30T18:09:58.816899Z",
     "shell.execute_reply": "2024-11-30T18:09:58.815628Z"
    },
    "papermill": {
     "duration": 1.997256,
     "end_time": "2024-11-30T18:09:58.818921",
     "exception": false,
     "start_time": "2024-11-30T18:09:56.821665",
     "status": "completed"
    },
    "tags": []
   },
   "outputs": [
    {
     "name": "stdout",
     "output_type": "stream",
     "text": [
      "              precision    recall  f1-score   support\n",
      "\n",
      "          no       0.86      0.98      0.92     30020\n",
      "         yes       0.51      0.13      0.20      5269\n",
      "\n",
      "    accuracy                           0.85     35289\n",
      "   macro avg       0.69      0.55      0.56     35289\n",
      "weighted avg       0.81      0.85      0.81     35289\n",
      "\n",
      "------------------\n",
      "              precision    recall  f1-score   support\n",
      "\n",
      "          no       0.87      0.98      0.92      3364\n",
      "         yes       0.49      0.13      0.21       558\n",
      "\n",
      "    accuracy                           0.86      3922\n",
      "   macro avg       0.68      0.55      0.56      3922\n",
      "weighted avg       0.82      0.86      0.82      3922\n",
      "\n"
     ]
    }
   ],
   "source": [
    "from sklearn.metrics import classification_report as cr\n",
    "\n",
    "print(cr(y_train, lr.predict(X_train_trf)))\n",
    "print(\"------------------\")\n",
    "print(cr(y_test, lr.predict(X_test_trf)))"
   ]
  },
  {
   "cell_type": "markdown",
   "id": "2f6d8b69",
   "metadata": {
    "papermill": {
     "duration": 0.046511,
     "end_time": "2024-11-30T18:09:58.911524",
     "exception": false,
     "start_time": "2024-11-30T18:09:58.865013",
     "status": "completed"
    },
    "tags": []
   },
   "source": [
    "Here, we can see that, the f1 score for yes is improved slightly"
   ]
  },
  {
   "cell_type": "markdown",
   "id": "e059bb6a",
   "metadata": {
    "papermill": {
     "duration": 0.04574,
     "end_time": "2024-11-30T18:09:59.003526",
     "exception": false,
     "start_time": "2024-11-30T18:09:58.957786",
     "status": "completed"
    },
    "tags": []
   },
   "source": [
    "**35. Support Vector Machine (SVM)**"
   ]
  },
  {
   "cell_type": "markdown",
   "id": "7eefa449",
   "metadata": {
    "papermill": {
     "duration": 0.046335,
     "end_time": "2024-11-30T18:09:59.096554",
     "exception": false,
     "start_time": "2024-11-30T18:09:59.050219",
     "status": "completed"
    },
    "tags": []
   },
   "source": [
    "* Training and Evaluating LinearSVC Model"
   ]
  },
  {
   "cell_type": "code",
   "execution_count": 40,
   "id": "3665c598",
   "metadata": {
    "execution": {
     "iopub.execute_input": "2024-11-30T18:09:59.245556Z",
     "iopub.status.busy": "2024-11-30T18:09:59.245166Z",
     "iopub.status.idle": "2024-11-30T18:10:08.952500Z",
     "shell.execute_reply": "2024-11-30T18:10:08.950731Z"
    },
    "papermill": {
     "duration": 9.760128,
     "end_time": "2024-11-30T18:10:08.955732",
     "exception": false,
     "start_time": "2024-11-30T18:09:59.195604",
     "status": "completed"
    },
    "tags": []
   },
   "outputs": [
    {
     "name": "stderr",
     "output_type": "stream",
     "text": [
      "/opt/conda/lib/python3.10/site-packages/sklearn/svm/_base.py:1244: ConvergenceWarning: Liblinear failed to converge, increase the number of iterations.\n",
      "  warnings.warn(\n"
     ]
    },
    {
     "name": "stdout",
     "output_type": "stream",
     "text": [
      "9.346870422363281\n",
      "0.8496698687976423 0.8582355940846507\n"
     ]
    }
   ],
   "source": [
    "import time\n",
    "from sklearn.svm import LinearSVC, SVC\n",
    "\n",
    "l_svc = LinearSVC(random_state=42)\n",
    "a = time.time()\n",
    "l_svc.fit(X_train_trf, y_train)\n",
    "b=time.time()\n",
    "\n",
    "print(b-a)\n",
    "print(accuracy_score(y_train, l_svc.predict(X_train_trf)),accuracy_score(y_test, l_svc.predict(X_test_trf)))"
   ]
  },
  {
   "attachments": {
    "74cafdb3-ae32-44d4-9948-3a2442c6144a.png": {
     "image/png": "[encoded data removed]"
    }
   },
   "cell_type": "markdown",
   "id": "4208bed0",
   "metadata": {
    "papermill": {
     "duration": 0.049352,
     "end_time": "2024-11-30T18:10:09.097152",
     "exception": false,
     "start_time": "2024-11-30T18:10:09.047800",
     "status": "completed"
    },
    "tags": []
   },
   "source": [
    "![image.png](attachment:74cafdb3-ae32-44d4-9948-3a2442c6144a.png)"
   ]
  },
  {
   "cell_type": "markdown",
   "id": "226bedfa",
   "metadata": {
    "papermill": {
     "duration": 0.04658,
     "end_time": "2024-11-30T18:10:09.190362",
     "exception": false,
     "start_time": "2024-11-30T18:10:09.143782",
     "status": "completed"
    },
    "tags": []
   },
   "source": [
    "* Classification Report for LinearSVC Model"
   ]
  },
  {
   "cell_type": "code",
   "execution_count": 41,
   "id": "1d1e8b68",
   "metadata": {
    "execution": {
     "iopub.execute_input": "2024-11-30T18:10:09.288581Z",
     "iopub.status.busy": "2024-11-30T18:10:09.288213Z",
     "iopub.status.idle": "2024-11-30T18:10:11.301527Z",
     "shell.execute_reply": "2024-11-30T18:10:11.300102Z"
    },
    "papermill": {
     "duration": 2.066392,
     "end_time": "2024-11-30T18:10:11.304800",
     "exception": false,
     "start_time": "2024-11-30T18:10:09.238408",
     "status": "completed"
    },
    "tags": []
   },
   "outputs": [
    {
     "name": "stdout",
     "output_type": "stream",
     "text": [
      "              precision    recall  f1-score   support\n",
      "\n",
      "          no       0.85      1.00      0.92     30020\n",
      "         yes       0.19      0.00      0.00      5269\n",
      "\n",
      "    accuracy                           0.85     35289\n",
      "   macro avg       0.52      0.50      0.46     35289\n",
      "weighted avg       0.75      0.85      0.78     35289\n",
      "\n",
      "------------------\n",
      "              precision    recall  f1-score   support\n",
      "\n",
      "          no       0.86      1.00      0.92      3364\n",
      "         yes       1.00      0.00      0.01       558\n",
      "\n",
      "    accuracy                           0.86      3922\n",
      "   macro avg       0.93      0.50      0.47      3922\n",
      "weighted avg       0.88      0.86      0.79      3922\n",
      "\n"
     ]
    }
   ],
   "source": [
    "from sklearn.metrics import classification_report as cr\n",
    "\n",
    "print(cr(y_train, l_svc.predict(X_train_trf)))\n",
    "print(\"------------------\")\n",
    "print(cr(y_test, l_svc.predict(X_test_trf)))"
   ]
  },
  {
   "cell_type": "markdown",
   "id": "4c2e2c26",
   "metadata": {
    "papermill": {
     "duration": 0.050148,
     "end_time": "2024-11-30T18:10:11.402553",
     "exception": false,
     "start_time": "2024-11-30T18:10:11.352405",
     "status": "completed"
    },
    "tags": []
   },
   "source": [
    "Here, again the f1 score is 0"
   ]
  },
  {
   "cell_type": "markdown",
   "id": "e28d9b14",
   "metadata": {
    "papermill": {
     "duration": 0.04622,
     "end_time": "2024-11-30T18:10:11.496159",
     "exception": false,
     "start_time": "2024-11-30T18:10:11.449939",
     "status": "completed"
    },
    "tags": []
   },
   "source": [
    "* Training and Evaluating LinearSVC with Class Weight Adjustment"
   ]
  },
  {
   "cell_type": "code",
   "execution_count": 42,
   "id": "c7c4b329",
   "metadata": {
    "execution": {
     "iopub.execute_input": "2024-11-30T18:10:11.595180Z",
     "iopub.status.busy": "2024-11-30T18:10:11.594744Z",
     "iopub.status.idle": "2024-11-30T18:10:20.296614Z",
     "shell.execute_reply": "2024-11-30T18:10:20.294826Z"
    },
    "papermill": {
     "duration": 8.7551,
     "end_time": "2024-11-30T18:10:20.299628",
     "exception": false,
     "start_time": "2024-11-30T18:10:11.544528",
     "status": "completed"
    },
    "tags": []
   },
   "outputs": [
    {
     "name": "stderr",
     "output_type": "stream",
     "text": [
      "/opt/conda/lib/python3.10/site-packages/sklearn/svm/_base.py:1244: ConvergenceWarning: Liblinear failed to converge, increase the number of iterations.\n",
      "  warnings.warn(\n"
     ]
    },
    {
     "name": "stdout",
     "output_type": "stream",
     "text": [
      "8.349963188171387\n",
      "0.7770693417212162 0.7654258031616522\n"
     ]
    }
   ],
   "source": [
    "import time\n",
    "from sklearn.svm import LinearSVC, SVC\n",
    "\n",
    "l_svc = LinearSVC(random_state=42, class_weight=\"balanced\")\n",
    "a = time.time()\n",
    "l_svc.fit(X_train_trf, y_train)\n",
    "b=time.time()\n",
    "\n",
    "print(b-a)\n",
    "print(accuracy_score(y_train, l_svc.predict(X_train_trf)),accuracy_score(y_test, l_svc.predict(X_test_trf)))"
   ]
  },
  {
   "attachments": {
    "98f7fc90-46bb-4009-a807-8835a74483a1.png": {
     "image/png": "[encoded data removed]"
    }
   },
   "cell_type": "markdown",
   "id": "ea32fdfe",
   "metadata": {
    "papermill": {
     "duration": 0.049772,
     "end_time": "2024-11-30T18:10:20.442281",
     "exception": false,
     "start_time": "2024-11-30T18:10:20.392509",
     "status": "completed"
    },
    "tags": []
   },
   "source": [
    "![image.png](attachment:98f7fc90-46bb-4009-a807-8835a74483a1.png)"
   ]
  },
  {
   "cell_type": "markdown",
   "id": "e48a9e02",
   "metadata": {
    "papermill": {
     "duration": 0.047403,
     "end_time": "2024-11-30T18:10:20.536601",
     "exception": false,
     "start_time": "2024-11-30T18:10:20.489198",
     "status": "completed"
    },
    "tags": []
   },
   "source": [
    "* Initializing an SVM with SGDClassifier"
   ]
  },
  {
   "cell_type": "code",
   "execution_count": 43,
   "id": "c1f46700",
   "metadata": {
    "execution": {
     "iopub.execute_input": "2024-11-30T18:10:20.633527Z",
     "iopub.status.busy": "2024-11-30T18:10:20.633044Z",
     "iopub.status.idle": "2024-11-30T18:10:20.638374Z",
     "shell.execute_reply": "2024-11-30T18:10:20.637140Z"
    },
    "papermill": {
     "duration": 0.057386,
     "end_time": "2024-11-30T18:10:20.640731",
     "exception": false,
     "start_time": "2024-11-30T18:10:20.583345",
     "status": "completed"
    },
    "tags": []
   },
   "outputs": [],
   "source": [
    "from sklearn.linear_model import SGDClassifier\n",
    "svm_from_sgd = SGDClassifier(loss=\"hinge\")"
   ]
  },
  {
   "cell_type": "markdown",
   "id": "b7eb1cc2",
   "metadata": {
    "papermill": {
     "duration": 0.046934,
     "end_time": "2024-11-30T18:10:20.734298",
     "exception": false,
     "start_time": "2024-11-30T18:10:20.687364",
     "status": "completed"
    },
    "tags": []
   },
   "source": [
    "\n",
    "* Classification Report for LinearSVC Model\n"
   ]
  },
  {
   "cell_type": "code",
   "execution_count": 44,
   "id": "beea7247",
   "metadata": {
    "execution": {
     "iopub.execute_input": "2024-11-30T18:10:20.829632Z",
     "iopub.status.busy": "2024-11-30T18:10:20.829203Z",
     "iopub.status.idle": "2024-11-30T18:10:22.825523Z",
     "shell.execute_reply": "2024-11-30T18:10:22.824206Z"
    },
    "papermill": {
     "duration": 2.046479,
     "end_time": "2024-11-30T18:10:22.827639",
     "exception": false,
     "start_time": "2024-11-30T18:10:20.781160",
     "status": "completed"
    },
    "tags": []
   },
   "outputs": [
    {
     "name": "stdout",
     "output_type": "stream",
     "text": [
      "              precision    recall  f1-score   support\n",
      "\n",
      "          no       0.90      0.84      0.86     30020\n",
      "         yes       0.32      0.44      0.37      5269\n",
      "\n",
      "    accuracy                           0.78     35289\n",
      "   macro avg       0.61      0.64      0.62     35289\n",
      "weighted avg       0.81      0.78      0.79     35289\n",
      "\n",
      "------------------\n",
      "              precision    recall  f1-score   support\n",
      "\n",
      "          no       0.89      0.82      0.86      3364\n",
      "         yes       0.28      0.41      0.33       558\n",
      "\n",
      "    accuracy                           0.77      3922\n",
      "   macro avg       0.59      0.62      0.60      3922\n",
      "weighted avg       0.81      0.77      0.78      3922\n",
      "\n"
     ]
    }
   ],
   "source": [
    "from sklearn.metrics import classification_report as cr\n",
    "\n",
    "print(cr(y_train, l_svc.predict(X_train_trf)))\n",
    "print(\"------------------\")\n",
    "print(cr(y_test, l_svc.predict(X_test_trf)))"
   ]
  },
  {
   "cell_type": "markdown",
   "id": "37dfaa2b",
   "metadata": {
    "papermill": {
     "duration": 0.046769,
     "end_time": "2024-11-30T18:10:22.922460",
     "exception": false,
     "start_time": "2024-11-30T18:10:22.875691",
     "status": "completed"
    },
    "tags": []
   },
   "source": [
    "Here, the f1 score is improved."
   ]
  },
  {
   "cell_type": "markdown",
   "id": "9755e716",
   "metadata": {
    "papermill": {
     "duration": 0.046359,
     "end_time": "2024-11-30T18:10:23.015544",
     "exception": false,
     "start_time": "2024-11-30T18:10:22.969185",
     "status": "completed"
    },
    "tags": []
   },
   "source": [
    "* Cross-Validation Scores for LinearSVC Model"
   ]
  },
  {
   "cell_type": "code",
   "execution_count": 45,
   "id": "849db2b5",
   "metadata": {
    "execution": {
     "iopub.execute_input": "2024-11-30T18:10:23.112900Z",
     "iopub.status.busy": "2024-11-30T18:10:23.111954Z",
     "iopub.status.idle": "2024-11-30T18:10:52.715034Z",
     "shell.execute_reply": "2024-11-30T18:10:52.712842Z"
    },
    "papermill": {
     "duration": 29.656994,
     "end_time": "2024-11-30T18:10:52.719863",
     "exception": false,
     "start_time": "2024-11-30T18:10:23.062869",
     "status": "completed"
    },
    "tags": []
   },
   "outputs": [
    {
     "name": "stderr",
     "output_type": "stream",
     "text": [
      "/opt/conda/lib/python3.10/site-packages/sklearn/svm/_base.py:1244: ConvergenceWarning: Liblinear failed to converge, increase the number of iterations.\n",
      "  warnings.warn(\n",
      "/opt/conda/lib/python3.10/site-packages/sklearn/svm/_base.py:1244: ConvergenceWarning: Liblinear failed to converge, increase the number of iterations.\n",
      "  warnings.warn(\n",
      "/opt/conda/lib/python3.10/site-packages/sklearn/svm/_base.py:1244: ConvergenceWarning: Liblinear failed to converge, increase the number of iterations.\n",
      "  warnings.warn(\n",
      "/opt/conda/lib/python3.10/site-packages/sklearn/svm/_base.py:1244: ConvergenceWarning: Liblinear failed to converge, increase the number of iterations.\n",
      "  warnings.warn(\n",
      "/opt/conda/lib/python3.10/site-packages/sklearn/svm/_base.py:1244: ConvergenceWarning: Liblinear failed to converge, increase the number of iterations.\n",
      "  warnings.warn(\n"
     ]
    },
    {
     "data": {
      "text/plain": [
       "(0.7125489230651609, 0.21908554258368843)"
      ]
     },
     "execution_count": 45,
     "metadata": {},
     "output_type": "execute_result"
    }
   ],
   "source": [
    "from sklearn.model_selection import cross_val_score\n",
    "\n",
    "c = cross_val_score(l_svc, cv=5, X = X_train_trf, y=y_train)\n",
    "c.mean(), c.std()"
   ]
  },
  {
   "cell_type": "markdown",
   "id": "ac33eb6d",
   "metadata": {
    "papermill": {
     "duration": 0.047632,
     "end_time": "2024-11-30T18:10:52.849264",
     "exception": false,
     "start_time": "2024-11-30T18:10:52.801632",
     "status": "completed"
    },
    "tags": []
   },
   "source": [
    "Here,\n",
    "Mean = 0.7125489230651609, Standard Deviation = 0.21908554258368843"
   ]
  },
  {
   "cell_type": "markdown",
   "id": "884601db",
   "metadata": {
    "papermill": {
     "duration": 0.046727,
     "end_time": "2024-11-30T18:10:52.943231",
     "exception": false,
     "start_time": "2024-11-30T18:10:52.896504",
     "status": "completed"
    },
    "tags": []
   },
   "source": [
    "# Hyper Parameter Tuning"
   ]
  },
  {
   "cell_type": "markdown",
   "id": "acc059fe",
   "metadata": {
    "papermill": {
     "duration": 0.048542,
     "end_time": "2024-11-30T18:10:53.038569",
     "exception": false,
     "start_time": "2024-11-30T18:10:52.990027",
     "status": "completed"
    },
    "tags": []
   },
   "source": [
    "**36. Importing GridSearchCV and RandomizedSearchCV**"
   ]
  },
  {
   "cell_type": "code",
   "execution_count": 46,
   "id": "bedff2ff",
   "metadata": {
    "execution": {
     "iopub.execute_input": "2024-11-30T18:10:53.135872Z",
     "iopub.status.busy": "2024-11-30T18:10:53.135469Z",
     "iopub.status.idle": "2024-11-30T18:10:53.140452Z",
     "shell.execute_reply": "2024-11-30T18:10:53.139412Z"
    },
    "papermill": {
     "duration": 0.056581,
     "end_time": "2024-11-30T18:10:53.142726",
     "exception": false,
     "start_time": "2024-11-30T18:10:53.086145",
     "status": "completed"
    },
    "tags": []
   },
   "outputs": [],
   "source": [
    "from sklearn.model_selection import GridSearchCV, RandomizedSearchCV\n"
   ]
  },
  {
   "cell_type": "markdown",
   "id": "00bfb65c",
   "metadata": {
    "papermill": {
     "duration": 0.047178,
     "end_time": "2024-11-30T18:10:53.237963",
     "exception": false,
     "start_time": "2024-11-30T18:10:53.190785",
     "status": "completed"
    },
    "tags": []
   },
   "source": [
    "**37. Hyperparameter Tuning for Logistic Regression using GridSearchCV**"
   ]
  },
  {
   "cell_type": "code",
   "execution_count": 47,
   "id": "e6311bd5",
   "metadata": {
    "execution": {
     "iopub.execute_input": "2024-11-30T18:10:53.335182Z",
     "iopub.status.busy": "2024-11-30T18:10:53.334784Z",
     "iopub.status.idle": "2024-11-30T18:10:53.339824Z",
     "shell.execute_reply": "2024-11-30T18:10:53.338844Z"
    },
    "papermill": {
     "duration": 0.05574,
     "end_time": "2024-11-30T18:10:53.341738",
     "exception": false,
     "start_time": "2024-11-30T18:10:53.285998",
     "status": "completed"
    },
    "tags": []
   },
   "outputs": [],
   "source": [
    "model = LogisticRegression(random_state=3, class_weight=\"balanced\")\n",
    "param_grid = {\n",
    "    'penalty' : ['l1','l2'],\n",
    "    'C' : [0.01,0.1,1,10],\n",
    "    'solver' : ['newton-cholesky','saga']\n",
    "}"
   ]
  },
  {
   "cell_type": "markdown",
   "id": "39cb3472",
   "metadata": {
    "papermill": {
     "duration": 0.048286,
     "end_time": "2024-11-30T18:10:53.436914",
     "exception": false,
     "start_time": "2024-11-30T18:10:53.388628",
     "status": "completed"
    },
    "tags": []
   },
   "source": [
    "**38. Randomized Search CV**"
   ]
  },
  {
   "cell_type": "markdown",
   "id": "44cca81f",
   "metadata": {
    "papermill": {
     "duration": 0.046759,
     "end_time": "2024-11-30T18:10:53.530412",
     "exception": false,
     "start_time": "2024-11-30T18:10:53.483653",
     "status": "completed"
    },
    "tags": []
   },
   "source": [
    "\n",
    "* Randomized Search Cross-Validation for Logistic Regression Model\n"
   ]
  },
  {
   "cell_type": "code",
   "execution_count": 48,
   "id": "0318b7f5",
   "metadata": {
    "execution": {
     "iopub.execute_input": "2024-11-30T18:10:53.626019Z",
     "iopub.status.busy": "2024-11-30T18:10:53.625359Z",
     "iopub.status.idle": "2024-11-30T18:10:53.630359Z",
     "shell.execute_reply": "2024-11-30T18:10:53.629383Z"
    },
    "papermill": {
     "duration": 0.054866,
     "end_time": "2024-11-30T18:10:53.632290",
     "exception": false,
     "start_time": "2024-11-30T18:10:53.577424",
     "status": "completed"
    },
    "tags": []
   },
   "outputs": [],
   "source": [
    "rscv = RandomizedSearchCV(estimator=model, param_distributions=param_grid, cv=5, scoring='accuracy', n_jobs=-1)"
   ]
  },
  {
   "cell_type": "markdown",
   "id": "c1c87848",
   "metadata": {
    "papermill": {
     "duration": 0.046991,
     "end_time": "2024-11-30T18:10:53.726309",
     "exception": false,
     "start_time": "2024-11-30T18:10:53.679318",
     "status": "completed"
    },
    "tags": []
   },
   "source": [
    "* Fitting the Randomized Search Cross-Validation for Logistic Regression Model"
   ]
  },
  {
   "cell_type": "code",
   "execution_count": 49,
   "id": "063b823a",
   "metadata": {
    "execution": {
     "iopub.execute_input": "2024-11-30T18:10:53.822330Z",
     "iopub.status.busy": "2024-11-30T18:10:53.821947Z",
     "iopub.status.idle": "2024-11-30T18:10:53.826248Z",
     "shell.execute_reply": "2024-11-30T18:10:53.825307Z"
    },
    "papermill": {
     "duration": 0.054846,
     "end_time": "2024-11-30T18:10:53.828165",
     "exception": false,
     "start_time": "2024-11-30T18:10:53.773319",
     "status": "completed"
    },
    "tags": []
   },
   "outputs": [],
   "source": [
    "# rscv.fit(X_train_trf,y_train)"
   ]
  },
  {
   "cell_type": "markdown",
   "id": "b5263f13",
   "metadata": {
    "papermill": {
     "duration": 0.046741,
     "end_time": "2024-11-30T18:10:53.921654",
     "exception": false,
     "start_time": "2024-11-30T18:10:53.874913",
     "status": "completed"
    },
    "tags": []
   },
   "source": [
    "* Best Hyperparameters from Randomized Search Cross-Validation"
   ]
  },
  {
   "cell_type": "code",
   "execution_count": 50,
   "id": "44f5f72a",
   "metadata": {
    "execution": {
     "iopub.execute_input": "2024-11-30T18:10:54.018350Z",
     "iopub.status.busy": "2024-11-30T18:10:54.017966Z",
     "iopub.status.idle": "2024-11-30T18:10:54.022923Z",
     "shell.execute_reply": "2024-11-30T18:10:54.021736Z"
    },
    "papermill": {
     "duration": 0.055876,
     "end_time": "2024-11-30T18:10:54.025098",
     "exception": false,
     "start_time": "2024-11-30T18:10:53.969222",
     "status": "completed"
    },
    "tags": []
   },
   "outputs": [],
   "source": [
    "# rscv.best_params_"
   ]
  },
  {
   "cell_type": "markdown",
   "id": "25726ee7",
   "metadata": {
    "papermill": {
     "duration": 0.047395,
     "end_time": "2024-11-30T18:10:54.120053",
     "exception": false,
     "start_time": "2024-11-30T18:10:54.072658",
     "status": "completed"
    },
    "tags": []
   },
   "source": [
    "* Best Score from Randomized Search Cross-Validation"
   ]
  },
  {
   "cell_type": "code",
   "execution_count": 51,
   "id": "3bade2a4",
   "metadata": {
    "execution": {
     "iopub.execute_input": "2024-11-30T18:10:54.217689Z",
     "iopub.status.busy": "2024-11-30T18:10:54.217329Z",
     "iopub.status.idle": "2024-11-30T18:10:54.221811Z",
     "shell.execute_reply": "2024-11-30T18:10:54.220807Z"
    },
    "papermill": {
     "duration": 0.055571,
     "end_time": "2024-11-30T18:10:54.223720",
     "exception": false,
     "start_time": "2024-11-30T18:10:54.168149",
     "status": "completed"
    },
    "tags": []
   },
   "outputs": [],
   "source": [
    "# rscv.best_score_"
   ]
  },
  {
   "attachments": {
    "5e94bad1-5ab6-43a2-b78c-8b78722542ab.png": {
     "image/png": "[encoded data removed]"
    }
   },
   "cell_type": "markdown",
   "id": "cb6df84b",
   "metadata": {
    "papermill": {
     "duration": 0.046629,
     "end_time": "2024-11-30T18:10:54.318952",
     "exception": false,
     "start_time": "2024-11-30T18:10:54.272323",
     "status": "completed"
    },
    "tags": []
   },
   "source": [
    "![image.png](attachment:5e94bad1-5ab6-43a2-b78c-8b78722542ab.png)"
   ]
  },
  {
   "cell_type": "markdown",
   "id": "6aa21c94",
   "metadata": {
    "papermill": {
     "duration": 0.04749,
     "end_time": "2024-11-30T18:10:54.413436",
     "exception": false,
     "start_time": "2024-11-30T18:10:54.365946",
     "status": "completed"
    },
    "tags": []
   },
   "source": [
    "* Test Accuracy of the Best Model from Randomized Search Cross-Validation"
   ]
  },
  {
   "cell_type": "code",
   "execution_count": 52,
   "id": "008dc9ba",
   "metadata": {
    "execution": {
     "iopub.execute_input": "2024-11-30T18:10:54.509813Z",
     "iopub.status.busy": "2024-11-30T18:10:54.508959Z",
     "iopub.status.idle": "2024-11-30T18:10:54.513336Z",
     "shell.execute_reply": "2024-11-30T18:10:54.512334Z"
    },
    "papermill": {
     "duration": 0.054659,
     "end_time": "2024-11-30T18:10:54.515296",
     "exception": false,
     "start_time": "2024-11-30T18:10:54.460637",
     "status": "completed"
    },
    "tags": []
   },
   "outputs": [],
   "source": [
    "# best_model = rscv.best_estimator_\n",
    "\n",
    "# # Evaluate the model on the test set\n",
    "# test_accuracy = accuracy_score(y_test, best_model.predict(X_test_trf))\n",
    "# print(\"Test accuracy: \", test_accuracy)"
   ]
  },
  {
   "cell_type": "markdown",
   "id": "53e3a0ac",
   "metadata": {
    "papermill": {
     "duration": 0.046647,
     "end_time": "2024-11-30T18:10:54.609346",
     "exception": false,
     "start_time": "2024-11-30T18:10:54.562699",
     "status": "completed"
    },
    "tags": []
   },
   "source": [
    "**39. Grid Search CV**"
   ]
  },
  {
   "cell_type": "markdown",
   "id": "a0749956",
   "metadata": {
    "papermill": {
     "duration": 0.046678,
     "end_time": "2024-11-30T18:10:54.702828",
     "exception": false,
     "start_time": "2024-11-30T18:10:54.656150",
     "status": "completed"
    },
    "tags": []
   },
   "source": [
    "* Fitting the Grid Search Cross-Validation for Logistic Regression Model"
   ]
  },
  {
   "cell_type": "markdown",
   "id": "388025ac",
   "metadata": {
    "papermill": {
     "duration": 0.046405,
     "end_time": "2024-11-30T18:10:54.795934",
     "exception": false,
     "start_time": "2024-11-30T18:10:54.749529",
     "status": "completed"
    },
    "tags": []
   },
   "source": [
    "* Best Hyperparameters and Best Score from Grid Search Cross-Validation"
   ]
  },
  {
   "cell_type": "code",
   "execution_count": 53,
   "id": "f6b8645c",
   "metadata": {
    "execution": {
     "iopub.execute_input": "2024-11-30T18:10:54.891814Z",
     "iopub.status.busy": "2024-11-30T18:10:54.890726Z",
     "iopub.status.idle": "2024-11-30T18:10:54.895446Z",
     "shell.execute_reply": "2024-11-30T18:10:54.894467Z"
    },
    "papermill": {
     "duration": 0.054819,
     "end_time": "2024-11-30T18:10:54.897523",
     "exception": false,
     "start_time": "2024-11-30T18:10:54.842704",
     "status": "completed"
    },
    "tags": []
   },
   "outputs": [],
   "source": [
    "# gscv = GridSearchCV(estimator=model, param_grid=param_grid, cv=5, scoring='accuracy', n_jobs=-1)\n",
    "# gscv.fit(X_train_trf,y_train)"
   ]
  },
  {
   "cell_type": "code",
   "execution_count": 54,
   "id": "afbd4745",
   "metadata": {
    "execution": {
     "iopub.execute_input": "2024-11-30T18:10:54.995502Z",
     "iopub.status.busy": "2024-11-30T18:10:54.994654Z",
     "iopub.status.idle": "2024-11-30T18:10:54.999674Z",
     "shell.execute_reply": "2024-11-30T18:10:54.998471Z"
    },
    "papermill": {
     "duration": 0.056081,
     "end_time": "2024-11-30T18:10:55.001722",
     "exception": false,
     "start_time": "2024-11-30T18:10:54.945641",
     "status": "completed"
    },
    "tags": []
   },
   "outputs": [],
   "source": [
    "# print(gscv.best_params_)\n",
    "# print(gscv.best_score_)"
   ]
  },
  {
   "attachments": {
    "b169857e-4b33-431e-8332-d692f975d9fb.png": {
     "image/png": "[encoded data removed]"
    }
   },
   "cell_type": "markdown",
   "id": "0d8e744f",
   "metadata": {
    "papermill": {
     "duration": 0.046541,
     "end_time": "2024-11-30T18:10:55.095455",
     "exception": false,
     "start_time": "2024-11-30T18:10:55.048914",
     "status": "completed"
    },
    "tags": []
   },
   "source": [
    "![image.png](attachment:b169857e-4b33-431e-8332-d692f975d9fb.png)"
   ]
  },
  {
   "cell_type": "markdown",
   "id": "d596000f",
   "metadata": {
    "papermill": {
     "duration": 0.046516,
     "end_time": "2024-11-30T18:10:55.188699",
     "exception": false,
     "start_time": "2024-11-30T18:10:55.142183",
     "status": "completed"
    },
    "tags": []
   },
   "source": [
    "* Test Accuracy and Predictions of the Best Model from Grid Search Cross-Validation"
   ]
  },
  {
   "cell_type": "code",
   "execution_count": 55,
   "id": "fcf7c2eb",
   "metadata": {
    "execution": {
     "iopub.execute_input": "2024-11-30T18:10:55.286033Z",
     "iopub.status.busy": "2024-11-30T18:10:55.285230Z",
     "iopub.status.idle": "2024-11-30T18:10:55.289871Z",
     "shell.execute_reply": "2024-11-30T18:10:55.288846Z"
    },
    "papermill": {
     "duration": 0.056457,
     "end_time": "2024-11-30T18:10:55.292031",
     "exception": false,
     "start_time": "2024-11-30T18:10:55.235574",
     "status": "completed"
    },
    "tags": []
   },
   "outputs": [],
   "source": [
    "# best_model = gscv.best_estimator_\n",
    "\n",
    "# # Evaluate the model on the test set\n",
    "# test_accuracy = accuracy_score(y_test, best_model.predict(X_test_trf))\n",
    "# print(\"Test accuracy: \", test_accuracy)\n",
    "# y_pred=best_model.predict(X_test_trf)"
   ]
  },
  {
   "cell_type": "markdown",
   "id": "c2a2a9a1",
   "metadata": {
    "papermill": {
     "duration": 0.046204,
     "end_time": "2024-11-30T18:10:55.384987",
     "exception": false,
     "start_time": "2024-11-30T18:10:55.338783",
     "status": "completed"
    },
    "tags": []
   },
   "source": [
    "I commented out the rscv and gscv part because they are taking a lot of time during submission final notebook. But i pasted the outputs which i were getting when i run those cells, in the markdown."
   ]
  },
  {
   "cell_type": "markdown",
   "id": "e0c08b8c",
   "metadata": {
    "papermill": {
     "duration": 0.046429,
     "end_time": "2024-11-30T18:10:55.479703",
     "exception": false,
     "start_time": "2024-11-30T18:10:55.433274",
     "status": "completed"
    },
    "tags": []
   },
   "source": [
    "# Submission"
   ]
  },
  {
   "cell_type": "markdown",
   "id": "0d985d25",
   "metadata": {
    "papermill": {
     "duration": 0.046567,
     "end_time": "2024-11-30T18:10:55.573431",
     "exception": false,
     "start_time": "2024-11-30T18:10:55.526864",
     "status": "completed"
    },
    "tags": []
   },
   "source": [
    "# Decision Trees"
   ]
  },
  {
   "cell_type": "code",
   "execution_count": 56,
   "id": "12ebc40e",
   "metadata": {
    "execution": {
     "iopub.execute_input": "2024-11-30T18:10:55.671207Z",
     "iopub.status.busy": "2024-11-30T18:10:55.670833Z",
     "iopub.status.idle": "2024-11-30T18:10:55.675494Z",
     "shell.execute_reply": "2024-11-30T18:10:55.674526Z"
    },
    "papermill": {
     "duration": 0.055238,
     "end_time": "2024-11-30T18:10:55.677510",
     "exception": false,
     "start_time": "2024-11-30T18:10:55.622272",
     "status": "completed"
    },
    "tags": []
   },
   "outputs": [],
   "source": [
    "# import pandas as pd\n",
    "# from sklearn.model_selection import GridSearchCV\n",
    "# from sklearn.tree import DecisionTreeClassifier\n",
    "# from sklearn.metrics import f1_score\n",
    "# from sklearn.preprocessing import LabelEncoder\n",
    "# from sklearn.model_selection import train_test_split"
   ]
  },
  {
   "cell_type": "code",
   "execution_count": 57,
   "id": "9709c71f",
   "metadata": {
    "execution": {
     "iopub.execute_input": "2024-11-30T18:10:55.776102Z",
     "iopub.status.busy": "2024-11-30T18:10:55.775151Z",
     "iopub.status.idle": "2024-11-30T18:10:55.779505Z",
     "shell.execute_reply": "2024-11-30T18:10:55.778487Z"
    },
    "papermill": {
     "duration": 0.055706,
     "end_time": "2024-11-30T18:10:55.781475",
     "exception": false,
     "start_time": "2024-11-30T18:10:55.725769",
     "status": "completed"
    },
    "tags": []
   },
   "outputs": [],
   "source": [
    "# train = pd.read_csv('/kaggle/input/predict-the-success-of-bank-telemarketing/train.csv')\n",
    "# test = pd.read_csv('/kaggle/input/predict-the-success-of-bank-telemarketing/test.csv')\n"
   ]
  },
  {
   "cell_type": "code",
   "execution_count": 58,
   "id": "e70add6c",
   "metadata": {
    "execution": {
     "iopub.execute_input": "2024-11-30T18:10:55.877869Z",
     "iopub.status.busy": "2024-11-30T18:10:55.877467Z",
     "iopub.status.idle": "2024-11-30T18:10:55.882406Z",
     "shell.execute_reply": "2024-11-30T18:10:55.881468Z"
    },
    "papermill": {
     "duration": 0.055897,
     "end_time": "2024-11-30T18:10:55.884554",
     "exception": false,
     "start_time": "2024-11-30T18:10:55.828657",
     "status": "completed"
    },
    "tags": []
   },
   "outputs": [],
   "source": [
    "# train['last_contact_date'] = pd.to_datetime(train['last contact date'])\n",
    "# test['last_contact_date'] = pd.to_datetime(test['last contact date'])\n",
    "\n",
    "# train['contact_year'] = train['last_contact_date'].dt.year\n",
    "# train['contact_month'] = train['last_contact_date'].dt.month\n",
    "# train['contact_day'] = train['last_contact_date'].dt.day\n",
    "\n",
    "# test['contact_year'] = test['last_contact_date'].dt.year\n",
    "# test['contact_month'] = test['last_contact_date'].dt.month\n",
    "# test['contact_day'] = test['last_contact_date'].dt.day\n",
    "\n",
    "# # Drop the original 'last contact date' column\n",
    "# train = train.drop(columns=['last contact date', 'last_contact_date'])\n",
    "# test = test.drop(columns=['last contact date', 'last_contact_date'])"
   ]
  },
  {
   "cell_type": "code",
   "execution_count": 59,
   "id": "5c606709",
   "metadata": {
    "execution": {
     "iopub.execute_input": "2024-11-30T18:10:55.982170Z",
     "iopub.status.busy": "2024-11-30T18:10:55.981729Z",
     "iopub.status.idle": "2024-11-30T18:10:55.986140Z",
     "shell.execute_reply": "2024-11-30T18:10:55.985146Z"
    },
    "papermill": {
     "duration": 0.055553,
     "end_time": "2024-11-30T18:10:55.988213",
     "exception": false,
     "start_time": "2024-11-30T18:10:55.932660",
     "status": "completed"
    },
    "tags": []
   },
   "outputs": [],
   "source": [
    "# label_encoder = LabelEncoder()\n",
    "# train['target'] = label_encoder.fit_transform(train['target'])"
   ]
  },
  {
   "cell_type": "code",
   "execution_count": 60,
   "id": "970f1785",
   "metadata": {
    "execution": {
     "iopub.execute_input": "2024-11-30T18:10:56.084225Z",
     "iopub.status.busy": "2024-11-30T18:10:56.083870Z",
     "iopub.status.idle": "2024-11-30T18:10:56.088210Z",
     "shell.execute_reply": "2024-11-30T18:10:56.087171Z"
    },
    "papermill": {
     "duration": 0.054659,
     "end_time": "2024-11-30T18:10:56.090312",
     "exception": false,
     "start_time": "2024-11-30T18:10:56.035653",
     "status": "completed"
    },
    "tags": []
   },
   "outputs": [],
   "source": [
    "# categorical_columns = ['job', 'marital', 'education', 'default', 'housing', 'loan', 'contact', 'poutcome']\n",
    "# for col in categorical_columns:\n",
    "#     train[col] = label_encoder.fit_transform(train[col])\n",
    "#     test[col] = label_encoder.transform(test[col])"
   ]
  },
  {
   "cell_type": "code",
   "execution_count": 61,
   "id": "c2aebe53",
   "metadata": {
    "execution": {
     "iopub.execute_input": "2024-11-30T18:10:56.239978Z",
     "iopub.status.busy": "2024-11-30T18:10:56.239177Z",
     "iopub.status.idle": "2024-11-30T18:10:56.243830Z",
     "shell.execute_reply": "2024-11-30T18:10:56.242691Z"
    },
    "papermill": {
     "duration": 0.056175,
     "end_time": "2024-11-30T18:10:56.245913",
     "exception": false,
     "start_time": "2024-11-30T18:10:56.189738",
     "status": "completed"
    },
    "tags": []
   },
   "outputs": [],
   "source": [
    "# X_train = train.drop(columns=['target'])\n",
    "# y_train = train['target']\n",
    "# X_test = test"
   ]
  },
  {
   "cell_type": "code",
   "execution_count": 62,
   "id": "c95d53d7",
   "metadata": {
    "execution": {
     "iopub.execute_input": "2024-11-30T18:10:56.343514Z",
     "iopub.status.busy": "2024-11-30T18:10:56.343113Z",
     "iopub.status.idle": "2024-11-30T18:10:56.347905Z",
     "shell.execute_reply": "2024-11-30T18:10:56.346845Z"
    },
    "papermill": {
     "duration": 0.0557,
     "end_time": "2024-11-30T18:10:56.349857",
     "exception": false,
     "start_time": "2024-11-30T18:10:56.294157",
     "status": "completed"
    },
    "tags": []
   },
   "outputs": [],
   "source": [
    "# dt = DecisionTreeClassifier(random_state=42)\n",
    "\n",
    "# # Define the parameter grid\n",
    "# param_grid = {\n",
    "#     'criterion': ['gini', 'entropy'],\n",
    "#     'max_depth': [None, 10, 20, 30],\n",
    "#     'min_samples_split': [2, 5, 10],\n",
    "#     'min_samples_leaf': [1, 2, 4],\n",
    "#     'max_features': [None, 'sqrt', 'log2']\n",
    "# }"
   ]
  },
  {
   "cell_type": "code",
   "execution_count": 63,
   "id": "a551f8c2",
   "metadata": {
    "execution": {
     "iopub.execute_input": "2024-11-30T18:10:56.448641Z",
     "iopub.status.busy": "2024-11-30T18:10:56.448242Z",
     "iopub.status.idle": "2024-11-30T18:10:56.453117Z",
     "shell.execute_reply": "2024-11-30T18:10:56.452088Z"
    },
    "papermill": {
     "duration": 0.058459,
     "end_time": "2024-11-30T18:10:56.455524",
     "exception": false,
     "start_time": "2024-11-30T18:10:56.397065",
     "status": "completed"
    },
    "tags": []
   },
   "outputs": [],
   "source": [
    "# grid_search = GridSearchCV(estimator=dt, param_grid=param_grid, cv=5, n_jobs=-1, verbose=2)\n",
    "\n",
    "# # Fit the model with grid search\n",
    "# grid_search.fit(X_train, y_train)"
   ]
  },
  {
   "attachments": {
    "2167ed2b-debc-469c-a96c-560e9e914aa9.png": {
     "image/png": "[encoded data removed]"
    }
   },
   "cell_type": "markdown",
   "id": "ca184193",
   "metadata": {
    "papermill": {
     "duration": 0.047457,
     "end_time": "2024-11-30T18:10:56.550477",
     "exception": false,
     "start_time": "2024-11-30T18:10:56.503020",
     "status": "completed"
    },
    "tags": []
   },
   "source": [
    "![image.png](attachment:2167ed2b-debc-469c-a96c-560e9e914aa9.png)"
   ]
  },
  {
   "cell_type": "code",
   "execution_count": 64,
   "id": "9da9e5b5",
   "metadata": {
    "execution": {
     "iopub.execute_input": "2024-11-30T18:10:56.646890Z",
     "iopub.status.busy": "2024-11-30T18:10:56.646053Z",
     "iopub.status.idle": "2024-11-30T18:10:56.650660Z",
     "shell.execute_reply": "2024-11-30T18:10:56.649633Z"
    },
    "papermill": {
     "duration": 0.055137,
     "end_time": "2024-11-30T18:10:56.652671",
     "exception": false,
     "start_time": "2024-11-30T18:10:56.597534",
     "status": "completed"
    },
    "tags": []
   },
   "outputs": [],
   "source": [
    "# print(\"Best Parameters:\", grid_search.best_params_)"
   ]
  },
  {
   "attachments": {
    "e3c066bf-8b7f-4c10-9230-451ffb5ae8df.png": {
     "image/png": "[encoded data removed]"
    }
   },
   "cell_type": "markdown",
   "id": "d1dfff8e",
   "metadata": {
    "papermill": {
     "duration": 0.04673,
     "end_time": "2024-11-30T18:10:56.746067",
     "exception": false,
     "start_time": "2024-11-30T18:10:56.699337",
     "status": "completed"
    },
    "tags": []
   },
   "source": [
    "![image.png](attachment:e3c066bf-8b7f-4c10-9230-451ffb5ae8df.png)"
   ]
  },
  {
   "cell_type": "code",
   "execution_count": 65,
   "id": "10802392",
   "metadata": {
    "execution": {
     "iopub.execute_input": "2024-11-30T18:10:56.842349Z",
     "iopub.status.busy": "2024-11-30T18:10:56.841442Z",
     "iopub.status.idle": "2024-11-30T18:10:56.845988Z",
     "shell.execute_reply": "2024-11-30T18:10:56.844996Z"
    },
    "papermill": {
     "duration": 0.054737,
     "end_time": "2024-11-30T18:10:56.848033",
     "exception": false,
     "start_time": "2024-11-30T18:10:56.793296",
     "status": "completed"
    },
    "tags": []
   },
   "outputs": [],
   "source": [
    "# best_model = grid_search.best_estimator_\n"
   ]
  },
  {
   "cell_type": "code",
   "execution_count": 66,
   "id": "b7cb9a75",
   "metadata": {
    "execution": {
     "iopub.execute_input": "2024-11-30T18:10:56.944233Z",
     "iopub.status.busy": "2024-11-30T18:10:56.943851Z",
     "iopub.status.idle": "2024-11-30T18:10:56.948188Z",
     "shell.execute_reply": "2024-11-30T18:10:56.947063Z"
    },
    "papermill": {
     "duration": 0.054678,
     "end_time": "2024-11-30T18:10:56.950240",
     "exception": false,
     "start_time": "2024-11-30T18:10:56.895562",
     "status": "completed"
    },
    "tags": []
   },
   "outputs": [],
   "source": [
    "# y_pred = best_model.predict(X_test)"
   ]
  },
  {
   "cell_type": "code",
   "execution_count": 67,
   "id": "4c4ecc10",
   "metadata": {
    "execution": {
     "iopub.execute_input": "2024-11-30T18:10:57.047505Z",
     "iopub.status.busy": "2024-11-30T18:10:57.047150Z",
     "iopub.status.idle": "2024-11-30T18:10:57.052036Z",
     "shell.execute_reply": "2024-11-30T18:10:57.050903Z"
    },
    "papermill": {
     "duration": 0.056485,
     "end_time": "2024-11-30T18:10:57.054297",
     "exception": false,
     "start_time": "2024-11-30T18:10:56.997812",
     "status": "completed"
    },
    "tags": []
   },
   "outputs": [],
   "source": [
    "# # Convert predictions from 0/1 to 'yes'/'no' using LabelEncoder\n",
    "# predictions_yes_no = label_encoder.inverse_transform(y_pred)\n",
    "\n",
    "# # Create the submission DataFrame\n",
    "# submission = pd.DataFrame({\n",
    "#     'Id': range(len(X_test)),  # Generate IDs based on the row index\n",
    "#     'Prediction': predictions_yes_no  # Add the converted predictions\n",
    "# })\n",
    "\n",
    "# # Save predictions to a CSV file\n",
    "# submission.to_csv('submission.csv', index=False)\n"
   ]
  },
  {
   "cell_type": "markdown",
   "id": "5ef18595",
   "metadata": {
    "papermill": {
     "duration": 0.046932,
     "end_time": "2024-11-30T18:10:57.148948",
     "exception": false,
     "start_time": "2024-11-30T18:10:57.102016",
     "status": "completed"
    },
    "tags": []
   },
   "source": [
    "**I got 0.46260 public score by using Decision Trees model**"
   ]
  },
  {
   "cell_type": "markdown",
   "id": "1550735c",
   "metadata": {
    "papermill": {
     "duration": 0.047094,
     "end_time": "2024-11-30T18:10:57.243965",
     "exception": false,
     "start_time": "2024-11-30T18:10:57.196871",
     "status": "completed"
    },
    "tags": []
   },
   "source": [
    "# LogisticRegression"
   ]
  },
  {
   "cell_type": "code",
   "execution_count": 68,
   "id": "b8dcccb8",
   "metadata": {
    "execution": {
     "iopub.execute_input": "2024-11-30T18:10:57.354369Z",
     "iopub.status.busy": "2024-11-30T18:10:57.353972Z",
     "iopub.status.idle": "2024-11-30T18:10:57.358928Z",
     "shell.execute_reply": "2024-11-30T18:10:57.357775Z"
    },
    "papermill": {
     "duration": 0.070081,
     "end_time": "2024-11-30T18:10:57.361387",
     "exception": false,
     "start_time": "2024-11-30T18:10:57.291306",
     "status": "completed"
    },
    "tags": []
   },
   "outputs": [],
   "source": [
    "# import pandas as pd\n",
    "# from sklearn.model_selection import GridSearchCV\n",
    "# from sklearn.tree import DecisionTreeClassifier\n",
    "# from sklearn.metrics import f1_score\n",
    "# from sklearn.preprocessing import LabelEncoder\n",
    "# from sklearn.model_selection import train_test_split"
   ]
  },
  {
   "cell_type": "code",
   "execution_count": 69,
   "id": "16fbe319",
   "metadata": {
    "execution": {
     "iopub.execute_input": "2024-11-30T18:10:57.479294Z",
     "iopub.status.busy": "2024-11-30T18:10:57.478914Z",
     "iopub.status.idle": "2024-11-30T18:10:57.483410Z",
     "shell.execute_reply": "2024-11-30T18:10:57.482239Z"
    },
    "papermill": {
     "duration": 0.056459,
     "end_time": "2024-11-30T18:10:57.485518",
     "exception": false,
     "start_time": "2024-11-30T18:10:57.429059",
     "status": "completed"
    },
    "tags": []
   },
   "outputs": [],
   "source": [
    "# train = pd.read_csv('/kaggle/input/predict-the-success-of-bank-telemarketing/train.csv')\n",
    "# test = pd.read_csv('/kaggle/input/predict-the-success-of-bank-telemarketing/test.csv')\n"
   ]
  },
  {
   "cell_type": "code",
   "execution_count": 70,
   "id": "01610563",
   "metadata": {
    "execution": {
     "iopub.execute_input": "2024-11-30T18:10:57.600538Z",
     "iopub.status.busy": "2024-11-30T18:10:57.599533Z",
     "iopub.status.idle": "2024-11-30T18:10:57.605394Z",
     "shell.execute_reply": "2024-11-30T18:10:57.604287Z"
    },
    "papermill": {
     "duration": 0.074065,
     "end_time": "2024-11-30T18:10:57.607671",
     "exception": false,
     "start_time": "2024-11-30T18:10:57.533606",
     "status": "completed"
    },
    "tags": []
   },
   "outputs": [],
   "source": [
    "# train['last_contact_date'] = pd.to_datetime(train['last contact date'])\n",
    "# test['last_contact_date'] = pd.to_datetime(test['last contact date'])\n",
    "\n",
    "# train['contact_year'] = train['last_contact_date'].dt.year\n",
    "# train['contact_month'] = train['last_contact_date'].dt.month\n",
    "# train['contact_day'] = train['last_contact_date'].dt.day\n",
    "\n",
    "# test['contact_year'] = test['last_contact_date'].dt.year\n",
    "# test['contact_month'] = test['last_contact_date'].dt.month\n",
    "# test['contact_day'] = test['last_contact_date'].dt.day\n",
    "\n",
    "# # Drop the original 'last contact date' column\n",
    "# train = train.drop(columns=['last contact date', 'last_contact_date'])\n",
    "# test = test.drop(columns=['last contact date', 'last_contact_date'])"
   ]
  },
  {
   "cell_type": "code",
   "execution_count": 71,
   "id": "f74e9bdb",
   "metadata": {
    "execution": {
     "iopub.execute_input": "2024-11-30T18:10:57.709339Z",
     "iopub.status.busy": "2024-11-30T18:10:57.708156Z",
     "iopub.status.idle": "2024-11-30T18:10:57.713329Z",
     "shell.execute_reply": "2024-11-30T18:10:57.712240Z"
    },
    "papermill": {
     "duration": 0.058406,
     "end_time": "2024-11-30T18:10:57.716040",
     "exception": false,
     "start_time": "2024-11-30T18:10:57.657634",
     "status": "completed"
    },
    "tags": []
   },
   "outputs": [],
   "source": [
    "# train.drop(['contact','poutcome'],axis=1,inplace=True)"
   ]
  },
  {
   "cell_type": "code",
   "execution_count": 72,
   "id": "fc2b7778",
   "metadata": {
    "execution": {
     "iopub.execute_input": "2024-11-30T18:10:57.841295Z",
     "iopub.status.busy": "2024-11-30T18:10:57.840539Z",
     "iopub.status.idle": "2024-11-30T18:10:57.845232Z",
     "shell.execute_reply": "2024-11-30T18:10:57.844157Z"
    },
    "papermill": {
     "duration": 0.071603,
     "end_time": "2024-11-30T18:10:57.847267",
     "exception": false,
     "start_time": "2024-11-30T18:10:57.775664",
     "status": "completed"
    },
    "tags": []
   },
   "outputs": [],
   "source": [
    "# test.drop(['contact','poutcome'],axis=1,inplace=True)"
   ]
  },
  {
   "cell_type": "code",
   "execution_count": 73,
   "id": "b63b5217",
   "metadata": {
    "execution": {
     "iopub.execute_input": "2024-11-30T18:10:57.949424Z",
     "iopub.status.busy": "2024-11-30T18:10:57.948468Z",
     "iopub.status.idle": "2024-11-30T18:10:57.953330Z",
     "shell.execute_reply": "2024-11-30T18:10:57.952235Z"
    },
    "papermill": {
     "duration": 0.058095,
     "end_time": "2024-11-30T18:10:57.955536",
     "exception": false,
     "start_time": "2024-11-30T18:10:57.897441",
     "status": "completed"
    },
    "tags": []
   },
   "outputs": [],
   "source": [
    "# train.isna().sum()"
   ]
  },
  {
   "attachments": {
    "73aa727e-1d15-4b32-8bb8-3d4be2851886.png": {
     "image/png": "[encoded data removed]"
    }
   },
   "cell_type": "markdown",
   "id": "2f974f0a",
   "metadata": {
    "papermill": {
     "duration": 0.047903,
     "end_time": "2024-11-30T18:10:58.052524",
     "exception": false,
     "start_time": "2024-11-30T18:10:58.004621",
     "status": "completed"
    },
    "tags": []
   },
   "source": [
    "![image.png](attachment:73aa727e-1d15-4b32-8bb8-3d4be2851886.png)"
   ]
  },
  {
   "cell_type": "code",
   "execution_count": 74,
   "id": "923c7332",
   "metadata": {
    "execution": {
     "iopub.execute_input": "2024-11-30T18:10:58.152402Z",
     "iopub.status.busy": "2024-11-30T18:10:58.151458Z",
     "iopub.status.idle": "2024-11-30T18:10:58.156455Z",
     "shell.execute_reply": "2024-11-30T18:10:58.155464Z"
    },
    "papermill": {
     "duration": 0.056878,
     "end_time": "2024-11-30T18:10:58.158484",
     "exception": false,
     "start_time": "2024-11-30T18:10:58.101606",
     "status": "completed"
    },
    "tags": []
   },
   "outputs": [],
   "source": [
    "# train['job']=train['job'].fillna(train['job'].mode().iloc[0])\n",
    "# train['education']=train['education'].fillna(train['education'].mode().iloc[0])"
   ]
  },
  {
   "cell_type": "code",
   "execution_count": 75,
   "id": "4f028481",
   "metadata": {
    "execution": {
     "iopub.execute_input": "2024-11-30T18:10:58.258004Z",
     "iopub.status.busy": "2024-11-30T18:10:58.257117Z",
     "iopub.status.idle": "2024-11-30T18:10:58.261918Z",
     "shell.execute_reply": "2024-11-30T18:10:58.260804Z"
    },
    "papermill": {
     "duration": 0.057075,
     "end_time": "2024-11-30T18:10:58.264421",
     "exception": false,
     "start_time": "2024-11-30T18:10:58.207346",
     "status": "completed"
    },
    "tags": []
   },
   "outputs": [],
   "source": [
    "# test['job']=test['job'].fillna(test['job'].mode().iloc[0])\n",
    "# test['education']=test['education'].fillna(test['education'].mode().iloc[0])"
   ]
  },
  {
   "cell_type": "code",
   "execution_count": 76,
   "id": "7bc42ce2",
   "metadata": {
    "execution": {
     "iopub.execute_input": "2024-11-30T18:10:58.370967Z",
     "iopub.status.busy": "2024-11-30T18:10:58.370431Z",
     "iopub.status.idle": "2024-11-30T18:10:58.375431Z",
     "shell.execute_reply": "2024-11-30T18:10:58.374309Z"
    },
    "papermill": {
     "duration": 0.057274,
     "end_time": "2024-11-30T18:10:58.377872",
     "exception": false,
     "start_time": "2024-11-30T18:10:58.320598",
     "status": "completed"
    },
    "tags": []
   },
   "outputs": [],
   "source": [
    "# X_test.isna().sum()"
   ]
  },
  {
   "attachments": {
    "53498cef-2cd8-4576-bd2f-7fb44bc92340.png": {
     "image/png": "[encoded data removed]"
    }
   },
   "cell_type": "markdown",
   "id": "44582b19",
   "metadata": {
    "papermill": {
     "duration": 0.047627,
     "end_time": "2024-11-30T18:10:58.474055",
     "exception": false,
     "start_time": "2024-11-30T18:10:58.426428",
     "status": "completed"
    },
    "tags": []
   },
   "source": [
    "![image.png](attachment:53498cef-2cd8-4576-bd2f-7fb44bc92340.png)"
   ]
  },
  {
   "cell_type": "code",
   "execution_count": 77,
   "id": "32cbe518",
   "metadata": {
    "execution": {
     "iopub.execute_input": "2024-11-30T18:10:58.572015Z",
     "iopub.status.busy": "2024-11-30T18:10:58.570967Z",
     "iopub.status.idle": "2024-11-30T18:10:58.575720Z",
     "shell.execute_reply": "2024-11-30T18:10:58.574587Z"
    },
    "papermill": {
     "duration": 0.056153,
     "end_time": "2024-11-30T18:10:58.577811",
     "exception": false,
     "start_time": "2024-11-30T18:10:58.521658",
     "status": "completed"
    },
    "tags": []
   },
   "outputs": [],
   "source": [
    "# X_train = train.drop(columns=['target'])\n",
    "# y_train = train['target']\n",
    "# X_test = test"
   ]
  },
  {
   "cell_type": "code",
   "execution_count": 78,
   "id": "53106972",
   "metadata": {
    "execution": {
     "iopub.execute_input": "2024-11-30T18:10:58.678245Z",
     "iopub.status.busy": "2024-11-30T18:10:58.677214Z",
     "iopub.status.idle": "2024-11-30T18:10:58.682117Z",
     "shell.execute_reply": "2024-11-30T18:10:58.681162Z"
    },
    "papermill": {
     "duration": 0.057835,
     "end_time": "2024-11-30T18:10:58.684136",
     "exception": false,
     "start_time": "2024-11-30T18:10:58.626301",
     "status": "completed"
    },
    "tags": []
   },
   "outputs": [],
   "source": [
    "# X_train.isna().sum()"
   ]
  },
  {
   "cell_type": "code",
   "execution_count": 79,
   "id": "dafabe22",
   "metadata": {
    "execution": {
     "iopub.execute_input": "2024-11-30T18:10:58.782722Z",
     "iopub.status.busy": "2024-11-30T18:10:58.782349Z",
     "iopub.status.idle": "2024-11-30T18:10:58.787606Z",
     "shell.execute_reply": "2024-11-30T18:10:58.786319Z"
    },
    "papermill": {
     "duration": 0.056977,
     "end_time": "2024-11-30T18:10:58.790147",
     "exception": false,
     "start_time": "2024-11-30T18:10:58.733170",
     "status": "completed"
    },
    "tags": []
   },
   "outputs": [],
   "source": [
    "# for i,j in enumerate(list(X_train.columns)):\n",
    "#     print(i,j,X_train[j].dtypes)"
   ]
  },
  {
   "cell_type": "code",
   "execution_count": 80,
   "id": "51f93971",
   "metadata": {
    "execution": {
     "iopub.execute_input": "2024-11-30T18:10:58.887900Z",
     "iopub.status.busy": "2024-11-30T18:10:58.887463Z",
     "iopub.status.idle": "2024-11-30T18:10:58.892867Z",
     "shell.execute_reply": "2024-11-30T18:10:58.891939Z"
    },
    "papermill": {
     "duration": 0.056505,
     "end_time": "2024-11-30T18:10:58.895009",
     "exception": false,
     "start_time": "2024-11-30T18:10:58.838504",
     "status": "completed"
    },
    "tags": []
   },
   "outputs": [],
   "source": [
    "# from sklearn.compose import ColumnTransformer\n",
    "# from sklearn.pipeline import Pipeline\n",
    "# from sklearn.impute import SimpleImputer\n",
    "# from sklearn.preprocessing import OneHotEncoder, StandardScaler\n",
    "\n",
    "# cat_pipe = Pipeline([(\"imputer\",SimpleImputer(strategy=\"most_frequent\")),\n",
    "#                              (\"ohe\",OneHotEncoder(handle_unknown=\"ignore\",sparse_output=False))])\n",
    "\n",
    "\n",
    "# cat_trf = ColumnTransformer([('cat',cat_pipe,[1,2,3,4,6,7])],\n",
    "#                            remainder= \"passthrough\").set_output(transform=\"pandas\")\n",
    "\n",
    "# num_pipe = Pipeline([(\"imputer\",SimpleImputer(strategy=\"mean\")),\n",
    "#                              (\"std\",StandardScaler())])\n",
    "\n",
    "# num_trf = ColumnTransformer([('num',num_pipe,[0,5,8,9,10,11,12,13,14,15])],\n",
    "#                            remainder= \"passthrough\").set_output(transform=\"pandas\")\n",
    "\n",
    "# pipe = Pipeline([(\"cat_pipe\", cat_trf),\n",
    "#                  ('num_pipe',num_trf)])\n",
    "\n",
    "# pipe.fit(X_train)"
   ]
  },
  {
   "cell_type": "code",
   "execution_count": 81,
   "id": "c832f018",
   "metadata": {
    "execution": {
     "iopub.execute_input": "2024-11-30T18:10:58.991370Z",
     "iopub.status.busy": "2024-11-30T18:10:58.990988Z",
     "iopub.status.idle": "2024-11-30T18:10:58.995508Z",
     "shell.execute_reply": "2024-11-30T18:10:58.994519Z"
    },
    "papermill": {
     "duration": 0.05501,
     "end_time": "2024-11-30T18:10:58.997532",
     "exception": false,
     "start_time": "2024-11-30T18:10:58.942522",
     "status": "completed"
    },
    "tags": []
   },
   "outputs": [],
   "source": [
    "# X_train_trf = pipe.transform(X_train)"
   ]
  },
  {
   "cell_type": "code",
   "execution_count": 82,
   "id": "750965d8",
   "metadata": {
    "execution": {
     "iopub.execute_input": "2024-11-30T18:10:59.094428Z",
     "iopub.status.busy": "2024-11-30T18:10:59.094026Z",
     "iopub.status.idle": "2024-11-30T18:10:59.098653Z",
     "shell.execute_reply": "2024-11-30T18:10:59.097564Z"
    },
    "papermill": {
     "duration": 0.055407,
     "end_time": "2024-11-30T18:10:59.100802",
     "exception": false,
     "start_time": "2024-11-30T18:10:59.045395",
     "status": "completed"
    },
    "tags": []
   },
   "outputs": [],
   "source": [
    "# X_train_trf.head()"
   ]
  },
  {
   "attachments": {
    "12acdda4-79f3-4585-b1ef-7aab41aa9111.png": {
     "image/png": "[encoded data removed]"
    }
   },
   "cell_type": "markdown",
   "id": "d6bb84cd",
   "metadata": {
    "papermill": {
     "duration": 0.047187,
     "end_time": "2024-11-30T18:10:59.195158",
     "exception": false,
     "start_time": "2024-11-30T18:10:59.147971",
     "status": "completed"
    },
    "tags": []
   },
   "source": [
    "![image.png](attachment:12acdda4-79f3-4585-b1ef-7aab41aa9111.png)"
   ]
  },
  {
   "cell_type": "code",
   "execution_count": 83,
   "id": "0cf95d67",
   "metadata": {
    "execution": {
     "iopub.execute_input": "2024-11-30T18:10:59.292630Z",
     "iopub.status.busy": "2024-11-30T18:10:59.292262Z",
     "iopub.status.idle": "2024-11-30T18:10:59.296871Z",
     "shell.execute_reply": "2024-11-30T18:10:59.295852Z"
    },
    "papermill": {
     "duration": 0.055853,
     "end_time": "2024-11-30T18:10:59.299054",
     "exception": false,
     "start_time": "2024-11-30T18:10:59.243201",
     "status": "completed"
    },
    "tags": []
   },
   "outputs": [],
   "source": [
    "# for i,j in enumerate(list(X_test.columns)):\n",
    "#     print(i,j,X_train[j].dtypes)"
   ]
  },
  {
   "cell_type": "code",
   "execution_count": 84,
   "id": "2939a8a5",
   "metadata": {
    "execution": {
     "iopub.execute_input": "2024-11-30T18:10:59.397118Z",
     "iopub.status.busy": "2024-11-30T18:10:59.396666Z",
     "iopub.status.idle": "2024-11-30T18:10:59.401914Z",
     "shell.execute_reply": "2024-11-30T18:10:59.400808Z"
    },
    "papermill": {
     "duration": 0.056618,
     "end_time": "2024-11-30T18:10:59.403992",
     "exception": false,
     "start_time": "2024-11-30T18:10:59.347374",
     "status": "completed"
    },
    "tags": []
   },
   "outputs": [],
   "source": [
    "# from sklearn.compose import ColumnTransformer\n",
    "# from sklearn.pipeline import Pipeline\n",
    "# from sklearn.impute import SimpleImputer\n",
    "# from sklearn.preprocessing import OneHotEncoder, StandardScaler\n",
    "\n",
    "# cat_pipe = Pipeline([(\"imputer\",SimpleImputer(strategy=\"most_frequent\")),\n",
    "#                              (\"ohe\",OneHotEncoder(handle_unknown=\"ignore\",sparse_output=False))])\n",
    "\n",
    "\n",
    "# cat_trf = ColumnTransformer([('cat',cat_pipe,[1,2,3,4,6,7])],\n",
    "#                            remainder= \"passthrough\").set_output(transform=\"pandas\")\n",
    "\n",
    "# num_pipe = Pipeline([(\"imputer\",SimpleImputer(strategy=\"mean\")),\n",
    "#                              (\"std\",StandardScaler())])\n",
    "\n",
    "# num_trf = ColumnTransformer([('num',num_pipe,[0,5,8,9,10,11,12,13,14,15])],\n",
    "#                            remainder= \"passthrough\").set_output(transform=\"pandas\")\n",
    "\n",
    "# pipe = Pipeline([(\"cat_pipe\", cat_trf),\n",
    "#                  ('num_pipe',num_trf)])\n",
    "\n",
    "# pipe.fit(X_test)"
   ]
  },
  {
   "cell_type": "code",
   "execution_count": 85,
   "id": "2a3c0a82",
   "metadata": {
    "execution": {
     "iopub.execute_input": "2024-11-30T18:10:59.502734Z",
     "iopub.status.busy": "2024-11-30T18:10:59.502357Z",
     "iopub.status.idle": "2024-11-30T18:10:59.506854Z",
     "shell.execute_reply": "2024-11-30T18:10:59.505836Z"
    },
    "papermill": {
     "duration": 0.055099,
     "end_time": "2024-11-30T18:10:59.508923",
     "exception": false,
     "start_time": "2024-11-30T18:10:59.453824",
     "status": "completed"
    },
    "tags": []
   },
   "outputs": [],
   "source": [
    "# X_test_trf = pipe.transform(X_test)"
   ]
  },
  {
   "cell_type": "code",
   "execution_count": 86,
   "id": "1f337f19",
   "metadata": {
    "execution": {
     "iopub.execute_input": "2024-11-30T18:10:59.605727Z",
     "iopub.status.busy": "2024-11-30T18:10:59.605341Z",
     "iopub.status.idle": "2024-11-30T18:10:59.609888Z",
     "shell.execute_reply": "2024-11-30T18:10:59.608849Z"
    },
    "papermill": {
     "duration": 0.055378,
     "end_time": "2024-11-30T18:10:59.611857",
     "exception": false,
     "start_time": "2024-11-30T18:10:59.556479",
     "status": "completed"
    },
    "tags": []
   },
   "outputs": [],
   "source": [
    "# X_test_trf.head()"
   ]
  },
  {
   "attachments": {
    "fdd2f5a1-64f7-44c4-b1d8-878ff0297144.png": {
     "image/png": "[encoded data removed]"
    }
   },
   "cell_type": "markdown",
   "id": "031ed176",
   "metadata": {
    "papermill": {
     "duration": 0.047478,
     "end_time": "2024-11-30T18:10:59.706629",
     "exception": false,
     "start_time": "2024-11-30T18:10:59.659151",
     "status": "completed"
    },
    "tags": []
   },
   "source": [
    "![image.png](attachment:fdd2f5a1-64f7-44c4-b1d8-878ff0297144.png)"
   ]
  },
  {
   "cell_type": "code",
   "execution_count": 87,
   "id": "d079b5fe",
   "metadata": {
    "execution": {
     "iopub.execute_input": "2024-11-30T18:10:59.804498Z",
     "iopub.status.busy": "2024-11-30T18:10:59.803500Z",
     "iopub.status.idle": "2024-11-30T18:10:59.808017Z",
     "shell.execute_reply": "2024-11-30T18:10:59.807023Z"
    },
    "papermill": {
     "duration": 0.056176,
     "end_time": "2024-11-30T18:10:59.809958",
     "exception": false,
     "start_time": "2024-11-30T18:10:59.753782",
     "status": "completed"
    },
    "tags": []
   },
   "outputs": [],
   "source": [
    "# from sklearn.model_selection import GridSearchCV, RandomizedSearchCV\n"
   ]
  },
  {
   "cell_type": "code",
   "execution_count": 88,
   "id": "4b278165",
   "metadata": {
    "execution": {
     "iopub.execute_input": "2024-11-30T18:10:59.907286Z",
     "iopub.status.busy": "2024-11-30T18:10:59.906444Z",
     "iopub.status.idle": "2024-11-30T18:10:59.910990Z",
     "shell.execute_reply": "2024-11-30T18:10:59.910010Z"
    },
    "papermill": {
     "duration": 0.055276,
     "end_time": "2024-11-30T18:10:59.912947",
     "exception": false,
     "start_time": "2024-11-30T18:10:59.857671",
     "status": "completed"
    },
    "tags": []
   },
   "outputs": [],
   "source": [
    "# from sklearn.linear_model import LogisticRegression\n",
    "# model = LogisticRegression(random_state=3, class_weight=\"balanced\")\n",
    "# param_grid = {\n",
    "#     'penalty' : ['l1','l2'],\n",
    "#     'C' : [0.01,0.1,1,10],\n",
    "#     'solver' : ['newton-cholesky','saga']\n",
    "# }"
   ]
  },
  {
   "cell_type": "code",
   "execution_count": 89,
   "id": "93f8b69f",
   "metadata": {
    "execution": {
     "iopub.execute_input": "2024-11-30T18:11:00.009650Z",
     "iopub.status.busy": "2024-11-30T18:11:00.008888Z",
     "iopub.status.idle": "2024-11-30T18:11:00.013991Z",
     "shell.execute_reply": "2024-11-30T18:11:00.012812Z"
    },
    "papermill": {
     "duration": 0.055769,
     "end_time": "2024-11-30T18:11:00.016110",
     "exception": false,
     "start_time": "2024-11-30T18:10:59.960341",
     "status": "completed"
    },
    "tags": []
   },
   "outputs": [],
   "source": [
    "# rscv = RandomizedSearchCV(estimator=model, param_distributions=param_grid, cv=5, scoring='accuracy', n_jobs=-1)"
   ]
  },
  {
   "cell_type": "code",
   "execution_count": 90,
   "id": "b5de1828",
   "metadata": {
    "execution": {
     "iopub.execute_input": "2024-11-30T18:11:00.114205Z",
     "iopub.status.busy": "2024-11-30T18:11:00.113182Z",
     "iopub.status.idle": "2024-11-30T18:11:00.117771Z",
     "shell.execute_reply": "2024-11-30T18:11:00.116803Z"
    },
    "papermill": {
     "duration": 0.055728,
     "end_time": "2024-11-30T18:11:00.119828",
     "exception": false,
     "start_time": "2024-11-30T18:11:00.064100",
     "status": "completed"
    },
    "tags": []
   },
   "outputs": [],
   "source": [
    "# rscv.fit(X_train_trf, y_train)"
   ]
  },
  {
   "attachments": {
    "7357b173-5084-4465-9315-901b653e384b.png": {
     "image/png": "[encoded data removed]"
    }
   },
   "cell_type": "markdown",
   "id": "edb92569",
   "metadata": {
    "papermill": {
     "duration": 0.047743,
     "end_time": "2024-11-30T18:11:00.215401",
     "exception": false,
     "start_time": "2024-11-30T18:11:00.167658",
     "status": "completed"
    },
    "tags": []
   },
   "source": [
    "![image.png](attachment:7357b173-5084-4465-9315-901b653e384b.png)"
   ]
  },
  {
   "cell_type": "code",
   "execution_count": 91,
   "id": "8532dddf",
   "metadata": {
    "execution": {
     "iopub.execute_input": "2024-11-30T18:11:00.313565Z",
     "iopub.status.busy": "2024-11-30T18:11:00.312722Z",
     "iopub.status.idle": "2024-11-30T18:11:00.317353Z",
     "shell.execute_reply": "2024-11-30T18:11:00.316395Z"
    },
    "papermill": {
     "duration": 0.055635,
     "end_time": "2024-11-30T18:11:00.319443",
     "exception": false,
     "start_time": "2024-11-30T18:11:00.263808",
     "status": "completed"
    },
    "tags": []
   },
   "outputs": [],
   "source": [
    "# print(\"Best Parameters:\", rscv.best_params_)"
   ]
  },
  {
   "attachments": {
    "e8cec9b9-6fad-43c9-9d99-dfc504716d5d.png": {
     "image/png": "[encoded data removed]"
    }
   },
   "cell_type": "markdown",
   "id": "05994ef4",
   "metadata": {
    "papermill": {
     "duration": 0.04788,
     "end_time": "2024-11-30T18:11:00.416470",
     "exception": false,
     "start_time": "2024-11-30T18:11:00.368590",
     "status": "completed"
    },
    "tags": []
   },
   "source": [
    "![image.png](attachment:e8cec9b9-6fad-43c9-9d99-dfc504716d5d.png)"
   ]
  },
  {
   "cell_type": "code",
   "execution_count": 92,
   "id": "8c750a36",
   "metadata": {
    "execution": {
     "iopub.execute_input": "2024-11-30T18:11:00.516634Z",
     "iopub.status.busy": "2024-11-30T18:11:00.515784Z",
     "iopub.status.idle": "2024-11-30T18:11:00.520224Z",
     "shell.execute_reply": "2024-11-30T18:11:00.519137Z"
    },
    "papermill": {
     "duration": 0.056591,
     "end_time": "2024-11-30T18:11:00.522465",
     "exception": false,
     "start_time": "2024-11-30T18:11:00.465874",
     "status": "completed"
    },
    "tags": []
   },
   "outputs": [],
   "source": [
    "# best_model = rscv.best_estimator_"
   ]
  },
  {
   "cell_type": "code",
   "execution_count": 93,
   "id": "051a09e1",
   "metadata": {
    "execution": {
     "iopub.execute_input": "2024-11-30T18:11:00.619598Z",
     "iopub.status.busy": "2024-11-30T18:11:00.619239Z",
     "iopub.status.idle": "2024-11-30T18:11:00.623911Z",
     "shell.execute_reply": "2024-11-30T18:11:00.622744Z"
    },
    "papermill": {
     "duration": 0.055903,
     "end_time": "2024-11-30T18:11:00.626090",
     "exception": false,
     "start_time": "2024-11-30T18:11:00.570187",
     "status": "completed"
    },
    "tags": []
   },
   "outputs": [],
   "source": [
    "# y_pred = best_model.predict(X_test_trf)"
   ]
  },
  {
   "cell_type": "code",
   "execution_count": 94,
   "id": "30c9429b",
   "metadata": {
    "execution": {
     "iopub.execute_input": "2024-11-30T18:11:00.723811Z",
     "iopub.status.busy": "2024-11-30T18:11:00.722798Z",
     "iopub.status.idle": "2024-11-30T18:11:00.727557Z",
     "shell.execute_reply": "2024-11-30T18:11:00.726617Z"
    },
    "papermill": {
     "duration": 0.055351,
     "end_time": "2024-11-30T18:11:00.729592",
     "exception": false,
     "start_time": "2024-11-30T18:11:00.674241",
     "status": "completed"
    },
    "tags": []
   },
   "outputs": [],
   "source": [
    "# # Convert predictions from 0/1 to 'yes'/'no' using LabelEncoder\n",
    "# # predictions_yes_no = has(y_pred)\n",
    "\n",
    "# # Create the submission DataFrame\n",
    "# submission = pd.DataFrame({\n",
    "#     'id': range(len(X_test)),  # Generate IDs based on the row index\n",
    "#     'target': y_pred  # Add the converted predictions\n",
    "# })\n",
    "\n",
    "# # Save predictions to a CSV file\n",
    "# submission.to_csv('submission.csv', index=False)"
   ]
  },
  {
   "cell_type": "markdown",
   "id": "b51ef289",
   "metadata": {
    "papermill": {
     "duration": 0.048547,
     "end_time": "2024-11-30T18:11:00.825491",
     "exception": false,
     "start_time": "2024-11-30T18:11:00.776944",
     "status": "completed"
    },
    "tags": []
   },
   "source": [
    "**I got 0.69365 public score by using LogisticRegression model**"
   ]
  },
  {
   "cell_type": "markdown",
   "id": "9d98033b",
   "metadata": {
    "papermill": {
     "duration": 0.047543,
     "end_time": "2024-11-30T18:11:00.920700",
     "exception": false,
     "start_time": "2024-11-30T18:11:00.873157",
     "status": "completed"
    },
    "tags": []
   },
   "source": [
    "# XGBOOST CLASSIFIER MODEL"
   ]
  },
  {
   "cell_type": "code",
   "execution_count": 95,
   "id": "965d45de",
   "metadata": {
    "execution": {
     "iopub.execute_input": "2024-11-30T18:11:01.018923Z",
     "iopub.status.busy": "2024-11-30T18:11:01.018446Z",
     "iopub.status.idle": "2024-11-30T18:11:01.193295Z",
     "shell.execute_reply": "2024-11-30T18:11:01.192301Z"
    },
    "papermill": {
     "duration": 0.227564,
     "end_time": "2024-11-30T18:11:01.195736",
     "exception": false,
     "start_time": "2024-11-30T18:11:00.968172",
     "status": "completed"
    },
    "tags": []
   },
   "outputs": [],
   "source": [
    "import pandas as pd\n",
    "from sklearn.model_selection import RandomizedSearchCV\n",
    "from xgboost import XGBClassifier\n",
    "from sklearn.metrics import f1_score\n",
    "from sklearn.preprocessing import LabelEncoder\n",
    "from sklearn.model_selection import train_test_split"
   ]
  },
  {
   "cell_type": "code",
   "execution_count": 96,
   "id": "38d13f2c",
   "metadata": {
    "execution": {
     "iopub.execute_input": "2024-11-30T18:11:01.316221Z",
     "iopub.status.busy": "2024-11-30T18:11:01.315384Z",
     "iopub.status.idle": "2024-11-30T18:11:01.399610Z",
     "shell.execute_reply": "2024-11-30T18:11:01.398445Z"
    },
    "papermill": {
     "duration": 0.145896,
     "end_time": "2024-11-30T18:11:01.402106",
     "exception": false,
     "start_time": "2024-11-30T18:11:01.256210",
     "status": "completed"
    },
    "tags": []
   },
   "outputs": [],
   "source": [
    "train = pd.read_csv('/kaggle/input/predict-the-success-of-bank-telemarketing/train.csv')\n",
    "test = pd.read_csv('/kaggle/input/predict-the-success-of-bank-telemarketing/test.csv')"
   ]
  },
  {
   "cell_type": "code",
   "execution_count": 97,
   "id": "08fea5b1",
   "metadata": {
    "execution": {
     "iopub.execute_input": "2024-11-30T18:11:01.501655Z",
     "iopub.status.busy": "2024-11-30T18:11:01.501251Z",
     "iopub.status.idle": "2024-11-30T18:11:01.531065Z",
     "shell.execute_reply": "2024-11-30T18:11:01.530100Z"
    },
    "papermill": {
     "duration": 0.081633,
     "end_time": "2024-11-30T18:11:01.533456",
     "exception": false,
     "start_time": "2024-11-30T18:11:01.451823",
     "status": "completed"
    },
    "tags": []
   },
   "outputs": [],
   "source": [
    "train['last_contact_date'] = pd.to_datetime(train['last contact date'])\n",
    "test['last_contact_date'] = pd.to_datetime(test['last contact date'])\n",
    "\n",
    "train['contact_year'] = train['last_contact_date'].dt.year\n",
    "train['contact_month'] = train['last_contact_date'].dt.month\n",
    "train['contact_day'] = train['last_contact_date'].dt.day\n",
    "\n",
    "test['contact_year'] = test['last_contact_date'].dt.year\n",
    "test['contact_month'] = test['last_contact_date'].dt.month\n",
    "test['contact_day'] = test['last_contact_date'].dt.day"
   ]
  },
  {
   "cell_type": "code",
   "execution_count": 98,
   "id": "4f8ebfb2",
   "metadata": {
    "execution": {
     "iopub.execute_input": "2024-11-30T18:11:01.683100Z",
     "iopub.status.busy": "2024-11-30T18:11:01.682675Z",
     "iopub.status.idle": "2024-11-30T18:11:01.694954Z",
     "shell.execute_reply": "2024-11-30T18:11:01.693950Z"
    },
    "papermill": {
     "duration": 0.063239,
     "end_time": "2024-11-30T18:11:01.697359",
     "exception": false,
     "start_time": "2024-11-30T18:11:01.634120",
     "status": "completed"
    },
    "tags": []
   },
   "outputs": [],
   "source": [
    "train = train.drop(columns=['last contact date', 'last_contact_date'])\n",
    "test = test.drop(columns=['last contact date', 'last_contact_date'])"
   ]
  },
  {
   "cell_type": "code",
   "execution_count": 99,
   "id": "f597b47a",
   "metadata": {
    "execution": {
     "iopub.execute_input": "2024-11-30T18:11:01.795565Z",
     "iopub.status.busy": "2024-11-30T18:11:01.795151Z",
     "iopub.status.idle": "2024-11-30T18:11:01.806049Z",
     "shell.execute_reply": "2024-11-30T18:11:01.805111Z"
    },
    "papermill": {
     "duration": 0.062115,
     "end_time": "2024-11-30T18:11:01.808270",
     "exception": false,
     "start_time": "2024-11-30T18:11:01.746155",
     "status": "completed"
    },
    "tags": []
   },
   "outputs": [],
   "source": [
    "train.drop(['contact', 'poutcome'], axis=1, inplace=True)\n",
    "test.drop(['contact', 'poutcome'], axis=1, inplace=True)"
   ]
  },
  {
   "cell_type": "code",
   "execution_count": 100,
   "id": "2f635a6f",
   "metadata": {
    "execution": {
     "iopub.execute_input": "2024-11-30T18:11:01.906059Z",
     "iopub.status.busy": "2024-11-30T18:11:01.905658Z",
     "iopub.status.idle": "2024-11-30T18:11:01.928191Z",
     "shell.execute_reply": "2024-11-30T18:11:01.927287Z"
    },
    "papermill": {
     "duration": 0.074553,
     "end_time": "2024-11-30T18:11:01.930809",
     "exception": false,
     "start_time": "2024-11-30T18:11:01.856256",
     "status": "completed"
    },
    "tags": []
   },
   "outputs": [],
   "source": [
    "train['job'] = train['job'].fillna(train['job'].mode().iloc[0])\n",
    "train['education'] = train['education'].fillna(train['education'].mode().iloc[0])\n",
    "\n",
    "test['job'] = test['job'].fillna(test['job'].mode().iloc[0])\n",
    "test['education'] = test['education'].fillna(test['education'].mode().iloc[0])"
   ]
  },
  {
   "cell_type": "code",
   "execution_count": 101,
   "id": "e4b5dae0",
   "metadata": {
    "execution": {
     "iopub.execute_input": "2024-11-30T18:11:02.030253Z",
     "iopub.status.busy": "2024-11-30T18:11:02.029610Z",
     "iopub.status.idle": "2024-11-30T18:11:02.039427Z",
     "shell.execute_reply": "2024-11-30T18:11:02.038324Z"
    },
    "papermill": {
     "duration": 0.061996,
     "end_time": "2024-11-30T18:11:02.041982",
     "exception": false,
     "start_time": "2024-11-30T18:11:01.979986",
     "status": "completed"
    },
    "tags": []
   },
   "outputs": [],
   "source": [
    "X_train = train.drop(columns=['target'])\n",
    "y_train = train['target']\n",
    "X_test = test"
   ]
  },
  {
   "cell_type": "code",
   "execution_count": 102,
   "id": "c7fc8b8a",
   "metadata": {
    "execution": {
     "iopub.execute_input": "2024-11-30T18:11:02.139909Z",
     "iopub.status.busy": "2024-11-30T18:11:02.139492Z",
     "iopub.status.idle": "2024-11-30T18:11:02.144542Z",
     "shell.execute_reply": "2024-11-30T18:11:02.143554Z"
    },
    "papermill": {
     "duration": 0.056304,
     "end_time": "2024-11-30T18:11:02.146583",
     "exception": false,
     "start_time": "2024-11-30T18:11:02.090279",
     "status": "completed"
    },
    "tags": []
   },
   "outputs": [],
   "source": [
    "from sklearn.compose import ColumnTransformer\n",
    "from sklearn.pipeline import Pipeline\n",
    "from sklearn.impute import SimpleImputer\n",
    "from sklearn.preprocessing import OneHotEncoder, StandardScaler"
   ]
  },
  {
   "cell_type": "code",
   "execution_count": 103,
   "id": "93cb16a2",
   "metadata": {
    "execution": {
     "iopub.execute_input": "2024-11-30T18:11:02.245280Z",
     "iopub.status.busy": "2024-11-30T18:11:02.244883Z",
     "iopub.status.idle": "2024-11-30T18:11:02.437427Z",
     "shell.execute_reply": "2024-11-30T18:11:02.436316Z"
    },
    "papermill": {
     "duration": 0.245523,
     "end_time": "2024-11-30T18:11:02.439799",
     "exception": false,
     "start_time": "2024-11-30T18:11:02.194276",
     "status": "completed"
    },
    "tags": []
   },
   "outputs": [
    {
     "data": {
      "text/html": [
       "<style>#sk-container-id-4 {color: black;background-color: white;}#sk-container-id-4 pre{padding: 0;}#sk-container-id-4 div.sk-toggleable {background-color: white;}#sk-container-id-4 label.sk-toggleable__label {cursor: pointer;display: block;width: 100%;margin-bottom: 0;padding: 0.3em;box-sizing: border-box;text-align: center;}#sk-container-id-4 label.sk-toggleable__label-arrow:before {content: \"▸\";float: left;margin-right: 0.25em;color: #696969;}#sk-container-id-4 label.sk-toggleable__label-arrow:hover:before {color: black;}#sk-container-id-4 div.sk-estimator:hover label.sk-toggleable__label-arrow:before {color: black;}#sk-container-id-4 div.sk-toggleable__content {max-height: 0;max-width: 0;overflow: hidden;text-align: left;background-color: #f0f8ff;}#sk-container-id-4 div.sk-toggleable__content pre {margin: 0.2em;color: black;border-radius: 0.25em;background-color: #f0f8ff;}#sk-container-id-4 input.sk-toggleable__control:checked~div.sk-toggleable__content {max-height: 200px;max-width: 100%;overflow: auto;}#sk-container-id-4 input.sk-toggleable__control:checked~label.sk-toggleable__label-arrow:before {content: \"▾\";}#sk-container-id-4 div.sk-estimator input.sk-toggleable__control:checked~label.sk-toggleable__label {background-color: #d4ebff;}#sk-container-id-4 div.sk-label input.sk-toggleable__control:checked~label.sk-toggleable__label {background-color: #d4ebff;}#sk-container-id-4 input.sk-hidden--visually {border: 0;clip: rect(1px 1px 1px 1px);clip: rect(1px, 1px, 1px, 1px);height: 1px;margin: -1px;overflow: hidden;padding: 0;position: absolute;width: 1px;}#sk-container-id-4 div.sk-estimator {font-family: monospace;background-color: #f0f8ff;border: 1px dotted black;border-radius: 0.25em;box-sizing: border-box;margin-bottom: 0.5em;}#sk-container-id-4 div.sk-estimator:hover {background-color: #d4ebff;}#sk-container-id-4 div.sk-parallel-item::after {content: \"\";width: 100%;border-bottom: 1px solid gray;flex-grow: 1;}#sk-container-id-4 div.sk-label:hover label.sk-toggleable__label {background-color: #d4ebff;}#sk-container-id-4 div.sk-serial::before {content: \"\";position: absolute;border-left: 1px solid gray;box-sizing: border-box;top: 0;bottom: 0;left: 50%;z-index: 0;}#sk-container-id-4 div.sk-serial {display: flex;flex-direction: column;align-items: center;background-color: white;padding-right: 0.2em;padding-left: 0.2em;position: relative;}#sk-container-id-4 div.sk-item {position: relative;z-index: 1;}#sk-container-id-4 div.sk-parallel {display: flex;align-items: stretch;justify-content: center;background-color: white;position: relative;}#sk-container-id-4 div.sk-item::before, #sk-container-id-4 div.sk-parallel-item::before {content: \"\";position: absolute;border-left: 1px solid gray;box-sizing: border-box;top: 0;bottom: 0;left: 50%;z-index: -1;}#sk-container-id-4 div.sk-parallel-item {display: flex;flex-direction: column;z-index: 1;position: relative;background-color: white;}#sk-container-id-4 div.sk-parallel-item:first-child::after {align-self: flex-end;width: 50%;}#sk-container-id-4 div.sk-parallel-item:last-child::after {align-self: flex-start;width: 50%;}#sk-container-id-4 div.sk-parallel-item:only-child::after {width: 0;}#sk-container-id-4 div.sk-dashed-wrapped {border: 1px dashed gray;margin: 0 0.4em 0.5em 0.4em;box-sizing: border-box;padding-bottom: 0.4em;background-color: white;}#sk-container-id-4 div.sk-label label {font-family: monospace;font-weight: bold;display: inline-block;line-height: 1.2em;}#sk-container-id-4 div.sk-label-container {text-align: center;}#sk-container-id-4 div.sk-container {/* jupyter's `normalize.less` sets `[hidden] { display: none; }` but bootstrap.min.css set `[hidden] { display: none !important; }` so we also need the `!important` here to be able to override the default hidden behavior on the sphinx rendered scikit-learn.org. See: https://github.com/scikit-learn/scikit-learn/issues/21755 */display: inline-block !important;position: relative;}#sk-container-id-4 div.sk-text-repr-fallback {display: none;}</style><div id=\"sk-container-id-4\" class=\"sk-top-container\"><div class=\"sk-text-repr-fallback\"><pre>Pipeline(steps=[(&#x27;cat_pipe&#x27;,\n",
       "                 ColumnTransformer(remainder=&#x27;passthrough&#x27;,\n",
       "                                   transformers=[(&#x27;cat&#x27;,\n",
       "                                                  Pipeline(steps=[(&#x27;imputer&#x27;,\n",
       "                                                                   SimpleImputer(strategy=&#x27;most_frequent&#x27;)),\n",
       "                                                                  (&#x27;ohe&#x27;,\n",
       "                                                                   OneHotEncoder(handle_unknown=&#x27;ignore&#x27;,\n",
       "                                                                                 sparse_output=False))]),\n",
       "                                                  [1, 2, 3, 4, 6, 7])])),\n",
       "                (&#x27;num_pipe&#x27;,\n",
       "                 ColumnTransformer(remainder=&#x27;passthrough&#x27;,\n",
       "                                   transformers=[(&#x27;num&#x27;,\n",
       "                                                  Pipeline(steps=[(&#x27;imputer&#x27;,\n",
       "                                                                   SimpleImputer()),\n",
       "                                                                  (&#x27;std&#x27;,\n",
       "                                                                   StandardScaler())]),\n",
       "                                                  [0, 5, 8, 9, 10, 11, 12, 13,\n",
       "                                                   14, 15])]))])</pre><b>In a Jupyter environment, please rerun this cell to show the HTML representation or trust the notebook. <br />On GitHub, the HTML representation is unable to render, please try loading this page with nbviewer.org.</b></div><div class=\"sk-container\" hidden><div class=\"sk-item sk-dashed-wrapped\"><div class=\"sk-label-container\"><div class=\"sk-label sk-toggleable\"><input class=\"sk-toggleable__control sk-hidden--visually\" id=\"sk-estimator-id-16\" type=\"checkbox\" ><label for=\"sk-estimator-id-16\" class=\"sk-toggleable__label sk-toggleable__label-arrow\">Pipeline</label><div class=\"sk-toggleable__content\"><pre>Pipeline(steps=[(&#x27;cat_pipe&#x27;,\n",
       "                 ColumnTransformer(remainder=&#x27;passthrough&#x27;,\n",
       "                                   transformers=[(&#x27;cat&#x27;,\n",
       "                                                  Pipeline(steps=[(&#x27;imputer&#x27;,\n",
       "                                                                   SimpleImputer(strategy=&#x27;most_frequent&#x27;)),\n",
       "                                                                  (&#x27;ohe&#x27;,\n",
       "                                                                   OneHotEncoder(handle_unknown=&#x27;ignore&#x27;,\n",
       "                                                                                 sparse_output=False))]),\n",
       "                                                  [1, 2, 3, 4, 6, 7])])),\n",
       "                (&#x27;num_pipe&#x27;,\n",
       "                 ColumnTransformer(remainder=&#x27;passthrough&#x27;,\n",
       "                                   transformers=[(&#x27;num&#x27;,\n",
       "                                                  Pipeline(steps=[(&#x27;imputer&#x27;,\n",
       "                                                                   SimpleImputer()),\n",
       "                                                                  (&#x27;std&#x27;,\n",
       "                                                                   StandardScaler())]),\n",
       "                                                  [0, 5, 8, 9, 10, 11, 12, 13,\n",
       "                                                   14, 15])]))])</pre></div></div></div><div class=\"sk-serial\"><div class=\"sk-item sk-dashed-wrapped\"><div class=\"sk-label-container\"><div class=\"sk-label sk-toggleable\"><input class=\"sk-toggleable__control sk-hidden--visually\" id=\"sk-estimator-id-17\" type=\"checkbox\" ><label for=\"sk-estimator-id-17\" class=\"sk-toggleable__label sk-toggleable__label-arrow\">cat_pipe: ColumnTransformer</label><div class=\"sk-toggleable__content\"><pre>ColumnTransformer(remainder=&#x27;passthrough&#x27;,\n",
       "                  transformers=[(&#x27;cat&#x27;,\n",
       "                                 Pipeline(steps=[(&#x27;imputer&#x27;,\n",
       "                                                  SimpleImputer(strategy=&#x27;most_frequent&#x27;)),\n",
       "                                                 (&#x27;ohe&#x27;,\n",
       "                                                  OneHotEncoder(handle_unknown=&#x27;ignore&#x27;,\n",
       "                                                                sparse_output=False))]),\n",
       "                                 [1, 2, 3, 4, 6, 7])])</pre></div></div></div><div class=\"sk-parallel\"><div class=\"sk-parallel-item\"><div class=\"sk-item\"><div class=\"sk-label-container\"><div class=\"sk-label sk-toggleable\"><input class=\"sk-toggleable__control sk-hidden--visually\" id=\"sk-estimator-id-18\" type=\"checkbox\" ><label for=\"sk-estimator-id-18\" class=\"sk-toggleable__label sk-toggleable__label-arrow\">cat</label><div class=\"sk-toggleable__content\"><pre>[1, 2, 3, 4, 6, 7]</pre></div></div></div><div class=\"sk-serial\"><div class=\"sk-item\"><div class=\"sk-serial\"><div class=\"sk-item\"><div class=\"sk-estimator sk-toggleable\"><input class=\"sk-toggleable__control sk-hidden--visually\" id=\"sk-estimator-id-19\" type=\"checkbox\" ><label for=\"sk-estimator-id-19\" class=\"sk-toggleable__label sk-toggleable__label-arrow\">SimpleImputer</label><div class=\"sk-toggleable__content\"><pre>SimpleImputer(strategy=&#x27;most_frequent&#x27;)</pre></div></div></div><div class=\"sk-item\"><div class=\"sk-estimator sk-toggleable\"><input class=\"sk-toggleable__control sk-hidden--visually\" id=\"sk-estimator-id-20\" type=\"checkbox\" ><label for=\"sk-estimator-id-20\" class=\"sk-toggleable__label sk-toggleable__label-arrow\">OneHotEncoder</label><div class=\"sk-toggleable__content\"><pre>OneHotEncoder(handle_unknown=&#x27;ignore&#x27;, sparse_output=False)</pre></div></div></div></div></div></div></div></div><div class=\"sk-parallel-item\"><div class=\"sk-item\"><div class=\"sk-label-container\"><div class=\"sk-label sk-toggleable\"><input class=\"sk-toggleable__control sk-hidden--visually\" id=\"sk-estimator-id-21\" type=\"checkbox\" ><label for=\"sk-estimator-id-21\" class=\"sk-toggleable__label sk-toggleable__label-arrow\">remainder</label><div class=\"sk-toggleable__content\"><pre>[&#x27;age&#x27;, &#x27;balance&#x27;, &#x27;duration&#x27;, &#x27;campaign&#x27;, &#x27;pdays&#x27;, &#x27;previous&#x27;, &#x27;contact_year&#x27;, &#x27;contact_month&#x27;, &#x27;contact_day&#x27;]</pre></div></div></div><div class=\"sk-serial\"><div class=\"sk-item\"><div class=\"sk-estimator sk-toggleable\"><input class=\"sk-toggleable__control sk-hidden--visually\" id=\"sk-estimator-id-22\" type=\"checkbox\" ><label for=\"sk-estimator-id-22\" class=\"sk-toggleable__label sk-toggleable__label-arrow\">passthrough</label><div class=\"sk-toggleable__content\"><pre>passthrough</pre></div></div></div></div></div></div></div></div><div class=\"sk-item sk-dashed-wrapped\"><div class=\"sk-label-container\"><div class=\"sk-label sk-toggleable\"><input class=\"sk-toggleable__control sk-hidden--visually\" id=\"sk-estimator-id-23\" type=\"checkbox\" ><label for=\"sk-estimator-id-23\" class=\"sk-toggleable__label sk-toggleable__label-arrow\">num_pipe: ColumnTransformer</label><div class=\"sk-toggleable__content\"><pre>ColumnTransformer(remainder=&#x27;passthrough&#x27;,\n",
       "                  transformers=[(&#x27;num&#x27;,\n",
       "                                 Pipeline(steps=[(&#x27;imputer&#x27;, SimpleImputer()),\n",
       "                                                 (&#x27;std&#x27;, StandardScaler())]),\n",
       "                                 [0, 5, 8, 9, 10, 11, 12, 13, 14, 15])])</pre></div></div></div><div class=\"sk-parallel\"><div class=\"sk-parallel-item\"><div class=\"sk-item\"><div class=\"sk-label-container\"><div class=\"sk-label sk-toggleable\"><input class=\"sk-toggleable__control sk-hidden--visually\" id=\"sk-estimator-id-24\" type=\"checkbox\" ><label for=\"sk-estimator-id-24\" class=\"sk-toggleable__label sk-toggleable__label-arrow\">num</label><div class=\"sk-toggleable__content\"><pre>[0, 5, 8, 9, 10, 11, 12, 13, 14, 15]</pre></div></div></div><div class=\"sk-serial\"><div class=\"sk-item\"><div class=\"sk-serial\"><div class=\"sk-item\"><div class=\"sk-estimator sk-toggleable\"><input class=\"sk-toggleable__control sk-hidden--visually\" id=\"sk-estimator-id-25\" type=\"checkbox\" ><label for=\"sk-estimator-id-25\" class=\"sk-toggleable__label sk-toggleable__label-arrow\">SimpleImputer</label><div class=\"sk-toggleable__content\"><pre>SimpleImputer()</pre></div></div></div><div class=\"sk-item\"><div class=\"sk-estimator sk-toggleable\"><input class=\"sk-toggleable__control sk-hidden--visually\" id=\"sk-estimator-id-26\" type=\"checkbox\" ><label for=\"sk-estimator-id-26\" class=\"sk-toggleable__label sk-toggleable__label-arrow\">StandardScaler</label><div class=\"sk-toggleable__content\"><pre>StandardScaler()</pre></div></div></div></div></div></div></div></div><div class=\"sk-parallel-item\"><div class=\"sk-item\"><div class=\"sk-label-container\"><div class=\"sk-label sk-toggleable\"><input class=\"sk-toggleable__control sk-hidden--visually\" id=\"sk-estimator-id-27\" type=\"checkbox\" ><label for=\"sk-estimator-id-27\" class=\"sk-toggleable__label sk-toggleable__label-arrow\">remainder</label><div class=\"sk-toggleable__content\"><pre>[&#x27;cat__job_blue-collar&#x27;, &#x27;cat__job_entrepreneur&#x27;, &#x27;cat__job_housemaid&#x27;, &#x27;cat__job_management&#x27;, &#x27;cat__job_self-employed&#x27;, &#x27;cat__job_services&#x27;, &#x27;cat__education_tertiary&#x27;, &#x27;cat__default_no&#x27;, &#x27;cat__default_yes&#x27;, &#x27;cat__housing_no&#x27;, &#x27;cat__housing_yes&#x27;, &#x27;cat__loan_no&#x27;, &#x27;cat__loan_yes&#x27;, &#x27;remainder__age&#x27;, &#x27;remainder__balance&#x27;, &#x27;remainder__duration&#x27;, &#x27;remainder__campaign&#x27;, &#x27;remainder__pdays&#x27;, &#x27;remainder__previous&#x27;, &#x27;remainder__contact_year&#x27;, &#x27;remainder__contact_month&#x27;, &#x27;remainder__contact_day&#x27;]</pre></div></div></div><div class=\"sk-serial\"><div class=\"sk-item\"><div class=\"sk-estimator sk-toggleable\"><input class=\"sk-toggleable__control sk-hidden--visually\" id=\"sk-estimator-id-28\" type=\"checkbox\" ><label for=\"sk-estimator-id-28\" class=\"sk-toggleable__label sk-toggleable__label-arrow\">passthrough</label><div class=\"sk-toggleable__content\"><pre>passthrough</pre></div></div></div></div></div></div></div></div></div></div></div></div>"
      ],
      "text/plain": [
       "Pipeline(steps=[('cat_pipe',\n",
       "                 ColumnTransformer(remainder='passthrough',\n",
       "                                   transformers=[('cat',\n",
       "                                                  Pipeline(steps=[('imputer',\n",
       "                                                                   SimpleImputer(strategy='most_frequent')),\n",
       "                                                                  ('ohe',\n",
       "                                                                   OneHotEncoder(handle_unknown='ignore',\n",
       "                                                                                 sparse_output=False))]),\n",
       "                                                  [1, 2, 3, 4, 6, 7])])),\n",
       "                ('num_pipe',\n",
       "                 ColumnTransformer(remainder='passthrough',\n",
       "                                   transformers=[('num',\n",
       "                                                  Pipeline(steps=[('imputer',\n",
       "                                                                   SimpleImputer()),\n",
       "                                                                  ('std',\n",
       "                                                                   StandardScaler())]),\n",
       "                                                  [0, 5, 8, 9, 10, 11, 12, 13,\n",
       "                                                   14, 15])]))])"
      ]
     },
     "execution_count": 103,
     "metadata": {},
     "output_type": "execute_result"
    }
   ],
   "source": [
    "cat_pipe = Pipeline([(\"imputer\", SimpleImputer(strategy=\"most_frequent\")),\n",
    "                     (\"ohe\", OneHotEncoder(handle_unknown=\"ignore\", sparse_output=False))])\n",
    "\n",
    "cat_trf = ColumnTransformer([('cat', cat_pipe, [1, 2, 3, 4, 6, 7])],\n",
    "                            remainder=\"passthrough\").set_output(transform=\"pandas\")\n",
    "\n",
    "# Numerical pipeline\n",
    "num_pipe = Pipeline([(\"imputer\", SimpleImputer(strategy=\"mean\")),\n",
    "                     (\"std\", StandardScaler())])\n",
    "\n",
    "num_trf = ColumnTransformer([('num', num_pipe, [0, 5, 8, 9, 10, 11, 12, 13, 14, 15])],\n",
    "                            remainder=\"passthrough\").set_output(transform=\"pandas\")\n",
    "\n",
    "# Full pipeline\n",
    "pipe = Pipeline([(\"cat_pipe\", cat_trf),\n",
    "                 ('num_pipe', num_trf)])\n",
    "\n",
    "pipe.fit(X_train)"
   ]
  },
  {
   "cell_type": "code",
   "execution_count": 104,
   "id": "79372719",
   "metadata": {
    "execution": {
     "iopub.execute_input": "2024-11-30T18:11:02.537931Z",
     "iopub.status.busy": "2024-11-30T18:11:02.537517Z",
     "iopub.status.idle": "2024-11-30T18:11:02.626767Z",
     "shell.execute_reply": "2024-11-30T18:11:02.625663Z"
    },
    "papermill": {
     "duration": 0.140882,
     "end_time": "2024-11-30T18:11:02.629209",
     "exception": false,
     "start_time": "2024-11-30T18:11:02.488327",
     "status": "completed"
    },
    "tags": []
   },
   "outputs": [],
   "source": [
    "X_train_trf = pipe.transform(X_train)"
   ]
  },
  {
   "cell_type": "code",
   "execution_count": 105,
   "id": "fc0e46bc",
   "metadata": {
    "execution": {
     "iopub.execute_input": "2024-11-30T18:11:02.726878Z",
     "iopub.status.busy": "2024-11-30T18:11:02.725836Z",
     "iopub.status.idle": "2024-11-30T18:11:02.806112Z",
     "shell.execute_reply": "2024-11-30T18:11:02.804988Z"
    },
    "papermill": {
     "duration": 0.131485,
     "end_time": "2024-11-30T18:11:02.808665",
     "exception": false,
     "start_time": "2024-11-30T18:11:02.677180",
     "status": "completed"
    },
    "tags": []
   },
   "outputs": [],
   "source": [
    "pipe.fit(X_test)\n",
    "X_test_trf = pipe.transform(X_test)"
   ]
  },
  {
   "cell_type": "code",
   "execution_count": 106,
   "id": "549847a3",
   "metadata": {
    "execution": {
     "iopub.execute_input": "2024-11-30T18:11:02.912140Z",
     "iopub.status.busy": "2024-11-30T18:11:02.911698Z",
     "iopub.status.idle": "2024-11-30T18:11:02.918515Z",
     "shell.execute_reply": "2024-11-30T18:11:02.917310Z"
    },
    "papermill": {
     "duration": 0.063264,
     "end_time": "2024-11-30T18:11:02.920985",
     "exception": false,
     "start_time": "2024-11-30T18:11:02.857721",
     "status": "completed"
    },
    "tags": []
   },
   "outputs": [],
   "source": [
    "param_grid = {\n",
    "    'n_estimators': [100, 200, 300],\n",
    "    'learning_rate': [0.01, 0.1, 0.2],\n",
    "    'max_depth': [3, 5, 7],\n",
    "    'min_child_weight': [1, 3, 5],\n",
    "    'subsample': [0.8, 1.0],\n",
    "    'colsample_bytree': [0.8, 1.0],\n",
    "    'scale_pos_weight': [2],  # Set scale_pos_weight to 2 for handling class imbalance\n",
    "}"
   ]
  },
  {
   "cell_type": "code",
   "execution_count": 107,
   "id": "08f20de8",
   "metadata": {
    "execution": {
     "iopub.execute_input": "2024-11-30T18:11:03.021447Z",
     "iopub.status.busy": "2024-11-30T18:11:03.021029Z",
     "iopub.status.idle": "2024-11-30T18:11:03.026437Z",
     "shell.execute_reply": "2024-11-30T18:11:03.025334Z"
    },
    "papermill": {
     "duration": 0.059047,
     "end_time": "2024-11-30T18:11:03.028650",
     "exception": false,
     "start_time": "2024-11-30T18:11:02.969603",
     "status": "completed"
    },
    "tags": []
   },
   "outputs": [],
   "source": [
    "model = XGBClassifier(random_state=3, use_label_encoder=False, eval_metric='logloss')"
   ]
  },
  {
   "cell_type": "code",
   "execution_count": 108,
   "id": "76b59840",
   "metadata": {
    "execution": {
     "iopub.execute_input": "2024-11-30T18:11:03.128397Z",
     "iopub.status.busy": "2024-11-30T18:11:03.128010Z",
     "iopub.status.idle": "2024-11-30T18:11:03.133526Z",
     "shell.execute_reply": "2024-11-30T18:11:03.132510Z"
    },
    "papermill": {
     "duration": 0.057955,
     "end_time": "2024-11-30T18:11:03.135838",
     "exception": false,
     "start_time": "2024-11-30T18:11:03.077883",
     "status": "completed"
    },
    "tags": []
   },
   "outputs": [],
   "source": [
    "rscv = RandomizedSearchCV(estimator=model, param_distributions=param_grid, cv=5, scoring='accuracy', n_jobs=-1)"
   ]
  },
  {
   "cell_type": "code",
   "execution_count": 109,
   "id": "4eadfe2e",
   "metadata": {
    "execution": {
     "iopub.execute_input": "2024-11-30T18:11:03.233857Z",
     "iopub.status.busy": "2024-11-30T18:11:03.233288Z",
     "iopub.status.idle": "2024-11-30T18:11:25.280654Z",
     "shell.execute_reply": "2024-11-30T18:11:25.279694Z"
    },
    "papermill": {
     "duration": 22.099053,
     "end_time": "2024-11-30T18:11:25.282990",
     "exception": false,
     "start_time": "2024-11-30T18:11:03.183937",
     "status": "completed"
    },
    "tags": []
   },
   "outputs": [
    {
     "data": {
      "text/html": [
       "<style>#sk-container-id-5 {color: black;background-color: white;}#sk-container-id-5 pre{padding: 0;}#sk-container-id-5 div.sk-toggleable {background-color: white;}#sk-container-id-5 label.sk-toggleable__label {cursor: pointer;display: block;width: 100%;margin-bottom: 0;padding: 0.3em;box-sizing: border-box;text-align: center;}#sk-container-id-5 label.sk-toggleable__label-arrow:before {content: \"▸\";float: left;margin-right: 0.25em;color: #696969;}#sk-container-id-5 label.sk-toggleable__label-arrow:hover:before {color: black;}#sk-container-id-5 div.sk-estimator:hover label.sk-toggleable__label-arrow:before {color: black;}#sk-container-id-5 div.sk-toggleable__content {max-height: 0;max-width: 0;overflow: hidden;text-align: left;background-color: #f0f8ff;}#sk-container-id-5 div.sk-toggleable__content pre {margin: 0.2em;color: black;border-radius: 0.25em;background-color: #f0f8ff;}#sk-container-id-5 input.sk-toggleable__control:checked~div.sk-toggleable__content {max-height: 200px;max-width: 100%;overflow: auto;}#sk-container-id-5 input.sk-toggleable__control:checked~label.sk-toggleable__label-arrow:before {content: \"▾\";}#sk-container-id-5 div.sk-estimator input.sk-toggleable__control:checked~label.sk-toggleable__label {background-color: #d4ebff;}#sk-container-id-5 div.sk-label input.sk-toggleable__control:checked~label.sk-toggleable__label {background-color: #d4ebff;}#sk-container-id-5 input.sk-hidden--visually {border: 0;clip: rect(1px 1px 1px 1px);clip: rect(1px, 1px, 1px, 1px);height: 1px;margin: -1px;overflow: hidden;padding: 0;position: absolute;width: 1px;}#sk-container-id-5 div.sk-estimator {font-family: monospace;background-color: #f0f8ff;border: 1px dotted black;border-radius: 0.25em;box-sizing: border-box;margin-bottom: 0.5em;}#sk-container-id-5 div.sk-estimator:hover {background-color: #d4ebff;}#sk-container-id-5 div.sk-parallel-item::after {content: \"\";width: 100%;border-bottom: 1px solid gray;flex-grow: 1;}#sk-container-id-5 div.sk-label:hover label.sk-toggleable__label {background-color: #d4ebff;}#sk-container-id-5 div.sk-serial::before {content: \"\";position: absolute;border-left: 1px solid gray;box-sizing: border-box;top: 0;bottom: 0;left: 50%;z-index: 0;}#sk-container-id-5 div.sk-serial {display: flex;flex-direction: column;align-items: center;background-color: white;padding-right: 0.2em;padding-left: 0.2em;position: relative;}#sk-container-id-5 div.sk-item {position: relative;z-index: 1;}#sk-container-id-5 div.sk-parallel {display: flex;align-items: stretch;justify-content: center;background-color: white;position: relative;}#sk-container-id-5 div.sk-item::before, #sk-container-id-5 div.sk-parallel-item::before {content: \"\";position: absolute;border-left: 1px solid gray;box-sizing: border-box;top: 0;bottom: 0;left: 50%;z-index: -1;}#sk-container-id-5 div.sk-parallel-item {display: flex;flex-direction: column;z-index: 1;position: relative;background-color: white;}#sk-container-id-5 div.sk-parallel-item:first-child::after {align-self: flex-end;width: 50%;}#sk-container-id-5 div.sk-parallel-item:last-child::after {align-self: flex-start;width: 50%;}#sk-container-id-5 div.sk-parallel-item:only-child::after {width: 0;}#sk-container-id-5 div.sk-dashed-wrapped {border: 1px dashed gray;margin: 0 0.4em 0.5em 0.4em;box-sizing: border-box;padding-bottom: 0.4em;background-color: white;}#sk-container-id-5 div.sk-label label {font-family: monospace;font-weight: bold;display: inline-block;line-height: 1.2em;}#sk-container-id-5 div.sk-label-container {text-align: center;}#sk-container-id-5 div.sk-container {/* jupyter's `normalize.less` sets `[hidden] { display: none; }` but bootstrap.min.css set `[hidden] { display: none !important; }` so we also need the `!important` here to be able to override the default hidden behavior on the sphinx rendered scikit-learn.org. See: https://github.com/scikit-learn/scikit-learn/issues/21755 */display: inline-block !important;position: relative;}#sk-container-id-5 div.sk-text-repr-fallback {display: none;}</style><div id=\"sk-container-id-5\" class=\"sk-top-container\"><div class=\"sk-text-repr-fallback\"><pre>RandomizedSearchCV(cv=5,\n",
       "                   estimator=XGBClassifier(base_score=None, booster=None,\n",
       "                                           callbacks=None,\n",
       "                                           colsample_bylevel=None,\n",
       "                                           colsample_bynode=None,\n",
       "                                           colsample_bytree=None, device=None,\n",
       "                                           early_stopping_rounds=None,\n",
       "                                           enable_categorical=False,\n",
       "                                           eval_metric=&#x27;logloss&#x27;,\n",
       "                                           feature_types=None, gamma=None,\n",
       "                                           grow_policy=None,\n",
       "                                           importance_type=None,\n",
       "                                           interaction_constraints=None,\n",
       "                                           learning...\n",
       "                                           monotone_constraints=None,\n",
       "                                           multi_strategy=None,\n",
       "                                           n_estimators=None, n_jobs=None,\n",
       "                                           num_parallel_tree=None,\n",
       "                                           random_state=3, ...),\n",
       "                   n_jobs=-1,\n",
       "                   param_distributions={&#x27;colsample_bytree&#x27;: [0.8, 1.0],\n",
       "                                        &#x27;learning_rate&#x27;: [0.01, 0.1, 0.2],\n",
       "                                        &#x27;max_depth&#x27;: [3, 5, 7],\n",
       "                                        &#x27;min_child_weight&#x27;: [1, 3, 5],\n",
       "                                        &#x27;n_estimators&#x27;: [100, 200, 300],\n",
       "                                        &#x27;scale_pos_weight&#x27;: [2],\n",
       "                                        &#x27;subsample&#x27;: [0.8, 1.0]},\n",
       "                   scoring=&#x27;accuracy&#x27;)</pre><b>In a Jupyter environment, please rerun this cell to show the HTML representation or trust the notebook. <br />On GitHub, the HTML representation is unable to render, please try loading this page with nbviewer.org.</b></div><div class=\"sk-container\" hidden><div class=\"sk-item sk-dashed-wrapped\"><div class=\"sk-label-container\"><div class=\"sk-label sk-toggleable\"><input class=\"sk-toggleable__control sk-hidden--visually\" id=\"sk-estimator-id-29\" type=\"checkbox\" ><label for=\"sk-estimator-id-29\" class=\"sk-toggleable__label sk-toggleable__label-arrow\">RandomizedSearchCV</label><div class=\"sk-toggleable__content\"><pre>RandomizedSearchCV(cv=5,\n",
       "                   estimator=XGBClassifier(base_score=None, booster=None,\n",
       "                                           callbacks=None,\n",
       "                                           colsample_bylevel=None,\n",
       "                                           colsample_bynode=None,\n",
       "                                           colsample_bytree=None, device=None,\n",
       "                                           early_stopping_rounds=None,\n",
       "                                           enable_categorical=False,\n",
       "                                           eval_metric=&#x27;logloss&#x27;,\n",
       "                                           feature_types=None, gamma=None,\n",
       "                                           grow_policy=None,\n",
       "                                           importance_type=None,\n",
       "                                           interaction_constraints=None,\n",
       "                                           learning...\n",
       "                                           monotone_constraints=None,\n",
       "                                           multi_strategy=None,\n",
       "                                           n_estimators=None, n_jobs=None,\n",
       "                                           num_parallel_tree=None,\n",
       "                                           random_state=3, ...),\n",
       "                   n_jobs=-1,\n",
       "                   param_distributions={&#x27;colsample_bytree&#x27;: [0.8, 1.0],\n",
       "                                        &#x27;learning_rate&#x27;: [0.01, 0.1, 0.2],\n",
       "                                        &#x27;max_depth&#x27;: [3, 5, 7],\n",
       "                                        &#x27;min_child_weight&#x27;: [1, 3, 5],\n",
       "                                        &#x27;n_estimators&#x27;: [100, 200, 300],\n",
       "                                        &#x27;scale_pos_weight&#x27;: [2],\n",
       "                                        &#x27;subsample&#x27;: [0.8, 1.0]},\n",
       "                   scoring=&#x27;accuracy&#x27;)</pre></div></div></div><div class=\"sk-parallel\"><div class=\"sk-parallel-item\"><div class=\"sk-item\"><div class=\"sk-label-container\"><div class=\"sk-label sk-toggleable\"><input class=\"sk-toggleable__control sk-hidden--visually\" id=\"sk-estimator-id-30\" type=\"checkbox\" ><label for=\"sk-estimator-id-30\" class=\"sk-toggleable__label sk-toggleable__label-arrow\">estimator: XGBClassifier</label><div class=\"sk-toggleable__content\"><pre>XGBClassifier(base_score=None, booster=None, callbacks=None,\n",
       "              colsample_bylevel=None, colsample_bynode=None,\n",
       "              colsample_bytree=None, device=None, early_stopping_rounds=None,\n",
       "              enable_categorical=False, eval_metric=&#x27;logloss&#x27;,\n",
       "              feature_types=None, gamma=None, grow_policy=None,\n",
       "              importance_type=None, interaction_constraints=None,\n",
       "              learning_rate=None, max_bin=None, max_cat_threshold=None,\n",
       "              max_cat_to_onehot=None, max_delta_step=None, max_depth=None,\n",
       "              max_leaves=None, min_child_weight=None, missing=nan,\n",
       "              monotone_constraints=None, multi_strategy=None, n_estimators=None,\n",
       "              n_jobs=None, num_parallel_tree=None, random_state=3, ...)</pre></div></div></div><div class=\"sk-serial\"><div class=\"sk-item\"><div class=\"sk-estimator sk-toggleable\"><input class=\"sk-toggleable__control sk-hidden--visually\" id=\"sk-estimator-id-31\" type=\"checkbox\" ><label for=\"sk-estimator-id-31\" class=\"sk-toggleable__label sk-toggleable__label-arrow\">XGBClassifier</label><div class=\"sk-toggleable__content\"><pre>XGBClassifier(base_score=None, booster=None, callbacks=None,\n",
       "              colsample_bylevel=None, colsample_bynode=None,\n",
       "              colsample_bytree=None, device=None, early_stopping_rounds=None,\n",
       "              enable_categorical=False, eval_metric=&#x27;logloss&#x27;,\n",
       "              feature_types=None, gamma=None, grow_policy=None,\n",
       "              importance_type=None, interaction_constraints=None,\n",
       "              learning_rate=None, max_bin=None, max_cat_threshold=None,\n",
       "              max_cat_to_onehot=None, max_delta_step=None, max_depth=None,\n",
       "              max_leaves=None, min_child_weight=None, missing=nan,\n",
       "              monotone_constraints=None, multi_strategy=None, n_estimators=None,\n",
       "              n_jobs=None, num_parallel_tree=None, random_state=3, ...)</pre></div></div></div></div></div></div></div></div></div></div>"
      ],
      "text/plain": [
       "RandomizedSearchCV(cv=5,\n",
       "                   estimator=XGBClassifier(base_score=None, booster=None,\n",
       "                                           callbacks=None,\n",
       "                                           colsample_bylevel=None,\n",
       "                                           colsample_bynode=None,\n",
       "                                           colsample_bytree=None, device=None,\n",
       "                                           early_stopping_rounds=None,\n",
       "                                           enable_categorical=False,\n",
       "                                           eval_metric='logloss',\n",
       "                                           feature_types=None, gamma=None,\n",
       "                                           grow_policy=None,\n",
       "                                           importance_type=None,\n",
       "                                           interaction_constraints=None,\n",
       "                                           learning...\n",
       "                                           monotone_constraints=None,\n",
       "                                           multi_strategy=None,\n",
       "                                           n_estimators=None, n_jobs=None,\n",
       "                                           num_parallel_tree=None,\n",
       "                                           random_state=3, ...),\n",
       "                   n_jobs=-1,\n",
       "                   param_distributions={'colsample_bytree': [0.8, 1.0],\n",
       "                                        'learning_rate': [0.01, 0.1, 0.2],\n",
       "                                        'max_depth': [3, 5, 7],\n",
       "                                        'min_child_weight': [1, 3, 5],\n",
       "                                        'n_estimators': [100, 200, 300],\n",
       "                                        'scale_pos_weight': [2],\n",
       "                                        'subsample': [0.8, 1.0]},\n",
       "                   scoring='accuracy')"
      ]
     },
     "execution_count": 109,
     "metadata": {},
     "output_type": "execute_result"
    }
   ],
   "source": [
    "from sklearn.preprocessing import LabelEncoder\n",
    "\n",
    "# Encode target labels (y_train) from ['yes', 'no'] to [1, 0]\n",
    "label_encoder = LabelEncoder()\n",
    "y_train_encoded = label_encoder.fit_transform(y_train)\n",
    "\n",
    "# Now proceed with the model fitting using y_train_encoded\n",
    "rscv.fit(X_train_trf, y_train_encoded)"
   ]
  },
  {
   "cell_type": "code",
   "execution_count": 110,
   "id": "7e1392a7",
   "metadata": {
    "execution": {
     "iopub.execute_input": "2024-11-30T18:11:25.385454Z",
     "iopub.status.busy": "2024-11-30T18:11:25.384663Z",
     "iopub.status.idle": "2024-11-30T18:11:25.389994Z",
     "shell.execute_reply": "2024-11-30T18:11:25.388865Z"
    },
    "papermill": {
     "duration": 0.058512,
     "end_time": "2024-11-30T18:11:25.392093",
     "exception": false,
     "start_time": "2024-11-30T18:11:25.333581",
     "status": "completed"
    },
    "tags": []
   },
   "outputs": [],
   "source": [
    "best_model = rscv.best_estimator_\n"
   ]
  },
  {
   "cell_type": "code",
   "execution_count": 111,
   "id": "96a77d04",
   "metadata": {
    "execution": {
     "iopub.execute_input": "2024-11-30T18:11:25.489991Z",
     "iopub.status.busy": "2024-11-30T18:11:25.489084Z",
     "iopub.status.idle": "2024-11-30T18:11:25.525630Z",
     "shell.execute_reply": "2024-11-30T18:11:25.524834Z"
    },
    "papermill": {
     "duration": 0.088099,
     "end_time": "2024-11-30T18:11:25.528285",
     "exception": false,
     "start_time": "2024-11-30T18:11:25.440186",
     "status": "completed"
    },
    "tags": []
   },
   "outputs": [],
   "source": [
    "y_pred = best_model.predict(X_test_trf)"
   ]
  },
  {
   "cell_type": "code",
   "execution_count": 112,
   "id": "a7673999",
   "metadata": {
    "execution": {
     "iopub.execute_input": "2024-11-30T18:11:25.627194Z",
     "iopub.status.busy": "2024-11-30T18:11:25.626806Z",
     "iopub.status.idle": "2024-11-30T18:11:25.632512Z",
     "shell.execute_reply": "2024-11-30T18:11:25.631482Z"
    },
    "papermill": {
     "duration": 0.058136,
     "end_time": "2024-11-30T18:11:25.634641",
     "exception": false,
     "start_time": "2024-11-30T18:11:25.576505",
     "status": "completed"
    },
    "tags": []
   },
   "outputs": [],
   "source": [
    "y_pred_decoded = label_encoder.inverse_transform(y_pred)"
   ]
  },
  {
   "cell_type": "code",
   "execution_count": 113,
   "id": "52dbabbb",
   "metadata": {
    "execution": {
     "iopub.execute_input": "2024-11-30T18:11:25.732653Z",
     "iopub.status.busy": "2024-11-30T18:11:25.732273Z",
     "iopub.status.idle": "2024-11-30T18:11:27.529793Z",
     "shell.execute_reply": "2024-11-30T18:11:27.528303Z"
    },
    "papermill": {
     "duration": 1.849653,
     "end_time": "2024-11-30T18:11:27.532205",
     "exception": false,
     "start_time": "2024-11-30T18:11:25.682552",
     "status": "completed"
    },
    "tags": []
   },
   "outputs": [
    {
     "name": "stdout",
     "output_type": "stream",
     "text": [
      "Classification Report (Training Data):\n",
      "\n",
      "              precision    recall  f1-score   support\n",
      "\n",
      "          no       0.95      0.91      0.93     33384\n",
      "         yes       0.58      0.73      0.65      5827\n",
      "\n",
      "    accuracy                           0.88     39211\n",
      "   macro avg       0.77      0.82      0.79     39211\n",
      "weighted avg       0.90      0.88      0.89     39211\n",
      "\n"
     ]
    }
   ],
   "source": [
    "from sklearn.metrics import classification_report\n",
    "y_pred = best_model.predict(X_test_trf)\n",
    "\n",
    "# Decode the predictions back to 'yes'/'no'\n",
    "y_pred_decoded = label_encoder.inverse_transform(y_pred)\n",
    "\n",
    "# Classification report for training data predictions\n",
    "y_train_pred = best_model.predict(X_train_trf)\n",
    "y_train_pred_decoded = label_encoder.inverse_transform(y_train_pred)\n",
    "\n",
    "print(\"Classification Report (Training Data):\\n\")\n",
    "print(classification_report(y_train, y_train_pred_decoded))"
   ]
  },
  {
   "cell_type": "code",
   "execution_count": 114,
   "id": "79eb84a5",
   "metadata": {
    "execution": {
     "iopub.execute_input": "2024-11-30T18:11:27.631670Z",
     "iopub.status.busy": "2024-11-30T18:11:27.631192Z",
     "iopub.status.idle": "2024-11-30T18:11:27.648697Z",
     "shell.execute_reply": "2024-11-30T18:11:27.647589Z"
    },
    "papermill": {
     "duration": 0.06995,
     "end_time": "2024-11-30T18:11:27.651083",
     "exception": false,
     "start_time": "2024-11-30T18:11:27.581133",
     "status": "completed"
    },
    "tags": []
   },
   "outputs": [],
   "source": [
    "submission = pd.DataFrame({\n",
    "    'id': range(len(X_test)),  # Generate IDs based on the row index\n",
    "    'target': y_pred_decoded  # Add the decoded predictions\n",
    "})\n",
    "\n",
    "# Save predictions to a CSV file\n",
    "submission.to_csv('submission.csv', index=False)"
   ]
  },
  {
   "cell_type": "markdown",
   "id": "abe73a16",
   "metadata": {
    "papermill": {
     "duration": 0.048386,
     "end_time": "2024-11-30T18:11:27.748037",
     "exception": false,
     "start_time": "2024-11-30T18:11:27.699651",
     "status": "completed"
    },
    "tags": []
   },
   "source": [
    "**I got 0.76031 public score by using XGBoost Classifier model**"
   ]
  },
  {
   "cell_type": "markdown",
   "id": "eab8f95a",
   "metadata": {
    "papermill": {
     "duration": 0.04858,
     "end_time": "2024-11-30T18:11:27.846309",
     "exception": false,
     "start_time": "2024-11-30T18:11:27.797729",
     "status": "completed"
    },
    "tags": []
   },
   "source": [
    "# RandomForest"
   ]
  },
  {
   "cell_type": "code",
   "execution_count": 115,
   "id": "856ac752",
   "metadata": {
    "execution": {
     "iopub.execute_input": "2024-11-30T18:11:27.947821Z",
     "iopub.status.busy": "2024-11-30T18:11:27.946631Z",
     "iopub.status.idle": "2024-11-30T18:11:27.951273Z",
     "shell.execute_reply": "2024-11-30T18:11:27.950402Z"
    },
    "papermill": {
     "duration": 0.057231,
     "end_time": "2024-11-30T18:11:27.953428",
     "exception": false,
     "start_time": "2024-11-30T18:11:27.896197",
     "status": "completed"
    },
    "tags": []
   },
   "outputs": [],
   "source": [
    "# import pandas as pd\n",
    "# from sklearn.model_selection import RandomizedSearchCV\n",
    "# from sklearn.ensemble import RandomForestClassifier\n",
    "# from sklearn.metrics import f1_score\n",
    "# from sklearn.preprocessing import LabelEncoder\n",
    "# from sklearn.model_selection import train_test_split"
   ]
  },
  {
   "cell_type": "code",
   "execution_count": 116,
   "id": "12045c95",
   "metadata": {
    "execution": {
     "iopub.execute_input": "2024-11-30T18:11:28.051367Z",
     "iopub.status.busy": "2024-11-30T18:11:28.050664Z",
     "iopub.status.idle": "2024-11-30T18:11:28.055077Z",
     "shell.execute_reply": "2024-11-30T18:11:28.054028Z"
    },
    "papermill": {
     "duration": 0.055704,
     "end_time": "2024-11-30T18:11:28.057106",
     "exception": false,
     "start_time": "2024-11-30T18:11:28.001402",
     "status": "completed"
    },
    "tags": []
   },
   "outputs": [],
   "source": [
    "# train = pd.read_csv('/kaggle/input/predict-the-success-of-bank-telemarketing/train.csv')\n",
    "# test = pd.read_csv('/kaggle/input/predict-the-success-of-bank-telemarketing/test.csv')"
   ]
  },
  {
   "cell_type": "code",
   "execution_count": 117,
   "id": "07589c24",
   "metadata": {
    "execution": {
     "iopub.execute_input": "2024-11-30T18:11:28.156236Z",
     "iopub.status.busy": "2024-11-30T18:11:28.155799Z",
     "iopub.status.idle": "2024-11-30T18:11:28.160784Z",
     "shell.execute_reply": "2024-11-30T18:11:28.159671Z"
    },
    "papermill": {
     "duration": 0.057658,
     "end_time": "2024-11-30T18:11:28.162864",
     "exception": false,
     "start_time": "2024-11-30T18:11:28.105206",
     "status": "completed"
    },
    "tags": []
   },
   "outputs": [],
   "source": [
    "# train['last_contact_date'] = pd.to_datetime(train['last contact date'])\n",
    "# test['last_contact_date'] = pd.to_datetime(test['last contact date'])\n",
    "\n",
    "# train['contact_year'] = train['last_contact_date'].dt.year\n",
    "# train['contact_month'] = train['last_contact_date'].dt.month\n",
    "# train['contact_day'] = train['last_contact_date'].dt.day\n",
    "\n",
    "# test['contact_year'] = test['last_contact_date'].dt.year\n",
    "# test['contact_month'] = test['last_contact_date'].dt.month\n",
    "# test['contact_day'] = test['last_contact_date'].dt.day\n",
    "\n",
    "# # Drop the original 'last contact date' column\n",
    "# train = train.drop(columns=['last contact date', 'last_contact_date'])\n",
    "# test = test.drop(columns=['last contact date', 'last_contact_date'])"
   ]
  },
  {
   "cell_type": "code",
   "execution_count": 118,
   "id": "8ba5008c",
   "metadata": {
    "execution": {
     "iopub.execute_input": "2024-11-30T18:11:28.265532Z",
     "iopub.status.busy": "2024-11-30T18:11:28.265125Z",
     "iopub.status.idle": "2024-11-30T18:11:28.269894Z",
     "shell.execute_reply": "2024-11-30T18:11:28.268913Z"
    },
    "papermill": {
     "duration": 0.058201,
     "end_time": "2024-11-30T18:11:28.272128",
     "exception": false,
     "start_time": "2024-11-30T18:11:28.213927",
     "status": "completed"
    },
    "tags": []
   },
   "outputs": [],
   "source": [
    "# train.drop(['contact', 'poutcome'], axis=1, inplace=True)\n",
    "# test.drop(['contact', 'poutcome'], axis=1, inplace=True)\n",
    "\n",
    "# # Fill missing values\n",
    "# train['job'] = train['job'].fillna(train['job'].mode().iloc[0])\n",
    "# train['education'] = train['education'].fillna(train['education'].mode().iloc[0])\n",
    "\n",
    "# test['job'] = test['job'].fillna(test['job'].mode().iloc[0])\n",
    "# test['education'] = test['education'].fillna(test['education'].mode().iloc[0])"
   ]
  },
  {
   "cell_type": "code",
   "execution_count": 119,
   "id": "64f88db3",
   "metadata": {
    "execution": {
     "iopub.execute_input": "2024-11-30T18:11:28.371608Z",
     "iopub.status.busy": "2024-11-30T18:11:28.371247Z",
     "iopub.status.idle": "2024-11-30T18:11:28.375919Z",
     "shell.execute_reply": "2024-11-30T18:11:28.374782Z"
    },
    "papermill": {
     "duration": 0.05663,
     "end_time": "2024-11-30T18:11:28.377954",
     "exception": false,
     "start_time": "2024-11-30T18:11:28.321324",
     "status": "completed"
    },
    "tags": []
   },
   "outputs": [],
   "source": [
    "# X_train = train.drop(columns=['target'])\n",
    "# y_train = train['target']\n",
    "# X_test = test\n"
   ]
  },
  {
   "cell_type": "code",
   "execution_count": 120,
   "id": "e874bb08",
   "metadata": {
    "execution": {
     "iopub.execute_input": "2024-11-30T18:11:28.477245Z",
     "iopub.status.busy": "2024-11-30T18:11:28.476849Z",
     "iopub.status.idle": "2024-11-30T18:11:28.481290Z",
     "shell.execute_reply": "2024-11-30T18:11:28.480425Z"
    },
    "papermill": {
     "duration": 0.056025,
     "end_time": "2024-11-30T18:11:28.483340",
     "exception": false,
     "start_time": "2024-11-30T18:11:28.427315",
     "status": "completed"
    },
    "tags": []
   },
   "outputs": [],
   "source": [
    "# X_train.isna().sum()"
   ]
  },
  {
   "attachments": {
    "2dbb8010-2ad7-4bd3-b2fb-64ddf6d9c03c.png": {
     "image/png": "[encoded data removed]"
    }
   },
   "cell_type": "markdown",
   "id": "ea99c225",
   "metadata": {
    "papermill": {
     "duration": 0.048143,
     "end_time": "2024-11-30T18:11:28.581633",
     "exception": false,
     "start_time": "2024-11-30T18:11:28.533490",
     "status": "completed"
    },
    "tags": []
   },
   "source": [
    "![image.png](attachment:2dbb8010-2ad7-4bd3-b2fb-64ddf6d9c03c.png)"
   ]
  },
  {
   "cell_type": "code",
   "execution_count": 121,
   "id": "28057386",
   "metadata": {
    "execution": {
     "iopub.execute_input": "2024-11-30T18:11:28.679650Z",
     "iopub.status.busy": "2024-11-30T18:11:28.679251Z",
     "iopub.status.idle": "2024-11-30T18:11:28.683980Z",
     "shell.execute_reply": "2024-11-30T18:11:28.682946Z"
    },
    "papermill": {
     "duration": 0.056785,
     "end_time": "2024-11-30T18:11:28.686151",
     "exception": false,
     "start_time": "2024-11-30T18:11:28.629366",
     "status": "completed"
    },
    "tags": []
   },
   "outputs": [],
   "source": [
    "# from sklearn.compose import ColumnTransformer\n",
    "# from sklearn.pipeline import Pipeline\n",
    "# from sklearn.impute import SimpleImputer\n",
    "# from sklearn.preprocessing import OneHotEncoder, StandardScaler"
   ]
  },
  {
   "cell_type": "code",
   "execution_count": 122,
   "id": "f5f33182",
   "metadata": {
    "execution": {
     "iopub.execute_input": "2024-11-30T18:11:28.786460Z",
     "iopub.status.busy": "2024-11-30T18:11:28.786077Z",
     "iopub.status.idle": "2024-11-30T18:11:28.790875Z",
     "shell.execute_reply": "2024-11-30T18:11:28.790021Z"
    },
    "papermill": {
     "duration": 0.05802,
     "end_time": "2024-11-30T18:11:28.792957",
     "exception": false,
     "start_time": "2024-11-30T18:11:28.734937",
     "status": "completed"
    },
    "tags": []
   },
   "outputs": [],
   "source": [
    "# # Categorical features pipeline\n",
    "# cat_pipe = Pipeline([\n",
    "#     (\"imputer\", SimpleImputer(strategy=\"most_frequent\")),\n",
    "#     (\"ohe\", OneHotEncoder(handle_unknown=\"ignore\", sparse_output=False))\n",
    "# ])\n",
    "\n",
    "# cat_trf = ColumnTransformer([('cat', cat_pipe, [1, 2, 3, 4, 6, 7])], remainder=\"passthrough\").set_output(transform=\"pandas\")\n",
    "\n",
    "# # Numerical features pipeline\n",
    "# num_pipe = Pipeline([\n",
    "#     (\"imputer\", SimpleImputer(strategy=\"mean\")),\n",
    "#     (\"std\", StandardScaler())\n",
    "# ])\n",
    "\n",
    "# num_trf = ColumnTransformer([('num', num_pipe, [0, 5, 8, 9, 10, 11, 12, 13, 14, 15])], remainder=\"passthrough\").set_output(transform=\"pandas\")\n",
    "\n",
    "# # Combining categorical and numerical pipelines\n",
    "# pipe = Pipeline([(\"cat_pipe\", cat_trf), ('num_pipe', num_trf)])\n",
    "\n",
    "# # Fit and transform the training data\n",
    "# pipe.fit(X_train)\n",
    "\n",
    "# X_train_trf = pipe.transform(X_train)"
   ]
  },
  {
   "cell_type": "code",
   "execution_count": 123,
   "id": "58c48b36",
   "metadata": {
    "execution": {
     "iopub.execute_input": "2024-11-30T18:11:28.892399Z",
     "iopub.status.busy": "2024-11-30T18:11:28.892025Z",
     "iopub.status.idle": "2024-11-30T18:11:28.896595Z",
     "shell.execute_reply": "2024-11-30T18:11:28.895722Z"
    },
    "papermill": {
     "duration": 0.056677,
     "end_time": "2024-11-30T18:11:28.898655",
     "exception": false,
     "start_time": "2024-11-30T18:11:28.841978",
     "status": "completed"
    },
    "tags": []
   },
   "outputs": [],
   "source": [
    "# pipe.fit(X_test)\n",
    "\n",
    "# X_test_trf = pipe.transform(X_test)"
   ]
  },
  {
   "cell_type": "code",
   "execution_count": 124,
   "id": "a2f4541b",
   "metadata": {
    "execution": {
     "iopub.execute_input": "2024-11-30T18:11:28.998955Z",
     "iopub.status.busy": "2024-11-30T18:11:28.998539Z",
     "iopub.status.idle": "2024-11-30T18:11:29.002975Z",
     "shell.execute_reply": "2024-11-30T18:11:29.001958Z"
    },
    "papermill": {
     "duration": 0.058116,
     "end_time": "2024-11-30T18:11:29.005036",
     "exception": false,
     "start_time": "2024-11-30T18:11:28.946920",
     "status": "completed"
    },
    "tags": []
   },
   "outputs": [],
   "source": [
    "# model = RandomForestClassifier(random_state=3, class_weight=\"balanced\")"
   ]
  },
  {
   "cell_type": "code",
   "execution_count": 125,
   "id": "6773dd32",
   "metadata": {
    "execution": {
     "iopub.execute_input": "2024-11-30T18:11:29.104477Z",
     "iopub.status.busy": "2024-11-30T18:11:29.104092Z",
     "iopub.status.idle": "2024-11-30T18:11:29.108569Z",
     "shell.execute_reply": "2024-11-30T18:11:29.107641Z"
    },
    "papermill": {
     "duration": 0.056017,
     "end_time": "2024-11-30T18:11:29.110533",
     "exception": false,
     "start_time": "2024-11-30T18:11:29.054516",
     "status": "completed"
    },
    "tags": []
   },
   "outputs": [],
   "source": [
    "# param_grid = {\n",
    "#     'n_estimators': [100, 200, 300, 500],\n",
    "#     'max_depth': [5, 10, 15, 20],\n",
    "#     'min_samples_split': [2, 5, 10],\n",
    "#     'min_samples_leaf': [1, 2, 4],\n",
    "#     'max_features': ['auto', 'sqrt', 'log2']\n",
    "# }"
   ]
  },
  {
   "cell_type": "code",
   "execution_count": 126,
   "id": "3db36530",
   "metadata": {
    "execution": {
     "iopub.execute_input": "2024-11-30T18:11:29.210434Z",
     "iopub.status.busy": "2024-11-30T18:11:29.210065Z",
     "iopub.status.idle": "2024-11-30T18:11:29.214814Z",
     "shell.execute_reply": "2024-11-30T18:11:29.213626Z"
    },
    "papermill": {
     "duration": 0.057033,
     "end_time": "2024-11-30T18:11:29.216935",
     "exception": false,
     "start_time": "2024-11-30T18:11:29.159902",
     "status": "completed"
    },
    "tags": []
   },
   "outputs": [],
   "source": [
    "# rscv = RandomizedSearchCV(estimator=model, param_distributions=param_grid, cv=5, scoring='accuracy', n_jobs=-1)"
   ]
  },
  {
   "cell_type": "code",
   "execution_count": 127,
   "id": "a69b38d2",
   "metadata": {
    "execution": {
     "iopub.execute_input": "2024-11-30T18:11:29.320939Z",
     "iopub.status.busy": "2024-11-30T18:11:29.319831Z",
     "iopub.status.idle": "2024-11-30T18:11:29.325011Z",
     "shell.execute_reply": "2024-11-30T18:11:29.323964Z"
    },
    "papermill": {
     "duration": 0.062504,
     "end_time": "2024-11-30T18:11:29.327937",
     "exception": false,
     "start_time": "2024-11-30T18:11:29.265433",
     "status": "completed"
    },
    "tags": []
   },
   "outputs": [],
   "source": [
    "# rscv.fit(X_train_trf, y_train)"
   ]
  },
  {
   "attachments": {
    "e6a8e7a7-df9c-4ec7-a0d4-b3ae05683af2.png": {
     "image/png": "[encoded data removed]"
    }
   },
   "cell_type": "markdown",
   "id": "804658d8",
   "metadata": {
    "papermill": {
     "duration": 0.049869,
     "end_time": "2024-11-30T18:11:29.450865",
     "exception": false,
     "start_time": "2024-11-30T18:11:29.400996",
     "status": "completed"
    },
    "tags": []
   },
   "source": [
    "![image.png](attachment:e6a8e7a7-df9c-4ec7-a0d4-b3ae05683af2.png)"
   ]
  },
  {
   "cell_type": "code",
   "execution_count": 128,
   "id": "09d08fe4",
   "metadata": {
    "execution": {
     "iopub.execute_input": "2024-11-30T18:11:29.566401Z",
     "iopub.status.busy": "2024-11-30T18:11:29.566019Z",
     "iopub.status.idle": "2024-11-30T18:11:29.571020Z",
     "shell.execute_reply": "2024-11-30T18:11:29.569980Z"
    },
    "papermill": {
     "duration": 0.071731,
     "end_time": "2024-11-30T18:11:29.573108",
     "exception": false,
     "start_time": "2024-11-30T18:11:29.501377",
     "status": "completed"
    },
    "tags": []
   },
   "outputs": [],
   "source": [
    "# print(\"Best Parameters:\", rscv.best_params_)\n",
    "\n",
    "# # Best model from RandomizedSearchCV\n",
    "# best_model = rscv.best_estimator_\n",
    "\n",
    "# # Predict on the test data\n",
    "# y_pred = best_model.predict(X_test_trf)\n",
    "\n",
    "# # Convert predictions from 0/1 to 'yes'/'no'\n",
    "# y_pred_converted = ['yes' if pred == 1 else 'no' for pred in y_pred]"
   ]
  },
  {
   "attachments": {
    "ba92c1ca-ed12-4392-ba3a-b1500a62d1a5.png": {
     "image/png": "[encoded data removed]"
    }
   },
   "cell_type": "markdown",
   "id": "17603288",
   "metadata": {
    "papermill": {
     "duration": 0.048969,
     "end_time": "2024-11-30T18:11:29.671413",
     "exception": false,
     "start_time": "2024-11-30T18:11:29.622444",
     "status": "completed"
    },
    "tags": []
   },
   "source": [
    "![image.png](attachment:ba92c1ca-ed12-4392-ba3a-b1500a62d1a5.png)"
   ]
  },
  {
   "cell_type": "code",
   "execution_count": 129,
   "id": "c750035f",
   "metadata": {
    "execution": {
     "iopub.execute_input": "2024-11-30T18:11:29.780673Z",
     "iopub.status.busy": "2024-11-30T18:11:29.779614Z",
     "iopub.status.idle": "2024-11-30T18:11:29.785311Z",
     "shell.execute_reply": "2024-11-30T18:11:29.784020Z"
    },
    "papermill": {
     "duration": 0.065917,
     "end_time": "2024-11-30T18:11:29.788012",
     "exception": false,
     "start_time": "2024-11-30T18:11:29.722095",
     "status": "completed"
    },
    "tags": []
   },
   "outputs": [],
   "source": [
    "# from sklearn.metrics import classification_report\n",
    "# print(classification_report(y_train, best_model.predict(X_train_trf)))"
   ]
  },
  {
   "attachments": {
    "d343300e-f5a6-4993-ad6d-5d6b7710f413.png": {
     "image/png": "[encoded data removed]"
    }
   },
   "cell_type": "markdown",
   "id": "f8b1316c",
   "metadata": {
    "papermill": {
     "duration": 0.050889,
     "end_time": "2024-11-30T18:11:29.899311",
     "exception": false,
     "start_time": "2024-11-30T18:11:29.848422",
     "status": "completed"
    },
    "tags": []
   },
   "source": [
    "![image.png](attachment:d343300e-f5a6-4993-ad6d-5d6b7710f413.png)"
   ]
  },
  {
   "cell_type": "code",
   "execution_count": 130,
   "id": "4c508f20",
   "metadata": {
    "execution": {
     "iopub.execute_input": "2024-11-30T18:11:30.004549Z",
     "iopub.status.busy": "2024-11-30T18:11:30.004164Z",
     "iopub.status.idle": "2024-11-30T18:11:30.009166Z",
     "shell.execute_reply": "2024-11-30T18:11:30.008033Z"
    },
    "papermill": {
     "duration": 0.06111,
     "end_time": "2024-11-30T18:11:30.011778",
     "exception": false,
     "start_time": "2024-11-30T18:11:29.950668",
     "status": "completed"
    },
    "tags": []
   },
   "outputs": [],
   "source": [
    "# submission = pd.DataFrame({\n",
    "#     'id': range(len(X_test)),  # Generate IDs based on the row index\n",
    "#     'target': y_pred_converted  # Add the converted predictions\n",
    "# })\n",
    "\n",
    "# # Save predictions to a CSV file\n",
    "# submission.to_csv('submission.csv', index=False)"
   ]
  },
  {
   "cell_type": "markdown",
   "id": "b6767cbe",
   "metadata": {
    "papermill": {
     "duration": 0.049934,
     "end_time": "2024-11-30T18:11:30.116305",
     "exception": false,
     "start_time": "2024-11-30T18:11:30.066371",
     "status": "completed"
    },
    "tags": []
   },
   "source": [
    "**I got 0.46260 public score by using RandomForest model**"
   ]
  },
  {
   "cell_type": "markdown",
   "id": "78e319cb",
   "metadata": {
    "papermill": {
     "duration": 0.049208,
     "end_time": "2024-11-30T18:11:30.214329",
     "exception": false,
     "start_time": "2024-11-30T18:11:30.165121",
     "status": "completed"
    },
    "tags": []
   },
   "source": [
    "# Comparision Chart for all Models"
   ]
  },
  {
   "cell_type": "code",
   "execution_count": 131,
   "id": "7b3ff3ac",
   "metadata": {
    "execution": {
     "iopub.execute_input": "2024-11-30T18:11:30.314434Z",
     "iopub.status.busy": "2024-11-30T18:11:30.313694Z",
     "iopub.status.idle": "2024-11-30T18:11:30.664996Z",
     "shell.execute_reply": "2024-11-30T18:11:30.663972Z"
    },
    "papermill": {
     "duration": 0.40448,
     "end_time": "2024-11-30T18:11:30.667833",
     "exception": false,
     "start_time": "2024-11-30T18:11:30.263353",
     "status": "completed"
    },
    "tags": []
   },
   "outputs": [
    {
     "data": {
      "image/png": "[encoded data removed]",
      "text/plain": [
       "<Figure size 1000x600 with 1 Axes>"
      ]
     },
     "metadata": {},
     "output_type": "display_data"
    }
   ],
   "source": [
    "models = ['Logistic Regression', 'Random Forest', 'DecisionTrees', 'XGBoost']\n",
    "accuracies = [0.69365, 0.46260, 0.46260, 0.76031]\n",
    "\n",
    "\n",
    "data = {'Model': models, 'Accuracy': accuracies}\n",
    "df = pd.DataFrame(data)\n",
    "\n",
    "\n",
    "sns.set(style=\"whitegrid\")\n",
    "\n",
    "\n",
    "plt.figure(figsize=(10, 6))\n",
    "sns.barplot(x='Accuracy', y='Model', data=df, palette='viridis')\n",
    "plt.title('Model Comparison - Accuracy Scores')\n",
    "plt.xlabel('Accuracy')\n",
    "plt.ylabel('Model')\n",
    "plt.show()"
   ]
  },
  {
   "cell_type": "markdown",
   "id": "44588911",
   "metadata": {
    "papermill": {
     "duration": 0.04893,
     "end_time": "2024-11-30T18:11:30.771069",
     "exception": false,
     "start_time": "2024-11-30T18:11:30.722139",
     "status": "completed"
    },
    "tags": []
   },
   "source": [
    "# As we can see from the above graph, XGBoost has got the highest accuracy score. Therefore we will use XGBoost Model for predicting our outputs."
   ]
  },
  {
   "cell_type": "code",
   "execution_count": 132,
   "id": "437d9439",
   "metadata": {
    "execution": {
     "iopub.execute_input": "2024-11-30T18:11:30.872859Z",
     "iopub.status.busy": "2024-11-30T18:11:30.872450Z",
     "iopub.status.idle": "2024-11-30T18:11:30.879974Z",
     "shell.execute_reply": "2024-11-30T18:11:30.879022Z"
    },
    "papermill": {
     "duration": 0.061879,
     "end_time": "2024-11-30T18:11:30.882017",
     "exception": false,
     "start_time": "2024-11-30T18:11:30.820138",
     "status": "completed"
    },
    "tags": []
   },
   "outputs": [
    {
     "name": "stdout",
     "output_type": "stream",
     "text": [
      "   id target\n",
      "0   0     no\n",
      "1   1     no\n",
      "2   2     no\n",
      "3   3     no\n",
      "4   4    yes\n"
     ]
    }
   ],
   "source": [
    "print(submission.head())  "
   ]
  }
 ],
 "metadata": {
  "kaggle": {
   "accelerator": "none",
   "dataSources": [
    {
     "databundleVersionId": 9578279,
     "sourceId": 85062,
     "sourceType": "competition"
    }
   ],
   "dockerImageVersionId": 30786,
   "isGpuEnabled": false,
   "isInternetEnabled": true,
   "language": "python",
   "sourceType": "notebook"
  },
  "kernelspec": {
   "display_name": "Python 3",
   "language": "python",
   "name": "python3"
  },
  "language_info": {
   "codemirror_mode": {
    "name": "ipython",
    "version": 3
   },
   "file_extension": ".py",
   "mimetype": "text/x-python",
   "name": "python",
   "nbconvert_exporter": "python",
   "pygments_lexer": "ipython3",
   "version": "3.10.14"
  },
  "papermill": {
   "default_parameters": {},
   "duration": 142.991379,
   "end_time": "2024-11-30T18:11:33.551471",
   "environment_variables": {},
   "exception": null,
   "input_path": "__notebook__.ipynb",
   "output_path": "__notebook__.ipynb",
   "parameters": {},
   "start_time": "2024-11-30T18:09:10.560092",
   "version": "2.6.0"
  }
 },
 "nbformat": 4,
 "nbformat_minor": 5
}
